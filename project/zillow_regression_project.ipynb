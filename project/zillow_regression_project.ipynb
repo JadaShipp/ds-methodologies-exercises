{
 "cells": [
  {
   "cell_type": "code",
   "execution_count": 1,
   "metadata": {},
   "outputs": [],
   "source": [
    "import pandas as pd\n",
    "import numpy as np\n",
    "import math\n",
    "\n",
    "from sklearn.linear_model import LinearRegression\n",
    "from sklearn.metrics import mean_squared_error as mse, r2_score,explained_variance_score\n",
    "import sklearn.model_selection\n",
    "\n",
    "from statsmodels.formula.api import ols\n",
    "from sklearn.model_selection import train_test_split\n",
    "\n",
    "from math import sqrt\n",
    "from scipy import stats\n",
    "\n",
    "import seaborn as sns\n",
    "import matplotlib.pyplot as plt\n",
    "%matplotlib inline\n",
    "\n",
    "import warnings\n",
    "warnings.filterwarnings(\"ignore\")\n",
    "\n",
    "import split_scale\n",
    "\n"
   ]
  },
  {
   "cell_type": "code",
   "execution_count": 2,
   "metadata": {},
   "outputs": [],
   "source": [
    "df = pd.read_csv('query_result.csv')"
   ]
  },
  {
   "cell_type": "code",
   "execution_count": 3,
   "metadata": {},
   "outputs": [
    {
     "data": {
      "text/html": [
       "<div>\n",
       "<style scoped>\n",
       "    .dataframe tbody tr th:only-of-type {\n",
       "        vertical-align: middle;\n",
       "    }\n",
       "\n",
       "    .dataframe tbody tr th {\n",
       "        vertical-align: top;\n",
       "    }\n",
       "\n",
       "    .dataframe thead th {\n",
       "        text-align: right;\n",
       "    }\n",
       "</style>\n",
       "<table border=\"1\" class=\"dataframe\">\n",
       "  <thead>\n",
       "    <tr style=\"text-align: right;\">\n",
       "      <th></th>\n",
       "      <th>parcelid</th>\n",
       "      <th>propertylandusetypeid</th>\n",
       "      <th>calculatedfinishedsquarefeet</th>\n",
       "      <th>taxamount</th>\n",
       "      <th>taxvaluedollarcnt</th>\n",
       "      <th>bedroomcnt</th>\n",
       "      <th>bathroomcnt</th>\n",
       "      <th>transactiondate</th>\n",
       "      <th>fips</th>\n",
       "    </tr>\n",
       "  </thead>\n",
       "  <tbody>\n",
       "    <tr>\n",
       "      <td>0</td>\n",
       "      <td>11289917</td>\n",
       "      <td>261</td>\n",
       "      <td>1458</td>\n",
       "      <td>2319.90</td>\n",
       "      <td>136104</td>\n",
       "      <td>3</td>\n",
       "      <td>2.0</td>\n",
       "      <td>2017-06-23</td>\n",
       "      <td>6037</td>\n",
       "    </tr>\n",
       "    <tr>\n",
       "      <td>1</td>\n",
       "      <td>11705026</td>\n",
       "      <td>261</td>\n",
       "      <td>1421</td>\n",
       "      <td>543.69</td>\n",
       "      <td>35606</td>\n",
       "      <td>2</td>\n",
       "      <td>1.0</td>\n",
       "      <td>2017-06-30</td>\n",
       "      <td>6037</td>\n",
       "    </tr>\n",
       "    <tr>\n",
       "      <td>2</td>\n",
       "      <td>14269464</td>\n",
       "      <td>261</td>\n",
       "      <td>2541</td>\n",
       "      <td>9819.72</td>\n",
       "      <td>880456</td>\n",
       "      <td>4</td>\n",
       "      <td>3.0</td>\n",
       "      <td>2017-06-01</td>\n",
       "      <td>6059</td>\n",
       "    </tr>\n",
       "    <tr>\n",
       "      <td>3</td>\n",
       "      <td>11389003</td>\n",
       "      <td>261</td>\n",
       "      <td>1650</td>\n",
       "      <td>7673.19</td>\n",
       "      <td>614000</td>\n",
       "      <td>3</td>\n",
       "      <td>2.0</td>\n",
       "      <td>2017-06-01</td>\n",
       "      <td>6037</td>\n",
       "    </tr>\n",
       "    <tr>\n",
       "      <td>4</td>\n",
       "      <td>11967869</td>\n",
       "      <td>261</td>\n",
       "      <td>693</td>\n",
       "      <td>3267.47</td>\n",
       "      <td>274237</td>\n",
       "      <td>2</td>\n",
       "      <td>1.0</td>\n",
       "      <td>2017-06-29</td>\n",
       "      <td>6037</td>\n",
       "    </tr>\n",
       "    <tr>\n",
       "      <td>...</td>\n",
       "      <td>...</td>\n",
       "      <td>...</td>\n",
       "      <td>...</td>\n",
       "      <td>...</td>\n",
       "      <td>...</td>\n",
       "      <td>...</td>\n",
       "      <td>...</td>\n",
       "      <td>...</td>\n",
       "      <td>...</td>\n",
       "    </tr>\n",
       "    <tr>\n",
       "      <td>14985</td>\n",
       "      <td>14339902</td>\n",
       "      <td>261</td>\n",
       "      <td>2526</td>\n",
       "      <td>5718.72</td>\n",
       "      <td>458903</td>\n",
       "      <td>5</td>\n",
       "      <td>3.0</td>\n",
       "      <td>2017-06-30</td>\n",
       "      <td>6059</td>\n",
       "    </tr>\n",
       "    <tr>\n",
       "      <td>14986</td>\n",
       "      <td>13940564</td>\n",
       "      <td>261</td>\n",
       "      <td>2735</td>\n",
       "      <td>1465.88</td>\n",
       "      <td>115387</td>\n",
       "      <td>5</td>\n",
       "      <td>3.0</td>\n",
       "      <td>2017-06-30</td>\n",
       "      <td>6059</td>\n",
       "    </tr>\n",
       "    <tr>\n",
       "      <td>14987</td>\n",
       "      <td>12945108</td>\n",
       "      <td>261</td>\n",
       "      <td>1536</td>\n",
       "      <td>3519.78</td>\n",
       "      <td>297097</td>\n",
       "      <td>3</td>\n",
       "      <td>2.0</td>\n",
       "      <td>2017-06-30</td>\n",
       "      <td>6037</td>\n",
       "    </tr>\n",
       "    <tr>\n",
       "      <td>14988</td>\n",
       "      <td>14214719</td>\n",
       "      <td>261</td>\n",
       "      <td>2655</td>\n",
       "      <td>8065.50</td>\n",
       "      <td>746963</td>\n",
       "      <td>5</td>\n",
       "      <td>3.0</td>\n",
       "      <td>2017-06-30</td>\n",
       "      <td>6059</td>\n",
       "    </tr>\n",
       "    <tr>\n",
       "      <td>14989</td>\n",
       "      <td>11464823</td>\n",
       "      <td>261</td>\n",
       "      <td>2305</td>\n",
       "      <td>6996.21</td>\n",
       "      <td>579047</td>\n",
       "      <td>4</td>\n",
       "      <td>3.0</td>\n",
       "      <td>2017-06-30</td>\n",
       "      <td>6037</td>\n",
       "    </tr>\n",
       "  </tbody>\n",
       "</table>\n",
       "<p>14990 rows × 9 columns</p>\n",
       "</div>"
      ],
      "text/plain": [
       "       parcelid  propertylandusetypeid  calculatedfinishedsquarefeet  \\\n",
       "0      11289917                    261                          1458   \n",
       "1      11705026                    261                          1421   \n",
       "2      14269464                    261                          2541   \n",
       "3      11389003                    261                          1650   \n",
       "4      11967869                    261                           693   \n",
       "...         ...                    ...                           ...   \n",
       "14985  14339902                    261                          2526   \n",
       "14986  13940564                    261                          2735   \n",
       "14987  12945108                    261                          1536   \n",
       "14988  14214719                    261                          2655   \n",
       "14989  11464823                    261                          2305   \n",
       "\n",
       "       taxamount  taxvaluedollarcnt  bedroomcnt  bathroomcnt transactiondate  \\\n",
       "0        2319.90             136104           3          2.0      2017-06-23   \n",
       "1         543.69              35606           2          1.0      2017-06-30   \n",
       "2        9819.72             880456           4          3.0      2017-06-01   \n",
       "3        7673.19             614000           3          2.0      2017-06-01   \n",
       "4        3267.47             274237           2          1.0      2017-06-29   \n",
       "...          ...                ...         ...          ...             ...   \n",
       "14985    5718.72             458903           5          3.0      2017-06-30   \n",
       "14986    1465.88             115387           5          3.0      2017-06-30   \n",
       "14987    3519.78             297097           3          2.0      2017-06-30   \n",
       "14988    8065.50             746963           5          3.0      2017-06-30   \n",
       "14989    6996.21             579047           4          3.0      2017-06-30   \n",
       "\n",
       "       fips  \n",
       "0      6037  \n",
       "1      6037  \n",
       "2      6059  \n",
       "3      6037  \n",
       "4      6037  \n",
       "...     ...  \n",
       "14985  6059  \n",
       "14986  6059  \n",
       "14987  6037  \n",
       "14988  6059  \n",
       "14989  6037  \n",
       "\n",
       "[14990 rows x 9 columns]"
      ]
     },
     "execution_count": 3,
     "metadata": {},
     "output_type": "execute_result"
    }
   ],
   "source": [
    "df"
   ]
  },
  {
   "cell_type": "code",
   "execution_count": 4,
   "metadata": {},
   "outputs": [
    {
     "name": "stdout",
     "output_type": "stream",
     "text": [
      "<class 'pandas.core.frame.DataFrame'>\n",
      "RangeIndex: 14990 entries, 0 to 14989\n",
      "Data columns (total 9 columns):\n",
      "parcelid                        14990 non-null int64\n",
      "propertylandusetypeid           14990 non-null int64\n",
      "calculatedfinishedsquarefeet    14990 non-null int64\n",
      "taxamount                       14989 non-null float64\n",
      "taxvaluedollarcnt               14990 non-null int64\n",
      "bedroomcnt                      14990 non-null int64\n",
      "bathroomcnt                     14990 non-null float64\n",
      "transactiondate                 14990 non-null object\n",
      "fips                            14990 non-null int64\n",
      "dtypes: float64(2), int64(6), object(1)\n",
      "memory usage: 1.0+ MB\n"
     ]
    }
   ],
   "source": [
    "df.info()"
   ]
  },
  {
   "cell_type": "code",
   "execution_count": 5,
   "metadata": {},
   "outputs": [
    {
     "data": {
      "text/plain": [
       "parcelid                          int64\n",
       "propertylandusetypeid             int64\n",
       "calculatedfinishedsquarefeet      int64\n",
       "taxamount                       float64\n",
       "taxvaluedollarcnt                 int64\n",
       "bedroomcnt                        int64\n",
       "bathroomcnt                     float64\n",
       "transactiondate                  object\n",
       "fips                             object\n",
       "dtype: object"
      ]
     },
     "execution_count": 5,
     "metadata": {},
     "output_type": "execute_result"
    }
   ],
   "source": [
    "df.astype({'fips': 'str'}).dtypes"
   ]
  },
  {
   "cell_type": "code",
   "execution_count": 6,
   "metadata": {},
   "outputs": [
    {
     "data": {
      "text/html": [
       "<div>\n",
       "<style scoped>\n",
       "    .dataframe tbody tr th:only-of-type {\n",
       "        vertical-align: middle;\n",
       "    }\n",
       "\n",
       "    .dataframe tbody tr th {\n",
       "        vertical-align: top;\n",
       "    }\n",
       "\n",
       "    .dataframe thead th {\n",
       "        text-align: right;\n",
       "    }\n",
       "</style>\n",
       "<table border=\"1\" class=\"dataframe\">\n",
       "  <thead>\n",
       "    <tr style=\"text-align: right;\">\n",
       "      <th></th>\n",
       "      <th>parcelid</th>\n",
       "      <th>propertylandusetypeid</th>\n",
       "      <th>calculatedfinishedsquarefeet</th>\n",
       "      <th>taxamount</th>\n",
       "      <th>taxvaluedollarcnt</th>\n",
       "      <th>bedroomcnt</th>\n",
       "      <th>bathroomcnt</th>\n",
       "      <th>transactiondate</th>\n",
       "      <th>fips</th>\n",
       "    </tr>\n",
       "  </thead>\n",
       "  <tbody>\n",
       "    <tr>\n",
       "      <td>0</td>\n",
       "      <td>11289917</td>\n",
       "      <td>261</td>\n",
       "      <td>1458</td>\n",
       "      <td>2319.90</td>\n",
       "      <td>136104</td>\n",
       "      <td>3</td>\n",
       "      <td>2.0</td>\n",
       "      <td>2017-06-23</td>\n",
       "      <td>6037</td>\n",
       "    </tr>\n",
       "    <tr>\n",
       "      <td>1</td>\n",
       "      <td>11705026</td>\n",
       "      <td>261</td>\n",
       "      <td>1421</td>\n",
       "      <td>543.69</td>\n",
       "      <td>35606</td>\n",
       "      <td>2</td>\n",
       "      <td>1.0</td>\n",
       "      <td>2017-06-30</td>\n",
       "      <td>6037</td>\n",
       "    </tr>\n",
       "    <tr>\n",
       "      <td>2</td>\n",
       "      <td>14269464</td>\n",
       "      <td>261</td>\n",
       "      <td>2541</td>\n",
       "      <td>9819.72</td>\n",
       "      <td>880456</td>\n",
       "      <td>4</td>\n",
       "      <td>3.0</td>\n",
       "      <td>2017-06-01</td>\n",
       "      <td>6059</td>\n",
       "    </tr>\n",
       "    <tr>\n",
       "      <td>3</td>\n",
       "      <td>11389003</td>\n",
       "      <td>261</td>\n",
       "      <td>1650</td>\n",
       "      <td>7673.19</td>\n",
       "      <td>614000</td>\n",
       "      <td>3</td>\n",
       "      <td>2.0</td>\n",
       "      <td>2017-06-01</td>\n",
       "      <td>6037</td>\n",
       "    </tr>\n",
       "    <tr>\n",
       "      <td>4</td>\n",
       "      <td>11967869</td>\n",
       "      <td>261</td>\n",
       "      <td>693</td>\n",
       "      <td>3267.47</td>\n",
       "      <td>274237</td>\n",
       "      <td>2</td>\n",
       "      <td>1.0</td>\n",
       "      <td>2017-06-29</td>\n",
       "      <td>6037</td>\n",
       "    </tr>\n",
       "  </tbody>\n",
       "</table>\n",
       "</div>"
      ],
      "text/plain": [
       "   parcelid  propertylandusetypeid  calculatedfinishedsquarefeet  taxamount  \\\n",
       "0  11289917                    261                          1458    2319.90   \n",
       "1  11705026                    261                          1421     543.69   \n",
       "2  14269464                    261                          2541    9819.72   \n",
       "3  11389003                    261                          1650    7673.19   \n",
       "4  11967869                    261                           693    3267.47   \n",
       "\n",
       "   taxvaluedollarcnt  bedroomcnt  bathroomcnt transactiondate  fips  \n",
       "0             136104           3          2.0      2017-06-23  6037  \n",
       "1              35606           2          1.0      2017-06-30  6037  \n",
       "2             880456           4          3.0      2017-06-01  6059  \n",
       "3             614000           3          2.0      2017-06-01  6037  \n",
       "4             274237           2          1.0      2017-06-29  6037  "
      ]
     },
     "execution_count": 6,
     "metadata": {},
     "output_type": "execute_result"
    }
   ],
   "source": [
    "df.head()"
   ]
  },
  {
   "cell_type": "code",
   "execution_count": 7,
   "metadata": {},
   "outputs": [],
   "source": [
    "df = df.rename(columns={'calculatedfinishedsquarefeet': 'square_feet', 'taxamount':'taxes', 'fips':'FIPS', 'taxvaluedollarcnt':'home_value', 'bedroomcnt':'bedroom_count', 'bathroomcnt':'bathroom_count'})"
   ]
  },
  {
   "cell_type": "code",
   "execution_count": 8,
   "metadata": {},
   "outputs": [
    {
     "data": {
      "text/html": [
       "<div>\n",
       "<style scoped>\n",
       "    .dataframe tbody tr th:only-of-type {\n",
       "        vertical-align: middle;\n",
       "    }\n",
       "\n",
       "    .dataframe tbody tr th {\n",
       "        vertical-align: top;\n",
       "    }\n",
       "\n",
       "    .dataframe thead th {\n",
       "        text-align: right;\n",
       "    }\n",
       "</style>\n",
       "<table border=\"1\" class=\"dataframe\">\n",
       "  <thead>\n",
       "    <tr style=\"text-align: right;\">\n",
       "      <th></th>\n",
       "      <th>square_feet</th>\n",
       "      <th>taxes</th>\n",
       "      <th>home_value</th>\n",
       "      <th>bedroom_count</th>\n",
       "      <th>bathroom_count</th>\n",
       "      <th>FIPS</th>\n",
       "    </tr>\n",
       "  </thead>\n",
       "  <tbody>\n",
       "    <tr>\n",
       "      <td>0</td>\n",
       "      <td>1458</td>\n",
       "      <td>2319.90</td>\n",
       "      <td>136104</td>\n",
       "      <td>3</td>\n",
       "      <td>2.0</td>\n",
       "      <td>6037</td>\n",
       "    </tr>\n",
       "    <tr>\n",
       "      <td>1</td>\n",
       "      <td>1421</td>\n",
       "      <td>543.69</td>\n",
       "      <td>35606</td>\n",
       "      <td>2</td>\n",
       "      <td>1.0</td>\n",
       "      <td>6037</td>\n",
       "    </tr>\n",
       "    <tr>\n",
       "      <td>2</td>\n",
       "      <td>2541</td>\n",
       "      <td>9819.72</td>\n",
       "      <td>880456</td>\n",
       "      <td>4</td>\n",
       "      <td>3.0</td>\n",
       "      <td>6059</td>\n",
       "    </tr>\n",
       "    <tr>\n",
       "      <td>3</td>\n",
       "      <td>1650</td>\n",
       "      <td>7673.19</td>\n",
       "      <td>614000</td>\n",
       "      <td>3</td>\n",
       "      <td>2.0</td>\n",
       "      <td>6037</td>\n",
       "    </tr>\n",
       "    <tr>\n",
       "      <td>4</td>\n",
       "      <td>693</td>\n",
       "      <td>3267.47</td>\n",
       "      <td>274237</td>\n",
       "      <td>2</td>\n",
       "      <td>1.0</td>\n",
       "      <td>6037</td>\n",
       "    </tr>\n",
       "    <tr>\n",
       "      <td>...</td>\n",
       "      <td>...</td>\n",
       "      <td>...</td>\n",
       "      <td>...</td>\n",
       "      <td>...</td>\n",
       "      <td>...</td>\n",
       "      <td>...</td>\n",
       "    </tr>\n",
       "    <tr>\n",
       "      <td>14985</td>\n",
       "      <td>2526</td>\n",
       "      <td>5718.72</td>\n",
       "      <td>458903</td>\n",
       "      <td>5</td>\n",
       "      <td>3.0</td>\n",
       "      <td>6059</td>\n",
       "    </tr>\n",
       "    <tr>\n",
       "      <td>14986</td>\n",
       "      <td>2735</td>\n",
       "      <td>1465.88</td>\n",
       "      <td>115387</td>\n",
       "      <td>5</td>\n",
       "      <td>3.0</td>\n",
       "      <td>6059</td>\n",
       "    </tr>\n",
       "    <tr>\n",
       "      <td>14987</td>\n",
       "      <td>1536</td>\n",
       "      <td>3519.78</td>\n",
       "      <td>297097</td>\n",
       "      <td>3</td>\n",
       "      <td>2.0</td>\n",
       "      <td>6037</td>\n",
       "    </tr>\n",
       "    <tr>\n",
       "      <td>14988</td>\n",
       "      <td>2655</td>\n",
       "      <td>8065.50</td>\n",
       "      <td>746963</td>\n",
       "      <td>5</td>\n",
       "      <td>3.0</td>\n",
       "      <td>6059</td>\n",
       "    </tr>\n",
       "    <tr>\n",
       "      <td>14989</td>\n",
       "      <td>2305</td>\n",
       "      <td>6996.21</td>\n",
       "      <td>579047</td>\n",
       "      <td>4</td>\n",
       "      <td>3.0</td>\n",
       "      <td>6037</td>\n",
       "    </tr>\n",
       "  </tbody>\n",
       "</table>\n",
       "<p>14990 rows × 6 columns</p>\n",
       "</div>"
      ],
      "text/plain": [
       "       square_feet    taxes  home_value  bedroom_count  bathroom_count  FIPS\n",
       "0             1458  2319.90      136104              3             2.0  6037\n",
       "1             1421   543.69       35606              2             1.0  6037\n",
       "2             2541  9819.72      880456              4             3.0  6059\n",
       "3             1650  7673.19      614000              3             2.0  6037\n",
       "4              693  3267.47      274237              2             1.0  6037\n",
       "...            ...      ...         ...            ...             ...   ...\n",
       "14985         2526  5718.72      458903              5             3.0  6059\n",
       "14986         2735  1465.88      115387              5             3.0  6059\n",
       "14987         1536  3519.78      297097              3             2.0  6037\n",
       "14988         2655  8065.50      746963              5             3.0  6059\n",
       "14989         2305  6996.21      579047              4             3.0  6037\n",
       "\n",
       "[14990 rows x 6 columns]"
      ]
     },
     "execution_count": 8,
     "metadata": {},
     "output_type": "execute_result"
    }
   ],
   "source": [
    "df = df.drop(columns=['propertylandusetypeid', 'parcelid', 'transactiondate'])\n",
    "df"
   ]
  },
  {
   "cell_type": "code",
   "execution_count": 9,
   "metadata": {},
   "outputs": [
    {
     "data": {
      "text/plain": [
       "0"
      ]
     },
     "execution_count": 9,
     "metadata": {},
     "output_type": "execute_result"
    }
   ],
   "source": [
    "df.home_value.isnull().sum()"
   ]
  },
  {
   "cell_type": "code",
   "execution_count": 10,
   "metadata": {},
   "outputs": [
    {
     "data": {
      "text/plain": [
       "[]"
      ]
     },
     "execution_count": 10,
     "metadata": {},
     "output_type": "execute_result"
    }
   ],
   "source": [
    "df[df['home_value'].isnull()].index.tolist()"
   ]
  },
  {
   "cell_type": "code",
   "execution_count": 11,
   "metadata": {},
   "outputs": [
    {
     "data": {
      "text/html": [
       "<div>\n",
       "<style scoped>\n",
       "    .dataframe tbody tr th:only-of-type {\n",
       "        vertical-align: middle;\n",
       "    }\n",
       "\n",
       "    .dataframe tbody tr th {\n",
       "        vertical-align: top;\n",
       "    }\n",
       "\n",
       "    .dataframe thead th {\n",
       "        text-align: right;\n",
       "    }\n",
       "</style>\n",
       "<table border=\"1\" class=\"dataframe\">\n",
       "  <thead>\n",
       "    <tr style=\"text-align: right;\">\n",
       "      <th></th>\n",
       "      <th>square_feet</th>\n",
       "      <th>taxes</th>\n",
       "      <th>home_value</th>\n",
       "      <th>bedroom_count</th>\n",
       "      <th>bathroom_count</th>\n",
       "      <th>FIPS</th>\n",
       "    </tr>\n",
       "  </thead>\n",
       "  <tbody>\n",
       "    <tr>\n",
       "      <td>0</td>\n",
       "      <td>1458</td>\n",
       "      <td>2319.90</td>\n",
       "      <td>136104</td>\n",
       "      <td>3</td>\n",
       "      <td>2.0</td>\n",
       "      <td>6037</td>\n",
       "    </tr>\n",
       "    <tr>\n",
       "      <td>1</td>\n",
       "      <td>1421</td>\n",
       "      <td>543.69</td>\n",
       "      <td>35606</td>\n",
       "      <td>2</td>\n",
       "      <td>1.0</td>\n",
       "      <td>6037</td>\n",
       "    </tr>\n",
       "    <tr>\n",
       "      <td>2</td>\n",
       "      <td>2541</td>\n",
       "      <td>9819.72</td>\n",
       "      <td>880456</td>\n",
       "      <td>4</td>\n",
       "      <td>3.0</td>\n",
       "      <td>6059</td>\n",
       "    </tr>\n",
       "    <tr>\n",
       "      <td>3</td>\n",
       "      <td>1650</td>\n",
       "      <td>7673.19</td>\n",
       "      <td>614000</td>\n",
       "      <td>3</td>\n",
       "      <td>2.0</td>\n",
       "      <td>6037</td>\n",
       "    </tr>\n",
       "    <tr>\n",
       "      <td>4</td>\n",
       "      <td>693</td>\n",
       "      <td>3267.47</td>\n",
       "      <td>274237</td>\n",
       "      <td>2</td>\n",
       "      <td>1.0</td>\n",
       "      <td>6037</td>\n",
       "    </tr>\n",
       "    <tr>\n",
       "      <td>...</td>\n",
       "      <td>...</td>\n",
       "      <td>...</td>\n",
       "      <td>...</td>\n",
       "      <td>...</td>\n",
       "      <td>...</td>\n",
       "      <td>...</td>\n",
       "    </tr>\n",
       "    <tr>\n",
       "      <td>14985</td>\n",
       "      <td>2526</td>\n",
       "      <td>5718.72</td>\n",
       "      <td>458903</td>\n",
       "      <td>5</td>\n",
       "      <td>3.0</td>\n",
       "      <td>6059</td>\n",
       "    </tr>\n",
       "    <tr>\n",
       "      <td>14986</td>\n",
       "      <td>2735</td>\n",
       "      <td>1465.88</td>\n",
       "      <td>115387</td>\n",
       "      <td>5</td>\n",
       "      <td>3.0</td>\n",
       "      <td>6059</td>\n",
       "    </tr>\n",
       "    <tr>\n",
       "      <td>14987</td>\n",
       "      <td>1536</td>\n",
       "      <td>3519.78</td>\n",
       "      <td>297097</td>\n",
       "      <td>3</td>\n",
       "      <td>2.0</td>\n",
       "      <td>6037</td>\n",
       "    </tr>\n",
       "    <tr>\n",
       "      <td>14988</td>\n",
       "      <td>2655</td>\n",
       "      <td>8065.50</td>\n",
       "      <td>746963</td>\n",
       "      <td>5</td>\n",
       "      <td>3.0</td>\n",
       "      <td>6059</td>\n",
       "    </tr>\n",
       "    <tr>\n",
       "      <td>14989</td>\n",
       "      <td>2305</td>\n",
       "      <td>6996.21</td>\n",
       "      <td>579047</td>\n",
       "      <td>4</td>\n",
       "      <td>3.0</td>\n",
       "      <td>6037</td>\n",
       "    </tr>\n",
       "  </tbody>\n",
       "</table>\n",
       "<p>14989 rows × 6 columns</p>\n",
       "</div>"
      ],
      "text/plain": [
       "       square_feet    taxes  home_value  bedroom_count  bathroom_count  FIPS\n",
       "0             1458  2319.90      136104              3             2.0  6037\n",
       "1             1421   543.69       35606              2             1.0  6037\n",
       "2             2541  9819.72      880456              4             3.0  6059\n",
       "3             1650  7673.19      614000              3             2.0  6037\n",
       "4              693  3267.47      274237              2             1.0  6037\n",
       "...            ...      ...         ...            ...             ...   ...\n",
       "14985         2526  5718.72      458903              5             3.0  6059\n",
       "14986         2735  1465.88      115387              5             3.0  6059\n",
       "14987         1536  3519.78      297097              3             2.0  6037\n",
       "14988         2655  8065.50      746963              5             3.0  6059\n",
       "14989         2305  6996.21      579047              4             3.0  6037\n",
       "\n",
       "[14989 rows x 6 columns]"
      ]
     },
     "execution_count": 11,
     "metadata": {},
     "output_type": "execute_result"
    }
   ],
   "source": [
    "df = df.dropna()\n",
    "df"
   ]
  },
  {
   "cell_type": "markdown",
   "metadata": {},
   "source": [
    "- Two different forms of data validation"
   ]
  },
  {
   "cell_type": "code",
   "execution_count": 12,
   "metadata": {},
   "outputs": [],
   "source": [
    "assert (df['square_feet'] == 0).sum() < 1 , \"There are zeros in this column. Handle them before proceeding\"\n",
    "assert (df['taxes'] == 0).sum() < 1 , \"There are zeros in this column. Handle them before proceeding\"\n",
    "assert (df['home_value'] == 0).sum() < 1 , \"There are zeros in this column. Handle them before proceeding\"\n",
    "assert (df['bedroom_count'] == 0).sum() < 1 , \"There are zeros in this column. Handle them before proceeding\"\n",
    "assert (df['bathroom_count'] == 0).sum() < 1 , \"There are zeros in this column. Handle them before proceeding\"\n"
   ]
  },
  {
   "cell_type": "code",
   "execution_count": 13,
   "metadata": {},
   "outputs": [
    {
     "data": {
      "text/plain": [
       "square_feet       0\n",
       "taxes             0\n",
       "home_value        0\n",
       "bedroom_count     0\n",
       "bathroom_count    0\n",
       "FIPS              0\n",
       "dtype: int64"
      ]
     },
     "execution_count": 13,
     "metadata": {},
     "output_type": "execute_result"
    }
   ],
   "source": [
    "df.isnull().sum()"
   ]
  },
  {
   "cell_type": "code",
   "execution_count": 14,
   "metadata": {},
   "outputs": [],
   "source": [
    "# fips = pd.read_clipboard()"
   ]
  },
  {
   "cell_type": "code",
   "execution_count": 15,
   "metadata": {},
   "outputs": [],
   "source": [
    "# fips"
   ]
  },
  {
   "cell_type": "code",
   "execution_count": 16,
   "metadata": {},
   "outputs": [],
   "source": [
    "# fips.to_csv('fips.csv', index = False) "
   ]
  },
  {
   "cell_type": "code",
   "execution_count": 17,
   "metadata": {},
   "outputs": [],
   "source": [
    "fips = pd.read_csv('fips.csv')"
   ]
  },
  {
   "cell_type": "code",
   "execution_count": 18,
   "metadata": {},
   "outputs": [
    {
     "data": {
      "text/html": [
       "<div>\n",
       "<style scoped>\n",
       "    .dataframe tbody tr th:only-of-type {\n",
       "        vertical-align: middle;\n",
       "    }\n",
       "\n",
       "    .dataframe tbody tr th {\n",
       "        vertical-align: top;\n",
       "    }\n",
       "\n",
       "    .dataframe thead th {\n",
       "        text-align: right;\n",
       "    }\n",
       "</style>\n",
       "<table border=\"1\" class=\"dataframe\">\n",
       "  <thead>\n",
       "    <tr style=\"text-align: right;\">\n",
       "      <th></th>\n",
       "      <th>FIPS</th>\n",
       "      <th>Name</th>\n",
       "      <th>State</th>\n",
       "    </tr>\n",
       "  </thead>\n",
       "  <tbody>\n",
       "    <tr>\n",
       "      <td>0</td>\n",
       "      <td>1001</td>\n",
       "      <td>Autauga</td>\n",
       "      <td>AL</td>\n",
       "    </tr>\n",
       "    <tr>\n",
       "      <td>1</td>\n",
       "      <td>1003</td>\n",
       "      <td>Baldwin</td>\n",
       "      <td>AL</td>\n",
       "    </tr>\n",
       "    <tr>\n",
       "      <td>2</td>\n",
       "      <td>1005</td>\n",
       "      <td>Barbour</td>\n",
       "      <td>AL</td>\n",
       "    </tr>\n",
       "    <tr>\n",
       "      <td>3</td>\n",
       "      <td>1007</td>\n",
       "      <td>Bibb</td>\n",
       "      <td>AL</td>\n",
       "    </tr>\n",
       "    <tr>\n",
       "      <td>4</td>\n",
       "      <td>1009</td>\n",
       "      <td>Blount</td>\n",
       "      <td>AL</td>\n",
       "    </tr>\n",
       "    <tr>\n",
       "      <td>...</td>\n",
       "      <td>...</td>\n",
       "      <td>...</td>\n",
       "      <td>...</td>\n",
       "    </tr>\n",
       "    <tr>\n",
       "      <td>3227</td>\n",
       "      <td>72151</td>\n",
       "      <td>Yabucoa</td>\n",
       "      <td>PR</td>\n",
       "    </tr>\n",
       "    <tr>\n",
       "      <td>3228</td>\n",
       "      <td>72153</td>\n",
       "      <td>Yauco</td>\n",
       "      <td>PR</td>\n",
       "    </tr>\n",
       "    <tr>\n",
       "      <td>3229</td>\n",
       "      <td>78010</td>\n",
       "      <td>St. Croix</td>\n",
       "      <td>VI</td>\n",
       "    </tr>\n",
       "    <tr>\n",
       "      <td>3230</td>\n",
       "      <td>78020</td>\n",
       "      <td>St. John</td>\n",
       "      <td>VI</td>\n",
       "    </tr>\n",
       "    <tr>\n",
       "      <td>3231</td>\n",
       "      <td>78030</td>\n",
       "      <td>St. Thomas</td>\n",
       "      <td>VI</td>\n",
       "    </tr>\n",
       "  </tbody>\n",
       "</table>\n",
       "<p>3232 rows × 3 columns</p>\n",
       "</div>"
      ],
      "text/plain": [
       "       FIPS        Name State\n",
       "0      1001     Autauga    AL\n",
       "1      1003     Baldwin    AL\n",
       "2      1005     Barbour    AL\n",
       "3      1007        Bibb    AL\n",
       "4      1009      Blount    AL\n",
       "...     ...         ...   ...\n",
       "3227  72151     Yabucoa    PR\n",
       "3228  72153       Yauco    PR\n",
       "3229  78010   St. Croix    VI\n",
       "3230  78020    St. John    VI\n",
       "3231  78030  St. Thomas    VI\n",
       "\n",
       "[3232 rows x 3 columns]"
      ]
     },
     "execution_count": 18,
     "metadata": {},
     "output_type": "execute_result"
    }
   ],
   "source": [
    "fips"
   ]
  },
  {
   "cell_type": "code",
   "execution_count": 19,
   "metadata": {},
   "outputs": [],
   "source": [
    "fips = fips.rename(columns={'Name': 'County'})"
   ]
  },
  {
   "cell_type": "code",
   "execution_count": 20,
   "metadata": {},
   "outputs": [],
   "source": [
    "df = df.merge(fips, left_on = 'FIPS', right_on = 'FIPS')"
   ]
  },
  {
   "cell_type": "code",
   "execution_count": 55,
   "metadata": {},
   "outputs": [
    {
     "data": {
      "text/plain": [
       "6037    9604\n",
       "6059    4094\n",
       "6111    1291\n",
       "Name: FIPS, dtype: int64"
      ]
     },
     "execution_count": 55,
     "metadata": {},
     "output_type": "execute_result"
    }
   ],
   "source": [
    "df.FIPS.value_counts()"
   ]
  },
  {
   "cell_type": "code",
   "execution_count": 22,
   "metadata": {},
   "outputs": [
    {
     "data": {
      "text/html": [
       "<div>\n",
       "<style scoped>\n",
       "    .dataframe tbody tr th:only-of-type {\n",
       "        vertical-align: middle;\n",
       "    }\n",
       "\n",
       "    .dataframe tbody tr th {\n",
       "        vertical-align: top;\n",
       "    }\n",
       "\n",
       "    .dataframe thead th {\n",
       "        text-align: right;\n",
       "    }\n",
       "</style>\n",
       "<table border=\"1\" class=\"dataframe\">\n",
       "  <thead>\n",
       "    <tr style=\"text-align: right;\">\n",
       "      <th></th>\n",
       "      <th>square_feet</th>\n",
       "      <th>taxes</th>\n",
       "      <th>home_value</th>\n",
       "      <th>bedroom_count</th>\n",
       "      <th>bathroom_count</th>\n",
       "      <th>FIPS</th>\n",
       "      <th>County</th>\n",
       "      <th>State</th>\n",
       "      <th>tax_rate</th>\n",
       "    </tr>\n",
       "  </thead>\n",
       "  <tbody>\n",
       "    <tr>\n",
       "      <td>0</td>\n",
       "      <td>1458</td>\n",
       "      <td>2319.90</td>\n",
       "      <td>136104</td>\n",
       "      <td>3</td>\n",
       "      <td>2.0</td>\n",
       "      <td>6037</td>\n",
       "      <td>Los Angeles</td>\n",
       "      <td>CA</td>\n",
       "      <td>0.017045</td>\n",
       "    </tr>\n",
       "    <tr>\n",
       "      <td>1</td>\n",
       "      <td>1421</td>\n",
       "      <td>543.69</td>\n",
       "      <td>35606</td>\n",
       "      <td>2</td>\n",
       "      <td>1.0</td>\n",
       "      <td>6037</td>\n",
       "      <td>Los Angeles</td>\n",
       "      <td>CA</td>\n",
       "      <td>0.015270</td>\n",
       "    </tr>\n",
       "    <tr>\n",
       "      <td>2</td>\n",
       "      <td>1650</td>\n",
       "      <td>7673.19</td>\n",
       "      <td>614000</td>\n",
       "      <td>3</td>\n",
       "      <td>2.0</td>\n",
       "      <td>6037</td>\n",
       "      <td>Los Angeles</td>\n",
       "      <td>CA</td>\n",
       "      <td>0.012497</td>\n",
       "    </tr>\n",
       "    <tr>\n",
       "      <td>3</td>\n",
       "      <td>693</td>\n",
       "      <td>3267.47</td>\n",
       "      <td>274237</td>\n",
       "      <td>2</td>\n",
       "      <td>1.0</td>\n",
       "      <td>6037</td>\n",
       "      <td>Los Angeles</td>\n",
       "      <td>CA</td>\n",
       "      <td>0.011915</td>\n",
       "    </tr>\n",
       "    <tr>\n",
       "      <td>4</td>\n",
       "      <td>1108</td>\n",
       "      <td>5990.50</td>\n",
       "      <td>486866</td>\n",
       "      <td>3</td>\n",
       "      <td>2.0</td>\n",
       "      <td>6037</td>\n",
       "      <td>Los Angeles</td>\n",
       "      <td>CA</td>\n",
       "      <td>0.012304</td>\n",
       "    </tr>\n",
       "    <tr>\n",
       "      <td>...</td>\n",
       "      <td>...</td>\n",
       "      <td>...</td>\n",
       "      <td>...</td>\n",
       "      <td>...</td>\n",
       "      <td>...</td>\n",
       "      <td>...</td>\n",
       "      <td>...</td>\n",
       "      <td>...</td>\n",
       "      <td>...</td>\n",
       "    </tr>\n",
       "    <tr>\n",
       "      <td>14984</td>\n",
       "      <td>1575</td>\n",
       "      <td>5417.50</td>\n",
       "      <td>506000</td>\n",
       "      <td>3</td>\n",
       "      <td>2.0</td>\n",
       "      <td>6111</td>\n",
       "      <td>Ventura</td>\n",
       "      <td>CA</td>\n",
       "      <td>0.010707</td>\n",
       "    </tr>\n",
       "    <tr>\n",
       "      <td>14985</td>\n",
       "      <td>1645</td>\n",
       "      <td>2855.78</td>\n",
       "      <td>230986</td>\n",
       "      <td>3</td>\n",
       "      <td>2.0</td>\n",
       "      <td>6111</td>\n",
       "      <td>Ventura</td>\n",
       "      <td>CA</td>\n",
       "      <td>0.012363</td>\n",
       "    </tr>\n",
       "    <tr>\n",
       "      <td>14986</td>\n",
       "      <td>1308</td>\n",
       "      <td>2788.68</td>\n",
       "      <td>255407</td>\n",
       "      <td>3</td>\n",
       "      <td>2.0</td>\n",
       "      <td>6111</td>\n",
       "      <td>Ventura</td>\n",
       "      <td>CA</td>\n",
       "      <td>0.010919</td>\n",
       "    </tr>\n",
       "    <tr>\n",
       "      <td>14987</td>\n",
       "      <td>2314</td>\n",
       "      <td>9549.08</td>\n",
       "      <td>485364</td>\n",
       "      <td>4</td>\n",
       "      <td>2.5</td>\n",
       "      <td>6111</td>\n",
       "      <td>Ventura</td>\n",
       "      <td>CA</td>\n",
       "      <td>0.019674</td>\n",
       "    </tr>\n",
       "    <tr>\n",
       "      <td>14988</td>\n",
       "      <td>1278</td>\n",
       "      <td>5396.08</td>\n",
       "      <td>468000</td>\n",
       "      <td>3</td>\n",
       "      <td>2.0</td>\n",
       "      <td>6111</td>\n",
       "      <td>Ventura</td>\n",
       "      <td>CA</td>\n",
       "      <td>0.011530</td>\n",
       "    </tr>\n",
       "  </tbody>\n",
       "</table>\n",
       "<p>14989 rows × 9 columns</p>\n",
       "</div>"
      ],
      "text/plain": [
       "       square_feet    taxes  home_value  bedroom_count  bathroom_count  FIPS  \\\n",
       "0             1458  2319.90      136104              3             2.0  6037   \n",
       "1             1421   543.69       35606              2             1.0  6037   \n",
       "2             1650  7673.19      614000              3             2.0  6037   \n",
       "3              693  3267.47      274237              2             1.0  6037   \n",
       "4             1108  5990.50      486866              3             2.0  6037   \n",
       "...            ...      ...         ...            ...             ...   ...   \n",
       "14984         1575  5417.50      506000              3             2.0  6111   \n",
       "14985         1645  2855.78      230986              3             2.0  6111   \n",
       "14986         1308  2788.68      255407              3             2.0  6111   \n",
       "14987         2314  9549.08      485364              4             2.5  6111   \n",
       "14988         1278  5396.08      468000              3             2.0  6111   \n",
       "\n",
       "            County State  tax_rate  \n",
       "0      Los Angeles    CA  0.017045  \n",
       "1      Los Angeles    CA  0.015270  \n",
       "2      Los Angeles    CA  0.012497  \n",
       "3      Los Angeles    CA  0.011915  \n",
       "4      Los Angeles    CA  0.012304  \n",
       "...            ...   ...       ...  \n",
       "14984      Ventura    CA  0.010707  \n",
       "14985      Ventura    CA  0.012363  \n",
       "14986      Ventura    CA  0.010919  \n",
       "14987      Ventura    CA  0.019674  \n",
       "14988      Ventura    CA  0.011530  \n",
       "\n",
       "[14989 rows x 9 columns]"
      ]
     },
     "execution_count": 22,
     "metadata": {},
     "output_type": "execute_result"
    }
   ],
   "source": [
    "df[\"tax_rate\"] = df[\"taxes\"] / df[\"home_value\"]\n",
    "df"
   ]
  },
  {
   "cell_type": "code",
   "execution_count": 23,
   "metadata": {
    "scrolled": true
   },
   "outputs": [
    {
     "data": {
      "text/plain": [
       "Los Angeles    9604\n",
       "Orange         4094\n",
       "Ventura        1291\n",
       "Name: County, dtype: int64"
      ]
     },
     "execution_count": 23,
     "metadata": {},
     "output_type": "execute_result"
    }
   ],
   "source": [
    "df.County.value_counts()"
   ]
  },
  {
   "cell_type": "code",
   "execution_count": 24,
   "metadata": {},
   "outputs": [
    {
     "data": {
      "image/png": "[encoded data removed]",
      "text/plain": [
       "<Figure size 1152x864 with 9 Axes>"
      ]
     },
     "metadata": {
      "needs_background": "light"
     },
     "output_type": "display_data"
    }
   ],
   "source": [
    "df.hist(grid=False, figsize=(16,12), color='green')\n",
    "plt.show()"
   ]
  },
  {
   "cell_type": "code",
   "execution_count": 25,
   "metadata": {},
   "outputs": [
    {
     "data": {
      "image/png": "[encoded data removed]",
      "text/plain": [
       "<Figure size 1260x1260 with 56 Axes>"
      ]
     },
     "metadata": {
      "needs_background": "light"
     },
     "output_type": "display_data"
    }
   ],
   "source": [
    "sns.pairplot(df, kind=\"reg\")\n",
    "plt.show()"
   ]
  },
  {
   "cell_type": "code",
   "execution_count": 26,
   "metadata": {},
   "outputs": [
    {
     "data": {
      "text/html": [
       "<div>\n",
       "<style scoped>\n",
       "    .dataframe tbody tr th:only-of-type {\n",
       "        vertical-align: middle;\n",
       "    }\n",
       "\n",
       "    .dataframe tbody tr th {\n",
       "        vertical-align: top;\n",
       "    }\n",
       "\n",
       "    .dataframe thead th {\n",
       "        text-align: right;\n",
       "    }\n",
       "</style>\n",
       "<table border=\"1\" class=\"dataframe\">\n",
       "  <thead>\n",
       "    <tr style=\"text-align: right;\">\n",
       "      <th></th>\n",
       "      <th>square_feet</th>\n",
       "      <th>taxes</th>\n",
       "      <th>home_value</th>\n",
       "      <th>bedroom_count</th>\n",
       "      <th>bathroom_count</th>\n",
       "      <th>FIPS</th>\n",
       "      <th>tax_rate</th>\n",
       "    </tr>\n",
       "  </thead>\n",
       "  <tbody>\n",
       "    <tr>\n",
       "      <td>square_feet</td>\n",
       "      <td>1.000000</td>\n",
       "      <td>0.603672</td>\n",
       "      <td>0.602110</td>\n",
       "      <td>0.634737</td>\n",
       "      <td>0.855666</td>\n",
       "      <td>0.104179</td>\n",
       "      <td>-0.095110</td>\n",
       "    </tr>\n",
       "    <tr>\n",
       "      <td>taxes</td>\n",
       "      <td>0.603672</td>\n",
       "      <td>1.000000</td>\n",
       "      <td>0.989347</td>\n",
       "      <td>0.279657</td>\n",
       "      <td>0.519436</td>\n",
       "      <td>-0.011352</td>\n",
       "      <td>-0.063567</td>\n",
       "    </tr>\n",
       "    <tr>\n",
       "      <td>home_value</td>\n",
       "      <td>0.602110</td>\n",
       "      <td>0.989347</td>\n",
       "      <td>1.000000</td>\n",
       "      <td>0.276025</td>\n",
       "      <td>0.517097</td>\n",
       "      <td>0.013101</td>\n",
       "      <td>-0.134599</td>\n",
       "    </tr>\n",
       "    <tr>\n",
       "      <td>bedroom_count</td>\n",
       "      <td>0.634737</td>\n",
       "      <td>0.279657</td>\n",
       "      <td>0.276025</td>\n",
       "      <td>1.000000</td>\n",
       "      <td>0.643954</td>\n",
       "      <td>0.132419</td>\n",
       "      <td>-0.056054</td>\n",
       "    </tr>\n",
       "    <tr>\n",
       "      <td>bathroom_count</td>\n",
       "      <td>0.855666</td>\n",
       "      <td>0.519436</td>\n",
       "      <td>0.517097</td>\n",
       "      <td>0.643954</td>\n",
       "      <td>1.000000</td>\n",
       "      <td>0.106104</td>\n",
       "      <td>-0.097136</td>\n",
       "    </tr>\n",
       "    <tr>\n",
       "      <td>FIPS</td>\n",
       "      <td>0.104179</td>\n",
       "      <td>-0.011352</td>\n",
       "      <td>0.013101</td>\n",
       "      <td>0.132419</td>\n",
       "      <td>0.106104</td>\n",
       "      <td>1.000000</td>\n",
       "      <td>-0.113879</td>\n",
       "    </tr>\n",
       "    <tr>\n",
       "      <td>tax_rate</td>\n",
       "      <td>-0.095110</td>\n",
       "      <td>-0.063567</td>\n",
       "      <td>-0.134599</td>\n",
       "      <td>-0.056054</td>\n",
       "      <td>-0.097136</td>\n",
       "      <td>-0.113879</td>\n",
       "      <td>1.000000</td>\n",
       "    </tr>\n",
       "  </tbody>\n",
       "</table>\n",
       "</div>"
      ],
      "text/plain": [
       "                square_feet     taxes  home_value  bedroom_count  \\\n",
       "square_feet        1.000000  0.603672    0.602110       0.634737   \n",
       "taxes              0.603672  1.000000    0.989347       0.279657   \n",
       "home_value         0.602110  0.989347    1.000000       0.276025   \n",
       "bedroom_count      0.634737  0.279657    0.276025       1.000000   \n",
       "bathroom_count     0.855666  0.519436    0.517097       0.643954   \n",
       "FIPS               0.104179 -0.011352    0.013101       0.132419   \n",
       "tax_rate          -0.095110 -0.063567   -0.134599      -0.056054   \n",
       "\n",
       "                bathroom_count      FIPS  tax_rate  \n",
       "square_feet           0.855666  0.104179 -0.095110  \n",
       "taxes                 0.519436 -0.011352 -0.063567  \n",
       "home_value            0.517097  0.013101 -0.134599  \n",
       "bedroom_count         0.643954  0.132419 -0.056054  \n",
       "bathroom_count        1.000000  0.106104 -0.097136  \n",
       "FIPS                  0.106104  1.000000 -0.113879  \n",
       "tax_rate             -0.097136 -0.113879  1.000000  "
      ]
     },
     "execution_count": 26,
     "metadata": {},
     "output_type": "execute_result"
    }
   ],
   "source": [
    "df.corr(method ='pearson') "
   ]
  },
  {
   "cell_type": "code",
   "execution_count": 27,
   "metadata": {},
   "outputs": [
    {
     "data": {
      "text/plain": [
       "0.45288364809718135"
      ]
     },
     "execution_count": 27,
     "metadata": {},
     "output_type": "execute_result"
    }
   ],
   "source": [
    "filt = df['County'] == 'Los Angeles'\n",
    "LAC = df[filt]\n",
    "LAC = LAC[['County', 'tax_rate']]\n",
    "LAC.tax_rate.max()"
   ]
  },
  {
   "cell_type": "code",
   "execution_count": 28,
   "metadata": {},
   "outputs": [
    {
     "data": {
      "image/png": "[encoded data removed]",
      "text/plain": [
       "<Figure size 432x288 with 1 Axes>"
      ]
     },
     "metadata": {
      "needs_background": "light"
     },
     "output_type": "display_data"
    }
   ],
   "source": [
    "LAC.plot.hist(grid=True, bins=15, rwidth=0.9,\n",
    "                   color='#607c8e')\n",
    "plt.title('Distribution of Tax Rates for Los Angeles')\n",
    "plt.xlabel('Tax Rates')\n",
    "plt.ylabel('Number of Homes')\n",
    "plt.grid(axis='y', alpha=0.75)"
   ]
  },
  {
   "cell_type": "code",
   "execution_count": 29,
   "metadata": {},
   "outputs": [
    {
     "data": {
      "text/plain": [
       "<matplotlib.axes._subplots.AxesSubplot at 0x1a21d14d90>"
      ]
     },
     "execution_count": 29,
     "metadata": {},
     "output_type": "execute_result"
    },
    {
     "data": {
      "image/png": "[encoded data removed]",
      "text/plain": [
       "<Figure size 432x288 with 1 Axes>"
      ]
     },
     "metadata": {
      "needs_background": "light"
     },
     "output_type": "display_data"
    }
   ],
   "source": [
    "sns.distplot(LAC.tax_rate)"
   ]
  },
  {
   "cell_type": "code",
   "execution_count": 30,
   "metadata": {},
   "outputs": [
    {
     "data": {
      "text/plain": [
       "0.45288364809718135"
      ]
     },
     "execution_count": 30,
     "metadata": {},
     "output_type": "execute_result"
    }
   ],
   "source": [
    "filt2 = df['County'] == 'Orange'\n",
    "OC = df[filt]\n",
    "OC = LAC[['County', 'tax_rate']]\n",
    "OC.tax_rate.max()"
   ]
  },
  {
   "cell_type": "code",
   "execution_count": 31,
   "metadata": {},
   "outputs": [
    {
     "data": {
      "text/plain": [
       "<matplotlib.axes._subplots.AxesSubplot at 0x1a2145ebd0>"
      ]
     },
     "execution_count": 31,
     "metadata": {},
     "output_type": "execute_result"
    },
    {
     "data": {
      "image/png": "[encoded data removed]",
      "text/plain": [
       "<Figure size 432x288 with 1 Axes>"
      ]
     },
     "metadata": {
      "needs_background": "light"
     },
     "output_type": "display_data"
    }
   ],
   "source": [
    "sns.distplot(OC.tax_rate)"
   ]
  },
  {
   "cell_type": "code",
   "execution_count": 32,
   "metadata": {},
   "outputs": [
    {
     "data": {
      "text/plain": [
       "0.45288364809718135"
      ]
     },
     "execution_count": 32,
     "metadata": {},
     "output_type": "execute_result"
    }
   ],
   "source": [
    "filt2 = df['County'] == 'Ventura'\n",
    "VC = df[filt]\n",
    "VC = LAC[['County', 'tax_rate']]\n",
    "VC.tax_rate.max()"
   ]
  },
  {
   "cell_type": "code",
   "execution_count": 33,
   "metadata": {},
   "outputs": [
    {
     "data": {
      "text/plain": [
       "<matplotlib.axes._subplots.AxesSubplot at 0x1a21f70d50>"
      ]
     },
     "execution_count": 33,
     "metadata": {},
     "output_type": "execute_result"
    },
    {
     "data": {
      "image/png": "[encoded data removed]",
      "text/plain": [
       "<Figure size 432x288 with 1 Axes>"
      ]
     },
     "metadata": {
      "needs_background": "light"
     },
     "output_type": "display_data"
    }
   ],
   "source": [
    "sns.distplot(VC.tax_rate)"
   ]
  },
  {
   "cell_type": "code",
   "execution_count": 34,
   "metadata": {},
   "outputs": [],
   "source": [
    "def split_my_data(df, train_pct=0.70, seed=123):\n",
    "    train, test = train_test_split(df, train_size=train_pct, random_state=seed)\n",
    "    return train, test"
   ]
  },
  {
   "cell_type": "code",
   "execution_count": 35,
   "metadata": {},
   "outputs": [],
   "source": [
    "train, test = split_my_data(df)"
   ]
  },
  {
   "cell_type": "code",
   "execution_count": 36,
   "metadata": {},
   "outputs": [],
   "source": [
    "X_train = train[['square_feet', 'bedroom_count', 'bathroom_count']]\n",
    "X_test = test[['square_feet', 'bedroom_count', 'bathroom_count']]\n",
    "y_train = train[['home_value']]\n",
    "y_test = test[['home_value']]"
   ]
  },
  {
   "cell_type": "code",
   "execution_count": 37,
   "metadata": {},
   "outputs": [],
   "source": [
    "model_df = y_train.copy()"
   ]
  },
  {
   "cell_type": "code",
   "execution_count": 38,
   "metadata": {},
   "outputs": [
    {
     "data": {
      "text/html": [
       "<div>\n",
       "<style scoped>\n",
       "    .dataframe tbody tr th:only-of-type {\n",
       "        vertical-align: middle;\n",
       "    }\n",
       "\n",
       "    .dataframe tbody tr th {\n",
       "        vertical-align: top;\n",
       "    }\n",
       "\n",
       "    .dataframe thead th {\n",
       "        text-align: right;\n",
       "    }\n",
       "</style>\n",
       "<table border=\"1\" class=\"dataframe\">\n",
       "  <thead>\n",
       "    <tr style=\"text-align: right;\">\n",
       "      <th></th>\n",
       "      <th>home_value</th>\n",
       "    </tr>\n",
       "  </thead>\n",
       "  <tbody>\n",
       "    <tr>\n",
       "      <td>12587</td>\n",
       "      <td>576038</td>\n",
       "    </tr>\n",
       "    <tr>\n",
       "      <td>12632</td>\n",
       "      <td>557045</td>\n",
       "    </tr>\n",
       "    <tr>\n",
       "      <td>2336</td>\n",
       "      <td>284163</td>\n",
       "    </tr>\n",
       "    <tr>\n",
       "      <td>12351</td>\n",
       "      <td>572000</td>\n",
       "    </tr>\n",
       "    <tr>\n",
       "      <td>12570</td>\n",
       "      <td>350939</td>\n",
       "    </tr>\n",
       "  </tbody>\n",
       "</table>\n",
       "</div>"
      ],
      "text/plain": [
       "       home_value\n",
       "12587      576038\n",
       "12632      557045\n",
       "2336       284163\n",
       "12351      572000\n",
       "12570      350939"
      ]
     },
     "execution_count": 38,
     "metadata": {},
     "output_type": "execute_result"
    }
   ],
   "source": [
    "model_df.head()"
   ]
  },
  {
   "cell_type": "code",
   "execution_count": 39,
   "metadata": {},
   "outputs": [
    {
     "data": {
      "text/html": [
       "<div>\n",
       "<style scoped>\n",
       "    .dataframe tbody tr th:only-of-type {\n",
       "        vertical-align: middle;\n",
       "    }\n",
       "\n",
       "    .dataframe tbody tr th {\n",
       "        vertical-align: top;\n",
       "    }\n",
       "\n",
       "    .dataframe thead th {\n",
       "        text-align: right;\n",
       "    }\n",
       "</style>\n",
       "<table border=\"1\" class=\"dataframe\">\n",
       "  <thead>\n",
       "    <tr style=\"text-align: right;\">\n",
       "      <th></th>\n",
       "      <th>actual</th>\n",
       "    </tr>\n",
       "  </thead>\n",
       "  <tbody>\n",
       "    <tr>\n",
       "      <td>12587</td>\n",
       "      <td>576038</td>\n",
       "    </tr>\n",
       "    <tr>\n",
       "      <td>12632</td>\n",
       "      <td>557045</td>\n",
       "    </tr>\n",
       "    <tr>\n",
       "      <td>2336</td>\n",
       "      <td>284163</td>\n",
       "    </tr>\n",
       "    <tr>\n",
       "      <td>12351</td>\n",
       "      <td>572000</td>\n",
       "    </tr>\n",
       "    <tr>\n",
       "      <td>12570</td>\n",
       "      <td>350939</td>\n",
       "    </tr>\n",
       "    <tr>\n",
       "      <td>...</td>\n",
       "      <td>...</td>\n",
       "    </tr>\n",
       "    <tr>\n",
       "      <td>5218</td>\n",
       "      <td>533298</td>\n",
       "    </tr>\n",
       "    <tr>\n",
       "      <td>12252</td>\n",
       "      <td>4336027</td>\n",
       "    </tr>\n",
       "    <tr>\n",
       "      <td>1346</td>\n",
       "      <td>259655</td>\n",
       "    </tr>\n",
       "    <tr>\n",
       "      <td>11646</td>\n",
       "      <td>2086601</td>\n",
       "    </tr>\n",
       "    <tr>\n",
       "      <td>3582</td>\n",
       "      <td>74133</td>\n",
       "    </tr>\n",
       "  </tbody>\n",
       "</table>\n",
       "<p>10492 rows × 1 columns</p>\n",
       "</div>"
      ],
      "text/plain": [
       "        actual\n",
       "12587   576038\n",
       "12632   557045\n",
       "2336    284163\n",
       "12351   572000\n",
       "12570   350939\n",
       "...        ...\n",
       "5218    533298\n",
       "12252  4336027\n",
       "1346    259655\n",
       "11646  2086601\n",
       "3582     74133\n",
       "\n",
       "[10492 rows x 1 columns]"
      ]
     },
     "execution_count": 39,
     "metadata": {},
     "output_type": "execute_result"
    }
   ],
   "source": [
    "model_df = model_df.rename(columns={'home_value':'actual'})\n",
    "model_df"
   ]
  },
  {
   "cell_type": "code",
   "execution_count": 40,
   "metadata": {},
   "outputs": [
    {
     "data": {
      "text/html": [
       "<div>\n",
       "<style scoped>\n",
       "    .dataframe tbody tr th:only-of-type {\n",
       "        vertical-align: middle;\n",
       "    }\n",
       "\n",
       "    .dataframe tbody tr th {\n",
       "        vertical-align: top;\n",
       "    }\n",
       "\n",
       "    .dataframe thead th {\n",
       "        text-align: right;\n",
       "    }\n",
       "</style>\n",
       "<table border=\"1\" class=\"dataframe\">\n",
       "  <thead>\n",
       "    <tr style=\"text-align: right;\">\n",
       "      <th></th>\n",
       "      <th>actual</th>\n",
       "      <th>yhat_bl</th>\n",
       "    </tr>\n",
       "  </thead>\n",
       "  <tbody>\n",
       "    <tr>\n",
       "      <td>12587</td>\n",
       "      <td>576038</td>\n",
       "      <td>544075.261151</td>\n",
       "    </tr>\n",
       "    <tr>\n",
       "      <td>12632</td>\n",
       "      <td>557045</td>\n",
       "      <td>544075.261151</td>\n",
       "    </tr>\n",
       "    <tr>\n",
       "      <td>2336</td>\n",
       "      <td>284163</td>\n",
       "      <td>544075.261151</td>\n",
       "    </tr>\n",
       "    <tr>\n",
       "      <td>12351</td>\n",
       "      <td>572000</td>\n",
       "      <td>544075.261151</td>\n",
       "    </tr>\n",
       "    <tr>\n",
       "      <td>12570</td>\n",
       "      <td>350939</td>\n",
       "      <td>544075.261151</td>\n",
       "    </tr>\n",
       "  </tbody>\n",
       "</table>\n",
       "</div>"
      ],
      "text/plain": [
       "       actual        yhat_bl\n",
       "12587  576038  544075.261151\n",
       "12632  557045  544075.261151\n",
       "2336   284163  544075.261151\n",
       "12351  572000  544075.261151\n",
       "12570  350939  544075.261151"
      ]
     },
     "execution_count": 40,
     "metadata": {},
     "output_type": "execute_result"
    }
   ],
   "source": [
    "model_df['yhat_bl'] = model_df['actual'].mean()\n",
    "model_df.head()"
   ]
  },
  {
   "cell_type": "code",
   "execution_count": 41,
   "metadata": {},
   "outputs": [],
   "source": [
    "ols_model = ols(formula='home_value ~ bedroom_count + bathroom_count + square_feet', data=train).fit()"
   ]
  },
  {
   "cell_type": "code",
   "execution_count": 42,
   "metadata": {},
   "outputs": [],
   "source": [
    "model_df['ols_prediction'] = ols_model.predict(X_train)\n"
   ]
  },
  {
   "cell_type": "code",
   "execution_count": 43,
   "metadata": {},
   "outputs": [],
   "source": [
    "# pd.options.display.float_format = '{:.3f}'.format"
   ]
  },
  {
   "cell_type": "code",
   "execution_count": 44,
   "metadata": {},
   "outputs": [
    {
     "data": {
      "text/html": [
       "<div>\n",
       "<style scoped>\n",
       "    .dataframe tbody tr th:only-of-type {\n",
       "        vertical-align: middle;\n",
       "    }\n",
       "\n",
       "    .dataframe tbody tr th {\n",
       "        vertical-align: top;\n",
       "    }\n",
       "\n",
       "    .dataframe thead th {\n",
       "        text-align: right;\n",
       "    }\n",
       "</style>\n",
       "<table border=\"1\" class=\"dataframe\">\n",
       "  <thead>\n",
       "    <tr style=\"text-align: right;\">\n",
       "      <th></th>\n",
       "      <th>actual</th>\n",
       "      <th>yhat_bl</th>\n",
       "      <th>ols_prediction</th>\n",
       "    </tr>\n",
       "  </thead>\n",
       "  <tbody>\n",
       "    <tr>\n",
       "      <td>12587</td>\n",
       "      <td>576038</td>\n",
       "      <td>544075.261151</td>\n",
       "      <td>575933.863879</td>\n",
       "    </tr>\n",
       "    <tr>\n",
       "      <td>12632</td>\n",
       "      <td>557045</td>\n",
       "      <td>544075.261151</td>\n",
       "      <td>496937.328938</td>\n",
       "    </tr>\n",
       "    <tr>\n",
       "      <td>2336</td>\n",
       "      <td>284163</td>\n",
       "      <td>544075.261151</td>\n",
       "      <td>550658.245665</td>\n",
       "    </tr>\n",
       "    <tr>\n",
       "      <td>12351</td>\n",
       "      <td>572000</td>\n",
       "      <td>544075.261151</td>\n",
       "      <td>503166.240573</td>\n",
       "    </tr>\n",
       "    <tr>\n",
       "      <td>12570</td>\n",
       "      <td>350939</td>\n",
       "      <td>544075.261151</td>\n",
       "      <td>255434.293679</td>\n",
       "    </tr>\n",
       "  </tbody>\n",
       "</table>\n",
       "</div>"
      ],
      "text/plain": [
       "       actual        yhat_bl  ols_prediction\n",
       "12587  576038  544075.261151   575933.863879\n",
       "12632  557045  544075.261151   496937.328938\n",
       "2336   284163  544075.261151   550658.245665\n",
       "12351  572000  544075.261151   503166.240573\n",
       "12570  350939  544075.261151   255434.293679"
      ]
     },
     "execution_count": 44,
     "metadata": {},
     "output_type": "execute_result"
    }
   ],
   "source": [
    "model_df.head()"
   ]
  },
  {
   "cell_type": "code",
   "execution_count": 45,
   "metadata": {},
   "outputs": [],
   "source": [
    "X, y = train[['bedroom_count' , 'bathroom_count', 'square_feet']], train.home_value\n",
    "\n",
    "lm = sklearn.linear_model.LinearRegression().fit(X, y)\n",
    "model_df['lm_predictions'] = lm.predict(X)"
   ]
  },
  {
   "cell_type": "code",
   "execution_count": 46,
   "metadata": {},
   "outputs": [],
   "source": [
    "model_df['residual_mean'] = model_df.ols_prediction - model_df.actual"
   ]
  },
  {
   "cell_type": "code",
   "execution_count": 47,
   "metadata": {},
   "outputs": [
    {
     "data": {
      "text/html": [
       "<div>\n",
       "<style scoped>\n",
       "    .dataframe tbody tr th:only-of-type {\n",
       "        vertical-align: middle;\n",
       "    }\n",
       "\n",
       "    .dataframe tbody tr th {\n",
       "        vertical-align: top;\n",
       "    }\n",
       "\n",
       "    .dataframe thead th {\n",
       "        text-align: right;\n",
       "    }\n",
       "</style>\n",
       "<table border=\"1\" class=\"dataframe\">\n",
       "  <thead>\n",
       "    <tr style=\"text-align: right;\">\n",
       "      <th></th>\n",
       "      <th>actual</th>\n",
       "      <th>yhat_bl</th>\n",
       "      <th>ols_prediction</th>\n",
       "      <th>lm_predictions</th>\n",
       "      <th>residual_mean</th>\n",
       "    </tr>\n",
       "  </thead>\n",
       "  <tbody>\n",
       "    <tr>\n",
       "      <td>12587</td>\n",
       "      <td>576038</td>\n",
       "      <td>544075.261151</td>\n",
       "      <td>5.759339e+05</td>\n",
       "      <td>5.759339e+05</td>\n",
       "      <td>-1.041361e+02</td>\n",
       "    </tr>\n",
       "    <tr>\n",
       "      <td>12632</td>\n",
       "      <td>557045</td>\n",
       "      <td>544075.261151</td>\n",
       "      <td>4.969373e+05</td>\n",
       "      <td>4.969373e+05</td>\n",
       "      <td>-6.010767e+04</td>\n",
       "    </tr>\n",
       "    <tr>\n",
       "      <td>2336</td>\n",
       "      <td>284163</td>\n",
       "      <td>544075.261151</td>\n",
       "      <td>5.506582e+05</td>\n",
       "      <td>5.506582e+05</td>\n",
       "      <td>2.664952e+05</td>\n",
       "    </tr>\n",
       "    <tr>\n",
       "      <td>12351</td>\n",
       "      <td>572000</td>\n",
       "      <td>544075.261151</td>\n",
       "      <td>5.031662e+05</td>\n",
       "      <td>5.031662e+05</td>\n",
       "      <td>-6.883376e+04</td>\n",
       "    </tr>\n",
       "    <tr>\n",
       "      <td>12570</td>\n",
       "      <td>350939</td>\n",
       "      <td>544075.261151</td>\n",
       "      <td>2.554343e+05</td>\n",
       "      <td>2.554343e+05</td>\n",
       "      <td>-9.550471e+04</td>\n",
       "    </tr>\n",
       "    <tr>\n",
       "      <td>...</td>\n",
       "      <td>...</td>\n",
       "      <td>...</td>\n",
       "      <td>...</td>\n",
       "      <td>...</td>\n",
       "      <td>...</td>\n",
       "    </tr>\n",
       "    <tr>\n",
       "      <td>5218</td>\n",
       "      <td>533298</td>\n",
       "      <td>544075.261151</td>\n",
       "      <td>1.493169e+05</td>\n",
       "      <td>1.493169e+05</td>\n",
       "      <td>-3.839811e+05</td>\n",
       "    </tr>\n",
       "    <tr>\n",
       "      <td>12252</td>\n",
       "      <td>4336027</td>\n",
       "      <td>544075.261151</td>\n",
       "      <td>3.108117e+06</td>\n",
       "      <td>3.108117e+06</td>\n",
       "      <td>-1.227910e+06</td>\n",
       "    </tr>\n",
       "    <tr>\n",
       "      <td>1346</td>\n",
       "      <td>259655</td>\n",
       "      <td>544075.261151</td>\n",
       "      <td>4.151526e+05</td>\n",
       "      <td>4.151526e+05</td>\n",
       "      <td>1.554976e+05</td>\n",
       "    </tr>\n",
       "    <tr>\n",
       "      <td>11646</td>\n",
       "      <td>2086601</td>\n",
       "      <td>544075.261151</td>\n",
       "      <td>3.864938e+05</td>\n",
       "      <td>3.864938e+05</td>\n",
       "      <td>-1.700107e+06</td>\n",
       "    </tr>\n",
       "    <tr>\n",
       "      <td>3582</td>\n",
       "      <td>74133</td>\n",
       "      <td>544075.261151</td>\n",
       "      <td>3.281347e+05</td>\n",
       "      <td>3.281347e+05</td>\n",
       "      <td>2.540017e+05</td>\n",
       "    </tr>\n",
       "  </tbody>\n",
       "</table>\n",
       "<p>10492 rows × 5 columns</p>\n",
       "</div>"
      ],
      "text/plain": [
       "        actual        yhat_bl  ols_prediction  lm_predictions  residual_mean\n",
       "12587   576038  544075.261151    5.759339e+05    5.759339e+05  -1.041361e+02\n",
       "12632   557045  544075.261151    4.969373e+05    4.969373e+05  -6.010767e+04\n",
       "2336    284163  544075.261151    5.506582e+05    5.506582e+05   2.664952e+05\n",
       "12351   572000  544075.261151    5.031662e+05    5.031662e+05  -6.883376e+04\n",
       "12570   350939  544075.261151    2.554343e+05    2.554343e+05  -9.550471e+04\n",
       "...        ...            ...             ...             ...            ...\n",
       "5218    533298  544075.261151    1.493169e+05    1.493169e+05  -3.839811e+05\n",
       "12252  4336027  544075.261151    3.108117e+06    3.108117e+06  -1.227910e+06\n",
       "1346    259655  544075.261151    4.151526e+05    4.151526e+05   1.554976e+05\n",
       "11646  2086601  544075.261151    3.864938e+05    3.864938e+05  -1.700107e+06\n",
       "3582     74133  544075.261151    3.281347e+05    3.281347e+05   2.540017e+05\n",
       "\n",
       "[10492 rows x 5 columns]"
      ]
     },
     "execution_count": 47,
     "metadata": {},
     "output_type": "execute_result"
    }
   ],
   "source": [
    "model_df"
   ]
  },
  {
   "cell_type": "code",
   "execution_count": 48,
   "metadata": {
    "scrolled": false
   },
   "outputs": [
    {
     "data": {
      "text/html": [
       "<div>\n",
       "<style scoped>\n",
       "    .dataframe tbody tr th:only-of-type {\n",
       "        vertical-align: middle;\n",
       "    }\n",
       "\n",
       "    .dataframe tbody tr th {\n",
       "        vertical-align: top;\n",
       "    }\n",
       "\n",
       "    .dataframe thead th {\n",
       "        text-align: right;\n",
       "    }\n",
       "</style>\n",
       "<table border=\"1\" class=\"dataframe\">\n",
       "  <thead>\n",
       "    <tr style=\"text-align: right;\">\n",
       "      <th></th>\n",
       "      <th>actual</th>\n",
       "      <th>yhat_bl</th>\n",
       "      <th>ols_prediction</th>\n",
       "      <th>lm_predictions</th>\n",
       "      <th>residual_mean</th>\n",
       "      <th>residual_bl</th>\n",
       "    </tr>\n",
       "  </thead>\n",
       "  <tbody>\n",
       "    <tr>\n",
       "      <td>12587</td>\n",
       "      <td>576038</td>\n",
       "      <td>544075.261151</td>\n",
       "      <td>5.759339e+05</td>\n",
       "      <td>5.759339e+05</td>\n",
       "      <td>-1.041361e+02</td>\n",
       "      <td>-3.196274e+04</td>\n",
       "    </tr>\n",
       "    <tr>\n",
       "      <td>12632</td>\n",
       "      <td>557045</td>\n",
       "      <td>544075.261151</td>\n",
       "      <td>4.969373e+05</td>\n",
       "      <td>4.969373e+05</td>\n",
       "      <td>-6.010767e+04</td>\n",
       "      <td>-1.296974e+04</td>\n",
       "    </tr>\n",
       "    <tr>\n",
       "      <td>2336</td>\n",
       "      <td>284163</td>\n",
       "      <td>544075.261151</td>\n",
       "      <td>5.506582e+05</td>\n",
       "      <td>5.506582e+05</td>\n",
       "      <td>2.664952e+05</td>\n",
       "      <td>2.599123e+05</td>\n",
       "    </tr>\n",
       "    <tr>\n",
       "      <td>12351</td>\n",
       "      <td>572000</td>\n",
       "      <td>544075.261151</td>\n",
       "      <td>5.031662e+05</td>\n",
       "      <td>5.031662e+05</td>\n",
       "      <td>-6.883376e+04</td>\n",
       "      <td>-2.792474e+04</td>\n",
       "    </tr>\n",
       "    <tr>\n",
       "      <td>12570</td>\n",
       "      <td>350939</td>\n",
       "      <td>544075.261151</td>\n",
       "      <td>2.554343e+05</td>\n",
       "      <td>2.554343e+05</td>\n",
       "      <td>-9.550471e+04</td>\n",
       "      <td>1.931363e+05</td>\n",
       "    </tr>\n",
       "    <tr>\n",
       "      <td>...</td>\n",
       "      <td>...</td>\n",
       "      <td>...</td>\n",
       "      <td>...</td>\n",
       "      <td>...</td>\n",
       "      <td>...</td>\n",
       "      <td>...</td>\n",
       "    </tr>\n",
       "    <tr>\n",
       "      <td>5218</td>\n",
       "      <td>533298</td>\n",
       "      <td>544075.261151</td>\n",
       "      <td>1.493169e+05</td>\n",
       "      <td>1.493169e+05</td>\n",
       "      <td>-3.839811e+05</td>\n",
       "      <td>1.077726e+04</td>\n",
       "    </tr>\n",
       "    <tr>\n",
       "      <td>12252</td>\n",
       "      <td>4336027</td>\n",
       "      <td>544075.261151</td>\n",
       "      <td>3.108117e+06</td>\n",
       "      <td>3.108117e+06</td>\n",
       "      <td>-1.227910e+06</td>\n",
       "      <td>-3.791952e+06</td>\n",
       "    </tr>\n",
       "    <tr>\n",
       "      <td>1346</td>\n",
       "      <td>259655</td>\n",
       "      <td>544075.261151</td>\n",
       "      <td>4.151526e+05</td>\n",
       "      <td>4.151526e+05</td>\n",
       "      <td>1.554976e+05</td>\n",
       "      <td>2.844203e+05</td>\n",
       "    </tr>\n",
       "    <tr>\n",
       "      <td>11646</td>\n",
       "      <td>2086601</td>\n",
       "      <td>544075.261151</td>\n",
       "      <td>3.864938e+05</td>\n",
       "      <td>3.864938e+05</td>\n",
       "      <td>-1.700107e+06</td>\n",
       "      <td>-1.542526e+06</td>\n",
       "    </tr>\n",
       "    <tr>\n",
       "      <td>3582</td>\n",
       "      <td>74133</td>\n",
       "      <td>544075.261151</td>\n",
       "      <td>3.281347e+05</td>\n",
       "      <td>3.281347e+05</td>\n",
       "      <td>2.540017e+05</td>\n",
       "      <td>4.699423e+05</td>\n",
       "    </tr>\n",
       "  </tbody>\n",
       "</table>\n",
       "<p>10492 rows × 6 columns</p>\n",
       "</div>"
      ],
      "text/plain": [
       "        actual        yhat_bl  ols_prediction  lm_predictions  residual_mean  \\\n",
       "12587   576038  544075.261151    5.759339e+05    5.759339e+05  -1.041361e+02   \n",
       "12632   557045  544075.261151    4.969373e+05    4.969373e+05  -6.010767e+04   \n",
       "2336    284163  544075.261151    5.506582e+05    5.506582e+05   2.664952e+05   \n",
       "12351   572000  544075.261151    5.031662e+05    5.031662e+05  -6.883376e+04   \n",
       "12570   350939  544075.261151    2.554343e+05    2.554343e+05  -9.550471e+04   \n",
       "...        ...            ...             ...             ...            ...   \n",
       "5218    533298  544075.261151    1.493169e+05    1.493169e+05  -3.839811e+05   \n",
       "12252  4336027  544075.261151    3.108117e+06    3.108117e+06  -1.227910e+06   \n",
       "1346    259655  544075.261151    4.151526e+05    4.151526e+05   1.554976e+05   \n",
       "11646  2086601  544075.261151    3.864938e+05    3.864938e+05  -1.700107e+06   \n",
       "3582     74133  544075.261151    3.281347e+05    3.281347e+05   2.540017e+05   \n",
       "\n",
       "        residual_bl  \n",
       "12587 -3.196274e+04  \n",
       "12632 -1.296974e+04  \n",
       "2336   2.599123e+05  \n",
       "12351 -2.792474e+04  \n",
       "12570  1.931363e+05  \n",
       "...             ...  \n",
       "5218   1.077726e+04  \n",
       "12252 -3.791952e+06  \n",
       "1346   2.844203e+05  \n",
       "11646 -1.542526e+06  \n",
       "3582   4.699423e+05  \n",
       "\n",
       "[10492 rows x 6 columns]"
      ]
     },
     "execution_count": 48,
     "metadata": {},
     "output_type": "execute_result"
    }
   ],
   "source": [
    "model_df['residual_bl'] = model_df['yhat_bl'] - model_df['actual']\n",
    "model_df"
   ]
  },
  {
   "cell_type": "code",
   "execution_count": 49,
   "metadata": {},
   "outputs": [
    {
     "data": {
      "text/html": [
       "<div>\n",
       "<style scoped>\n",
       "    .dataframe tbody tr th:only-of-type {\n",
       "        vertical-align: middle;\n",
       "    }\n",
       "\n",
       "    .dataframe tbody tr th {\n",
       "        vertical-align: top;\n",
       "    }\n",
       "\n",
       "    .dataframe thead th {\n",
       "        text-align: right;\n",
       "    }\n",
       "</style>\n",
       "<table border=\"1\" class=\"dataframe\">\n",
       "  <thead>\n",
       "    <tr style=\"text-align: right;\">\n",
       "      <th></th>\n",
       "      <th>actual</th>\n",
       "      <th>yhat_bl</th>\n",
       "      <th>ols_prediction</th>\n",
       "      <th>lm_predictions</th>\n",
       "      <th>residual_mean</th>\n",
       "      <th>residual_bl</th>\n",
       "      <th>residual_lm</th>\n",
       "    </tr>\n",
       "  </thead>\n",
       "  <tbody>\n",
       "    <tr>\n",
       "      <td>12587</td>\n",
       "      <td>576038</td>\n",
       "      <td>544075.261151</td>\n",
       "      <td>5.759339e+05</td>\n",
       "      <td>5.759339e+05</td>\n",
       "      <td>-1.041361e+02</td>\n",
       "      <td>-3.196274e+04</td>\n",
       "      <td>-1.041361e+02</td>\n",
       "    </tr>\n",
       "    <tr>\n",
       "      <td>12632</td>\n",
       "      <td>557045</td>\n",
       "      <td>544075.261151</td>\n",
       "      <td>4.969373e+05</td>\n",
       "      <td>4.969373e+05</td>\n",
       "      <td>-6.010767e+04</td>\n",
       "      <td>-1.296974e+04</td>\n",
       "      <td>-6.010767e+04</td>\n",
       "    </tr>\n",
       "    <tr>\n",
       "      <td>2336</td>\n",
       "      <td>284163</td>\n",
       "      <td>544075.261151</td>\n",
       "      <td>5.506582e+05</td>\n",
       "      <td>5.506582e+05</td>\n",
       "      <td>2.664952e+05</td>\n",
       "      <td>2.599123e+05</td>\n",
       "      <td>2.664952e+05</td>\n",
       "    </tr>\n",
       "    <tr>\n",
       "      <td>12351</td>\n",
       "      <td>572000</td>\n",
       "      <td>544075.261151</td>\n",
       "      <td>5.031662e+05</td>\n",
       "      <td>5.031662e+05</td>\n",
       "      <td>-6.883376e+04</td>\n",
       "      <td>-2.792474e+04</td>\n",
       "      <td>-6.883376e+04</td>\n",
       "    </tr>\n",
       "    <tr>\n",
       "      <td>12570</td>\n",
       "      <td>350939</td>\n",
       "      <td>544075.261151</td>\n",
       "      <td>2.554343e+05</td>\n",
       "      <td>2.554343e+05</td>\n",
       "      <td>-9.550471e+04</td>\n",
       "      <td>1.931363e+05</td>\n",
       "      <td>-9.550471e+04</td>\n",
       "    </tr>\n",
       "    <tr>\n",
       "      <td>...</td>\n",
       "      <td>...</td>\n",
       "      <td>...</td>\n",
       "      <td>...</td>\n",
       "      <td>...</td>\n",
       "      <td>...</td>\n",
       "      <td>...</td>\n",
       "      <td>...</td>\n",
       "    </tr>\n",
       "    <tr>\n",
       "      <td>5218</td>\n",
       "      <td>533298</td>\n",
       "      <td>544075.261151</td>\n",
       "      <td>1.493169e+05</td>\n",
       "      <td>1.493169e+05</td>\n",
       "      <td>-3.839811e+05</td>\n",
       "      <td>1.077726e+04</td>\n",
       "      <td>-3.839811e+05</td>\n",
       "    </tr>\n",
       "    <tr>\n",
       "      <td>12252</td>\n",
       "      <td>4336027</td>\n",
       "      <td>544075.261151</td>\n",
       "      <td>3.108117e+06</td>\n",
       "      <td>3.108117e+06</td>\n",
       "      <td>-1.227910e+06</td>\n",
       "      <td>-3.791952e+06</td>\n",
       "      <td>-1.227910e+06</td>\n",
       "    </tr>\n",
       "    <tr>\n",
       "      <td>1346</td>\n",
       "      <td>259655</td>\n",
       "      <td>544075.261151</td>\n",
       "      <td>4.151526e+05</td>\n",
       "      <td>4.151526e+05</td>\n",
       "      <td>1.554976e+05</td>\n",
       "      <td>2.844203e+05</td>\n",
       "      <td>1.554976e+05</td>\n",
       "    </tr>\n",
       "    <tr>\n",
       "      <td>11646</td>\n",
       "      <td>2086601</td>\n",
       "      <td>544075.261151</td>\n",
       "      <td>3.864938e+05</td>\n",
       "      <td>3.864938e+05</td>\n",
       "      <td>-1.700107e+06</td>\n",
       "      <td>-1.542526e+06</td>\n",
       "      <td>-1.700107e+06</td>\n",
       "    </tr>\n",
       "    <tr>\n",
       "      <td>3582</td>\n",
       "      <td>74133</td>\n",
       "      <td>544075.261151</td>\n",
       "      <td>3.281347e+05</td>\n",
       "      <td>3.281347e+05</td>\n",
       "      <td>2.540017e+05</td>\n",
       "      <td>4.699423e+05</td>\n",
       "      <td>2.540017e+05</td>\n",
       "    </tr>\n",
       "  </tbody>\n",
       "</table>\n",
       "<p>10492 rows × 7 columns</p>\n",
       "</div>"
      ],
      "text/plain": [
       "        actual        yhat_bl  ols_prediction  lm_predictions  residual_mean  \\\n",
       "12587   576038  544075.261151    5.759339e+05    5.759339e+05  -1.041361e+02   \n",
       "12632   557045  544075.261151    4.969373e+05    4.969373e+05  -6.010767e+04   \n",
       "2336    284163  544075.261151    5.506582e+05    5.506582e+05   2.664952e+05   \n",
       "12351   572000  544075.261151    5.031662e+05    5.031662e+05  -6.883376e+04   \n",
       "12570   350939  544075.261151    2.554343e+05    2.554343e+05  -9.550471e+04   \n",
       "...        ...            ...             ...             ...            ...   \n",
       "5218    533298  544075.261151    1.493169e+05    1.493169e+05  -3.839811e+05   \n",
       "12252  4336027  544075.261151    3.108117e+06    3.108117e+06  -1.227910e+06   \n",
       "1346    259655  544075.261151    4.151526e+05    4.151526e+05   1.554976e+05   \n",
       "11646  2086601  544075.261151    3.864938e+05    3.864938e+05  -1.700107e+06   \n",
       "3582     74133  544075.261151    3.281347e+05    3.281347e+05   2.540017e+05   \n",
       "\n",
       "        residual_bl   residual_lm  \n",
       "12587 -3.196274e+04 -1.041361e+02  \n",
       "12632 -1.296974e+04 -6.010767e+04  \n",
       "2336   2.599123e+05  2.664952e+05  \n",
       "12351 -2.792474e+04 -6.883376e+04  \n",
       "12570  1.931363e+05 -9.550471e+04  \n",
       "...             ...           ...  \n",
       "5218   1.077726e+04 -3.839811e+05  \n",
       "12252 -3.791952e+06 -1.227910e+06  \n",
       "1346   2.844203e+05  1.554976e+05  \n",
       "11646 -1.542526e+06 -1.700107e+06  \n",
       "3582   4.699423e+05  2.540017e+05  \n",
       "\n",
       "[10492 rows x 7 columns]"
      ]
     },
     "execution_count": 49,
     "metadata": {},
     "output_type": "execute_result"
    }
   ],
   "source": [
    "model_df['residual_lm'] = model_df['lm_predictions'] - model_df['actual']\n",
    "model_df"
   ]
  },
  {
   "cell_type": "code",
   "execution_count": 50,
   "metadata": {},
   "outputs": [
    {
     "data": {
      "text/plain": [
       "True"
      ]
     },
     "execution_count": 50,
     "metadata": {},
     "output_type": "execute_result"
    }
   ],
   "source": [
    "mse_ols = mse(model_df.actual, model_df.ols_prediction)\n",
    "mse_bl = mse(model_df.actual, model_df.yhat_bl)\n",
    "\n",
    "mse_ols < mse_bl \n"
   ]
  },
  {
   "cell_type": "code",
   "execution_count": 51,
   "metadata": {},
   "outputs": [
    {
     "data": {
      "text/plain": [
       "0.387"
      ]
     },
     "execution_count": 51,
     "metadata": {},
     "output_type": "execute_result"
    }
   ],
   "source": [
    "ols_r2 = round(ols_model.rsquared,3)\n",
    "ols_r2"
   ]
  },
  {
   "cell_type": "code",
   "execution_count": 52,
   "metadata": {},
   "outputs": [
    {
     "data": {
      "text/plain": [
       "0.0"
      ]
     },
     "execution_count": 52,
     "metadata": {},
     "output_type": "execute_result"
    }
   ],
   "source": [
    "ols_p_value = ols_model.f_pvalue\n",
    "ols_p_value"
   ]
  }
 ],
 "metadata": {
  "kernelspec": {
   "display_name": "Python 3",
   "language": "python",
   "name": "python3"
  },
  "language_info": {
   "codemirror_mode": {
    "name": "ipython",
    "version": 3
   },
   "file_extension": ".py",
   "mimetype": "text/x-python",
   "name": "python",
   "nbconvert_exporter": "python",
   "pygments_lexer": "ipython3",
   "version": "3.7.4"
  }
 },
 "nbformat": 4,
 "nbformat_minor": 2
}

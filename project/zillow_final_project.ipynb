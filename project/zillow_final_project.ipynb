{
 "cells": [
  {
   "cell_type": "code",
   "execution_count": 1,
   "metadata": {},
   "outputs": [],
   "source": [
    "import pandas as pd\n",
    "import numpy as np\n",
    "import math\n",
    "\n",
    "from sklearn.linear_model import LinearRegression\n",
    "from sklearn.metrics import mean_squared_error as mse, r2_score,explained_variance_score\n",
    "\n",
    "from math import sqrt\n",
    "from sklearn.feature_selection import RFE\n",
    "from scipy import stats\n",
    "\n",
    "import seaborn as sns\n",
    "import matplotlib.pyplot as plt\n",
    "%matplotlib inline\n",
    "\n",
    "import warnings\n",
    "warnings.filterwarnings(\"ignore\")\n",
    "\n",
    "import env\n",
    "import wrangle\n",
    "import viz\n",
    "import split_scale\n",
    "import zillow_modeling"
   ]
  },
  {
   "cell_type": "markdown",
   "metadata": {},
   "source": [
    "# Step 1. Wrangle the data"
   ]
  },
  {
   "cell_type": "markdown",
   "metadata": {},
   "source": [
    "- The get_df function returns a clean dataframe by performing the following tasks:\n",
    "> 1. A SQL query of the Zillow database produces results that include only single family homes purchased between May and June 2017. \n",
    "> 2. Zeros and null values were filtered out and removed. \n",
    "> 3. Any non essential columns were dropped\n",
    "> 4. A new column was added designating the county where each home is located. All homes in the data set are located in the state of California\n",
    "> 5. A calculated field 'tax_rate' was also added\n"
   ]
  },
  {
   "cell_type": "code",
   "execution_count": 2,
   "metadata": {},
   "outputs": [
    {
     "data": {
      "text/html": [
       "<div>\n",
       "<style scoped>\n",
       "    .dataframe tbody tr th:only-of-type {\n",
       "        vertical-align: middle;\n",
       "    }\n",
       "\n",
       "    .dataframe tbody tr th {\n",
       "        vertical-align: top;\n",
       "    }\n",
       "\n",
       "    .dataframe thead th {\n",
       "        text-align: right;\n",
       "    }\n",
       "</style>\n",
       "<table border=\"1\" class=\"dataframe\">\n",
       "  <thead>\n",
       "    <tr style=\"text-align: right;\">\n",
       "      <th></th>\n",
       "      <th>square_feet</th>\n",
       "      <th>taxes</th>\n",
       "      <th>home_value</th>\n",
       "      <th>bedroom_count</th>\n",
       "      <th>bathroom_count</th>\n",
       "      <th>County</th>\n",
       "      <th>tax_rate</th>\n",
       "    </tr>\n",
       "  </thead>\n",
       "  <tbody>\n",
       "    <tr>\n",
       "      <td>0</td>\n",
       "      <td>1458.0</td>\n",
       "      <td>2319.90</td>\n",
       "      <td>136104.0</td>\n",
       "      <td>3.0</td>\n",
       "      <td>2.0</td>\n",
       "      <td>Los Angeles</td>\n",
       "      <td>0.017045</td>\n",
       "    </tr>\n",
       "    <tr>\n",
       "      <td>1</td>\n",
       "      <td>1421.0</td>\n",
       "      <td>543.69</td>\n",
       "      <td>35606.0</td>\n",
       "      <td>2.0</td>\n",
       "      <td>1.0</td>\n",
       "      <td>Los Angeles</td>\n",
       "      <td>0.015270</td>\n",
       "    </tr>\n",
       "    <tr>\n",
       "      <td>2</td>\n",
       "      <td>2541.0</td>\n",
       "      <td>9819.72</td>\n",
       "      <td>880456.0</td>\n",
       "      <td>4.0</td>\n",
       "      <td>3.0</td>\n",
       "      <td>Orange</td>\n",
       "      <td>0.011153</td>\n",
       "    </tr>\n",
       "    <tr>\n",
       "      <td>3</td>\n",
       "      <td>1650.0</td>\n",
       "      <td>7673.19</td>\n",
       "      <td>614000.0</td>\n",
       "      <td>3.0</td>\n",
       "      <td>2.0</td>\n",
       "      <td>Los Angeles</td>\n",
       "      <td>0.012497</td>\n",
       "    </tr>\n",
       "    <tr>\n",
       "      <td>4</td>\n",
       "      <td>693.0</td>\n",
       "      <td>3267.47</td>\n",
       "      <td>274237.0</td>\n",
       "      <td>2.0</td>\n",
       "      <td>1.0</td>\n",
       "      <td>Los Angeles</td>\n",
       "      <td>0.011915</td>\n",
       "    </tr>\n",
       "    <tr>\n",
       "      <td>...</td>\n",
       "      <td>...</td>\n",
       "      <td>...</td>\n",
       "      <td>...</td>\n",
       "      <td>...</td>\n",
       "      <td>...</td>\n",
       "      <td>...</td>\n",
       "      <td>...</td>\n",
       "    </tr>\n",
       "    <tr>\n",
       "      <td>14985</td>\n",
       "      <td>2526.0</td>\n",
       "      <td>5718.72</td>\n",
       "      <td>458903.0</td>\n",
       "      <td>5.0</td>\n",
       "      <td>3.0</td>\n",
       "      <td>Orange</td>\n",
       "      <td>0.012462</td>\n",
       "    </tr>\n",
       "    <tr>\n",
       "      <td>14986</td>\n",
       "      <td>2735.0</td>\n",
       "      <td>1465.88</td>\n",
       "      <td>115387.0</td>\n",
       "      <td>5.0</td>\n",
       "      <td>3.0</td>\n",
       "      <td>Orange</td>\n",
       "      <td>0.012704</td>\n",
       "    </tr>\n",
       "    <tr>\n",
       "      <td>14987</td>\n",
       "      <td>1536.0</td>\n",
       "      <td>3519.78</td>\n",
       "      <td>297097.0</td>\n",
       "      <td>3.0</td>\n",
       "      <td>2.0</td>\n",
       "      <td>Los Angeles</td>\n",
       "      <td>0.011847</td>\n",
       "    </tr>\n",
       "    <tr>\n",
       "      <td>14988</td>\n",
       "      <td>2655.0</td>\n",
       "      <td>8065.50</td>\n",
       "      <td>746963.0</td>\n",
       "      <td>5.0</td>\n",
       "      <td>3.0</td>\n",
       "      <td>Orange</td>\n",
       "      <td>0.010798</td>\n",
       "    </tr>\n",
       "    <tr>\n",
       "      <td>14989</td>\n",
       "      <td>2305.0</td>\n",
       "      <td>6996.21</td>\n",
       "      <td>579047.0</td>\n",
       "      <td>4.0</td>\n",
       "      <td>3.0</td>\n",
       "      <td>Los Angeles</td>\n",
       "      <td>0.012082</td>\n",
       "    </tr>\n",
       "  </tbody>\n",
       "</table>\n",
       "<p>14989 rows × 7 columns</p>\n",
       "</div>"
      ],
      "text/plain": [
       "       square_feet    taxes  home_value  bedroom_count  bathroom_count  \\\n",
       "0           1458.0  2319.90    136104.0            3.0             2.0   \n",
       "1           1421.0   543.69     35606.0            2.0             1.0   \n",
       "2           2541.0  9819.72    880456.0            4.0             3.0   \n",
       "3           1650.0  7673.19    614000.0            3.0             2.0   \n",
       "4            693.0  3267.47    274237.0            2.0             1.0   \n",
       "...            ...      ...         ...            ...             ...   \n",
       "14985       2526.0  5718.72    458903.0            5.0             3.0   \n",
       "14986       2735.0  1465.88    115387.0            5.0             3.0   \n",
       "14987       1536.0  3519.78    297097.0            3.0             2.0   \n",
       "14988       2655.0  8065.50    746963.0            5.0             3.0   \n",
       "14989       2305.0  6996.21    579047.0            4.0             3.0   \n",
       "\n",
       "            County  tax_rate  \n",
       "0      Los Angeles  0.017045  \n",
       "1      Los Angeles  0.015270  \n",
       "2           Orange  0.011153  \n",
       "3      Los Angeles  0.012497  \n",
       "4      Los Angeles  0.011915  \n",
       "...            ...       ...  \n",
       "14985       Orange  0.012462  \n",
       "14986       Orange  0.012704  \n",
       "14987  Los Angeles  0.011847  \n",
       "14988       Orange  0.010798  \n",
       "14989  Los Angeles  0.012082  \n",
       "\n",
       "[14989 rows x 7 columns]"
      ]
     },
     "execution_count": 2,
     "metadata": {},
     "output_type": "execute_result"
    }
   ],
   "source": [
    "df = wrangle.get_df()\n",
    "df"
   ]
  },
  {
   "cell_type": "markdown",
   "metadata": {},
   "source": [
    "- To double check that there are no zeros or null values before we start working with the data, run the following asserts and NA count"
   ]
  },
  {
   "cell_type": "code",
   "execution_count": 3,
   "metadata": {},
   "outputs": [],
   "source": [
    "assert (df['square_feet'] == 0).sum() < 1 , \"There are zeros in this column. Handle them before proceeding\"\n",
    "assert (df['taxes'] == 0).sum() < 1 , \"There are zeros in this column. Handle them before proceeding\"\n",
    "assert (df['home_value'] == 0).sum() < 1 , \"There are zeros in this column. Handle them before proceeding\"\n",
    "assert (df['bedroom_count'] == 0).sum() < 1 , \"There are zeros in this column. Handle them before proceeding\"\n",
    "assert (df['bathroom_count'] == 0).sum() < 1 , \"There are zeros in this column. Handle them before proceeding\""
   ]
  },
  {
   "cell_type": "code",
   "execution_count": 4,
   "metadata": {},
   "outputs": [
    {
     "data": {
      "text/plain": [
       "square_feet       0\n",
       "taxes             0\n",
       "home_value        0\n",
       "bedroom_count     0\n",
       "bathroom_count    0\n",
       "County            0\n",
       "tax_rate          0\n",
       "dtype: int64"
      ]
     },
     "execution_count": 4,
     "metadata": {},
     "output_type": "execute_result"
    }
   ],
   "source": [
    "df.isnull().sum()"
   ]
  },
  {
   "cell_type": "markdown",
   "metadata": {},
   "source": [
    "- Brief overview of the shape of the data and data types"
   ]
  },
  {
   "cell_type": "code",
   "execution_count": 5,
   "metadata": {},
   "outputs": [
    {
     "name": "stdout",
     "output_type": "stream",
     "text": [
      "<class 'pandas.core.frame.DataFrame'>\n",
      "Int64Index: 14989 entries, 0 to 14989\n",
      "Data columns (total 7 columns):\n",
      "square_feet       14989 non-null float64\n",
      "taxes             14989 non-null float64\n",
      "home_value        14989 non-null float64\n",
      "bedroom_count     14989 non-null float64\n",
      "bathroom_count    14989 non-null float64\n",
      "County            14989 non-null object\n",
      "tax_rate          14989 non-null float64\n",
      "dtypes: float64(6), object(1)\n",
      "memory usage: 936.8+ KB\n"
     ]
    }
   ],
   "source": [
    "df.info()"
   ]
  },
  {
   "cell_type": "markdown",
   "metadata": {},
   "source": [
    "# Step 2: Explore what we have"
   ]
  },
  {
   "cell_type": "code",
   "execution_count": 6,
   "metadata": {},
   "outputs": [
    {
     "data": {
      "image/png": "[encoded data removed]",
      "text/plain": [
       "<Figure size 1152x864 with 6 Axes>"
      ]
     },
     "metadata": {
      "needs_background": "light"
     },
     "output_type": "display_data"
    }
   ],
   "source": [
    "df.hist(grid=False, figsize=(16,12), color='green')\n",
    "plt.show()"
   ]
  },
  {
   "cell_type": "code",
   "execution_count": 7,
   "metadata": {},
   "outputs": [
    {
     "data": {
      "text/html": [
       "<div>\n",
       "<style scoped>\n",
       "    .dataframe tbody tr th:only-of-type {\n",
       "        vertical-align: middle;\n",
       "    }\n",
       "\n",
       "    .dataframe tbody tr th {\n",
       "        vertical-align: top;\n",
       "    }\n",
       "\n",
       "    .dataframe thead th {\n",
       "        text-align: right;\n",
       "    }\n",
       "</style>\n",
       "<table border=\"1\" class=\"dataframe\">\n",
       "  <thead>\n",
       "    <tr style=\"text-align: right;\">\n",
       "      <th></th>\n",
       "      <th>square_feet</th>\n",
       "      <th>taxes</th>\n",
       "      <th>home_value</th>\n",
       "      <th>bedroom_count</th>\n",
       "      <th>bathroom_count</th>\n",
       "      <th>tax_rate</th>\n",
       "    </tr>\n",
       "  </thead>\n",
       "  <tbody>\n",
       "    <tr>\n",
       "      <td>square_feet</td>\n",
       "      <td>1.000000</td>\n",
       "      <td>0.603672</td>\n",
       "      <td>0.602110</td>\n",
       "      <td>0.634737</td>\n",
       "      <td>0.855666</td>\n",
       "      <td>-0.095110</td>\n",
       "    </tr>\n",
       "    <tr>\n",
       "      <td>taxes</td>\n",
       "      <td>0.603672</td>\n",
       "      <td>1.000000</td>\n",
       "      <td>0.989347</td>\n",
       "      <td>0.279657</td>\n",
       "      <td>0.519436</td>\n",
       "      <td>-0.063567</td>\n",
       "    </tr>\n",
       "    <tr>\n",
       "      <td>home_value</td>\n",
       "      <td>0.602110</td>\n",
       "      <td>0.989347</td>\n",
       "      <td>1.000000</td>\n",
       "      <td>0.276025</td>\n",
       "      <td>0.517097</td>\n",
       "      <td>-0.134599</td>\n",
       "    </tr>\n",
       "    <tr>\n",
       "      <td>bedroom_count</td>\n",
       "      <td>0.634737</td>\n",
       "      <td>0.279657</td>\n",
       "      <td>0.276025</td>\n",
       "      <td>1.000000</td>\n",
       "      <td>0.643954</td>\n",
       "      <td>-0.056054</td>\n",
       "    </tr>\n",
       "    <tr>\n",
       "      <td>bathroom_count</td>\n",
       "      <td>0.855666</td>\n",
       "      <td>0.519436</td>\n",
       "      <td>0.517097</td>\n",
       "      <td>0.643954</td>\n",
       "      <td>1.000000</td>\n",
       "      <td>-0.097136</td>\n",
       "    </tr>\n",
       "    <tr>\n",
       "      <td>tax_rate</td>\n",
       "      <td>-0.095110</td>\n",
       "      <td>-0.063567</td>\n",
       "      <td>-0.134599</td>\n",
       "      <td>-0.056054</td>\n",
       "      <td>-0.097136</td>\n",
       "      <td>1.000000</td>\n",
       "    </tr>\n",
       "  </tbody>\n",
       "</table>\n",
       "</div>"
      ],
      "text/plain": [
       "                square_feet     taxes  home_value  bedroom_count  \\\n",
       "square_feet        1.000000  0.603672    0.602110       0.634737   \n",
       "taxes              0.603672  1.000000    0.989347       0.279657   \n",
       "home_value         0.602110  0.989347    1.000000       0.276025   \n",
       "bedroom_count      0.634737  0.279657    0.276025       1.000000   \n",
       "bathroom_count     0.855666  0.519436    0.517097       0.643954   \n",
       "tax_rate          -0.095110 -0.063567   -0.134599      -0.056054   \n",
       "\n",
       "                bathroom_count  tax_rate  \n",
       "square_feet           0.855666 -0.095110  \n",
       "taxes                 0.519436 -0.063567  \n",
       "home_value            0.517097 -0.134599  \n",
       "bedroom_count         0.643954 -0.056054  \n",
       "bathroom_count        1.000000 -0.097136  \n",
       "tax_rate             -0.097136  1.000000  "
      ]
     },
     "execution_count": 7,
     "metadata": {},
     "output_type": "execute_result"
    }
   ],
   "source": [
    "df.corr(method ='pearson') "
   ]
  },
  {
   "cell_type": "markdown",
   "metadata": {},
   "source": [
    "- The Pearson's R test is used to compare two continuous variables and see if they are linearly correlated, and the strength of the correlation.\n",
    "- Right off the bat I see some fairly stong correlations between our target variable (home_value) and square_feet as well as bathroom_count. \n",
    "- In addition, bath and bed count are highly correlated. I will look at the p value of that correlation to determine the probablity of that correlation due to chance\n",
    "- I also note that there is some correlation between our independent variable. I will consider running an RFE later to determine weight of this correlation when selecting the proper variables for modeling"
   ]
  },
  {
   "cell_type": "code",
   "execution_count": 8,
   "metadata": {},
   "outputs": [
    {
     "name": "stdout",
     "output_type": "stream",
     "text": [
      "p is 0.0000000000\n",
      "Is the p value less than alpha? True\n"
     ]
    }
   ],
   "source": [
    "alpha = 0.05\n",
    "test_results = stats.pearsonr(df.bedroom_count, df.bathroom_count)\n",
    "r, p = test_results\n",
    "print(f'p is {p:.10f}')\n",
    "print(f'Is the p value less than alpha? {p < alpha}')"
   ]
  },
  {
   "cell_type": "markdown",
   "metadata": {},
   "source": [
    "The chances that bedroom and bathroom count are *__that__* correlated due to chance are very slim."
   ]
  },
  {
   "cell_type": "markdown",
   "metadata": {},
   "source": [
    "### Hypothesis\n",
    "\n",
    "- $H_0$: Bedroom count bathroom count and square footage have no effect on the value of a single-family home\n",
    "- $H_a$: Bedroom count bathroom count and square footage have an effect on the value of a single-family home\n",
    "- alpha ($\\alpha$): 1 - confidence level (95% confidence level -> $\\alpha = .05$)\n",
    "\n",
    "Run a 2 tailed t test on bedrooom and bathroom count. To do this:\n",
    "> 1. First separate bedroom and bathroom counts into greater than and less than 3 to make categorical variables\n",
    "> 2. Then run a 2 tailed t test with the continuous variable of home_value to compare the strength of the relationship\n"
   ]
  },
  {
   "cell_type": "code",
   "execution_count": 9,
   "metadata": {},
   "outputs": [
    {
     "name": "stdout",
     "output_type": "stream",
     "text": [
      "p value is 0.0000000000\n",
      "Is the p value less than alpha? True\n"
     ]
    }
   ],
   "source": [
    "# We'll start with bedrooms\n",
    "alpha = 0.05\n",
    "greater_than_three = df[df['bedroom_count'] > 3]\n",
    "three_or_less = df[df['bedroom_count'] <= 3]\n",
    "test_results = stats.ttest_ind(greater_than_three.home_value, three_or_less.home_value)\n",
    "test_statistic, p_value = test_results\n",
    "print(f'p value is {p_value:.10f}') \n",
    "print(f'Is the p value less than alpha? {p_value < alpha}')"
   ]
  },
  {
   "cell_type": "code",
   "execution_count": 10,
   "metadata": {},
   "outputs": [
    {
     "name": "stdout",
     "output_type": "stream",
     "text": [
      "p value is 0.0000000000\n",
      "Is the p value less than alpha? True\n"
     ]
    }
   ],
   "source": [
    "# Now bathrooms\n",
    "alpha = 0.05\n",
    "greater_than_three = df[df['bathroom_count'] > 3]\n",
    "three_or_less = df[df['bathroom_count'] <= 3]\n",
    "test_results = stats.ttest_ind(greater_than_three.home_value, three_or_less.home_value)\n",
    "test_statistic, p_value = test_results\n",
    "print(f'p value is {p_value:.10f}')\n",
    "print(f'Is the p value less than alpha? {p_value < alpha}')"
   ]
  },
  {
   "cell_type": "code",
   "execution_count": 11,
   "metadata": {},
   "outputs": [
    {
     "name": "stdout",
     "output_type": "stream",
     "text": [
      "p is 0.0000000000\n",
      "r is  0.6021103241, fairly strong correlation\n",
      "Is the p value less than alpha? True\n"
     ]
    }
   ],
   "source": [
    "# We will also explore the strength of the relationship between \n",
    "# square footage and the home value\n",
    "alpha = 0.05\n",
    "test_results = stats.pearsonr(df.square_feet, df.home_value)\n",
    "r, p = test_results\n",
    "print(f'p is {p:.10f}')\n",
    "print(f'r is {r: .10f}, fairly strong correlation')\n",
    "print(f'Is the p value less than alpha? {p < alpha}')"
   ]
  },
  {
   "cell_type": "markdown",
   "metadata": {},
   "source": [
    "##### Based on the Pearson's R and t-test results, both with p_values < $\\alpha$, I reject the null hypothesis ($H_0$: Bedroom count bathroom count and square footage have no effect on the value of a single-family home)."
   ]
  },
  {
   "cell_type": "markdown",
   "metadata": {},
   "source": [
    "### Let's answer the question about distribution of tax rates by county"
   ]
  },
  {
   "cell_type": "code",
   "execution_count": 12,
   "metadata": {},
   "outputs": [
    {
     "data": {
      "text/plain": [
       "Los Angeles    9604\n",
       "Orange         4094\n",
       "Ventura        1291\n",
       "Name: County, dtype: int64"
      ]
     },
     "execution_count": 12,
     "metadata": {},
     "output_type": "execute_result"
    }
   ],
   "source": [
    "df.County.value_counts()"
   ]
  },
  {
   "cell_type": "code",
   "execution_count": 13,
   "metadata": {},
   "outputs": [
    {
     "data": {
      "image/png": "[encoded data removed]",
      "text/plain": [
       "<Figure size 1008x360 with 3 Axes>"
      ]
     },
     "metadata": {
      "needs_background": "light"
     },
     "output_type": "display_data"
    }
   ],
   "source": [
    "#Distributions of tax_rates by county\n",
    "plot = viz.plot_distributions()"
   ]
  },
  {
   "cell_type": "code",
   "execution_count": 14,
   "metadata": {},
   "outputs": [],
   "source": [
    "county_mean_tax_rate = pd.DataFrame(round(df.groupby(\"County\").tax_rate.mean(),4))\n",
    "county_mean_tax_rate.columns = ['Mean Tax Rate']"
   ]
  },
  {
   "cell_type": "code",
   "execution_count": 15,
   "metadata": {},
   "outputs": [
    {
     "data": {
      "text/html": [
       "<div>\n",
       "<style scoped>\n",
       "    .dataframe tbody tr th:only-of-type {\n",
       "        vertical-align: middle;\n",
       "    }\n",
       "\n",
       "    .dataframe tbody tr th {\n",
       "        vertical-align: top;\n",
       "    }\n",
       "\n",
       "    .dataframe thead th {\n",
       "        text-align: right;\n",
       "    }\n",
       "</style>\n",
       "<table border=\"1\" class=\"dataframe\">\n",
       "  <thead>\n",
       "    <tr style=\"text-align: right;\">\n",
       "      <th></th>\n",
       "      <th>Mean Tax Rate</th>\n",
       "    </tr>\n",
       "    <tr>\n",
       "      <th>County</th>\n",
       "      <th></th>\n",
       "    </tr>\n",
       "  </thead>\n",
       "  <tbody>\n",
       "    <tr>\n",
       "      <td>Los Angeles</td>\n",
       "      <td>0.0142</td>\n",
       "    </tr>\n",
       "    <tr>\n",
       "      <td>Orange</td>\n",
       "      <td>0.0121</td>\n",
       "    </tr>\n",
       "    <tr>\n",
       "      <td>Ventura</td>\n",
       "      <td>0.0121</td>\n",
       "    </tr>\n",
       "  </tbody>\n",
       "</table>\n",
       "</div>"
      ],
      "text/plain": [
       "             Mean Tax Rate\n",
       "County                    \n",
       "Los Angeles         0.0142\n",
       "Orange              0.0121\n",
       "Ventura             0.0121"
      ]
     },
     "execution_count": 15,
     "metadata": {},
     "output_type": "execute_result"
    }
   ],
   "source": [
    "county_mean_tax_rate"
   ]
  },
  {
   "cell_type": "markdown",
   "metadata": {},
   "source": [
    "# Step 3: Modeling"
   ]
  },
  {
   "cell_type": "markdown",
   "metadata": {},
   "source": [
    "### Start with splitting the data"
   ]
  },
  {
   "cell_type": "markdown",
   "metadata": {},
   "source": [
    "- Our target variable is the home_value\n",
    "- We were told to use bedroom and bathroom count along with square root. I'll run an RFE to determine if those three are the best features to use given that they showed some correlation with eachother"
   ]
  },
  {
   "cell_type": "code",
   "execution_count": 16,
   "metadata": {},
   "outputs": [],
   "source": [
    "train, test = split_scale.split_data(df)"
   ]
  },
  {
   "cell_type": "markdown",
   "metadata": {},
   "source": [
    "- Now that the data is split into the train and test variables, let's take a look at each variable"
   ]
  },
  {
   "cell_type": "code",
   "execution_count": 17,
   "metadata": {},
   "outputs": [
    {
     "data": {
      "text/html": [
       "<div>\n",
       "<style scoped>\n",
       "    .dataframe tbody tr th:only-of-type {\n",
       "        vertical-align: middle;\n",
       "    }\n",
       "\n",
       "    .dataframe tbody tr th {\n",
       "        vertical-align: top;\n",
       "    }\n",
       "\n",
       "    .dataframe thead th {\n",
       "        text-align: right;\n",
       "    }\n",
       "</style>\n",
       "<table border=\"1\" class=\"dataframe\">\n",
       "  <thead>\n",
       "    <tr style=\"text-align: right;\">\n",
       "      <th></th>\n",
       "      <th>square_feet</th>\n",
       "      <th>taxes</th>\n",
       "      <th>home_value</th>\n",
       "      <th>bedroom_count</th>\n",
       "      <th>bathroom_count</th>\n",
       "      <th>County</th>\n",
       "      <th>tax_rate</th>\n",
       "    </tr>\n",
       "  </thead>\n",
       "  <tbody>\n",
       "    <tr>\n",
       "      <td>1860</td>\n",
       "      <td>1938.0</td>\n",
       "      <td>10310.56</td>\n",
       "      <td>208558.0</td>\n",
       "      <td>4.0</td>\n",
       "      <td>2.0</td>\n",
       "      <td>Los Angeles</td>\n",
       "      <td>0.049437</td>\n",
       "    </tr>\n",
       "    <tr>\n",
       "      <td>442</td>\n",
       "      <td>2891.0</td>\n",
       "      <td>9189.99</td>\n",
       "      <td>757831.0</td>\n",
       "      <td>4.0</td>\n",
       "      <td>4.0</td>\n",
       "      <td>Los Angeles</td>\n",
       "      <td>0.012127</td>\n",
       "    </tr>\n",
       "    <tr>\n",
       "      <td>14935</td>\n",
       "      <td>1574.0</td>\n",
       "      <td>5143.48</td>\n",
       "      <td>446004.0</td>\n",
       "      <td>3.0</td>\n",
       "      <td>2.5</td>\n",
       "      <td>Orange</td>\n",
       "      <td>0.011532</td>\n",
       "    </tr>\n",
       "    <tr>\n",
       "      <td>5221</td>\n",
       "      <td>2304.0</td>\n",
       "      <td>7069.39</td>\n",
       "      <td>613428.0</td>\n",
       "      <td>4.0</td>\n",
       "      <td>3.0</td>\n",
       "      <td>Los Angeles</td>\n",
       "      <td>0.011524</td>\n",
       "    </tr>\n",
       "    <tr>\n",
       "      <td>3663</td>\n",
       "      <td>998.0</td>\n",
       "      <td>830.35</td>\n",
       "      <td>44679.0</td>\n",
       "      <td>2.0</td>\n",
       "      <td>1.0</td>\n",
       "      <td>Los Angeles</td>\n",
       "      <td>0.018585</td>\n",
       "    </tr>\n",
       "  </tbody>\n",
       "</table>\n",
       "</div>"
      ],
      "text/plain": [
       "       square_feet     taxes  home_value  bedroom_count  bathroom_count  \\\n",
       "1860        1938.0  10310.56    208558.0            4.0             2.0   \n",
       "442         2891.0   9189.99    757831.0            4.0             4.0   \n",
       "14935       1574.0   5143.48    446004.0            3.0             2.5   \n",
       "5221        2304.0   7069.39    613428.0            4.0             3.0   \n",
       "3663         998.0    830.35     44679.0            2.0             1.0   \n",
       "\n",
       "            County  tax_rate  \n",
       "1860   Los Angeles  0.049437  \n",
       "442    Los Angeles  0.012127  \n",
       "14935       Orange  0.011532  \n",
       "5221   Los Angeles  0.011524  \n",
       "3663   Los Angeles  0.018585  "
      ]
     },
     "execution_count": 17,
     "metadata": {},
     "output_type": "execute_result"
    }
   ],
   "source": [
    "train.head()"
   ]
  },
  {
   "cell_type": "code",
   "execution_count": 18,
   "metadata": {},
   "outputs": [
    {
     "data": {
      "text/plain": [
       "(11241, 7)"
      ]
     },
     "execution_count": 18,
     "metadata": {},
     "output_type": "execute_result"
    }
   ],
   "source": [
    "train.shape"
   ]
  },
  {
   "cell_type": "code",
   "execution_count": 19,
   "metadata": {},
   "outputs": [
    {
     "data": {
      "text/html": [
       "<div>\n",
       "<style scoped>\n",
       "    .dataframe tbody tr th:only-of-type {\n",
       "        vertical-align: middle;\n",
       "    }\n",
       "\n",
       "    .dataframe tbody tr th {\n",
       "        vertical-align: top;\n",
       "    }\n",
       "\n",
       "    .dataframe thead th {\n",
       "        text-align: right;\n",
       "    }\n",
       "</style>\n",
       "<table border=\"1\" class=\"dataframe\">\n",
       "  <thead>\n",
       "    <tr style=\"text-align: right;\">\n",
       "      <th></th>\n",
       "      <th>square_feet</th>\n",
       "      <th>taxes</th>\n",
       "      <th>home_value</th>\n",
       "      <th>bedroom_count</th>\n",
       "      <th>bathroom_count</th>\n",
       "      <th>County</th>\n",
       "      <th>tax_rate</th>\n",
       "    </tr>\n",
       "  </thead>\n",
       "  <tbody>\n",
       "    <tr>\n",
       "      <td>3144</td>\n",
       "      <td>2774.0</td>\n",
       "      <td>4309.47</td>\n",
       "      <td>286000.0</td>\n",
       "      <td>4.0</td>\n",
       "      <td>3.0</td>\n",
       "      <td>Los Angeles</td>\n",
       "      <td>0.015068</td>\n",
       "    </tr>\n",
       "    <tr>\n",
       "      <td>6315</td>\n",
       "      <td>2142.0</td>\n",
       "      <td>8822.75</td>\n",
       "      <td>750000.0</td>\n",
       "      <td>4.0</td>\n",
       "      <td>3.0</td>\n",
       "      <td>Los Angeles</td>\n",
       "      <td>0.011764</td>\n",
       "    </tr>\n",
       "    <tr>\n",
       "      <td>2442</td>\n",
       "      <td>2150.0</td>\n",
       "      <td>4161.99</td>\n",
       "      <td>279000.0</td>\n",
       "      <td>3.0</td>\n",
       "      <td>2.0</td>\n",
       "      <td>Los Angeles</td>\n",
       "      <td>0.014918</td>\n",
       "    </tr>\n",
       "    <tr>\n",
       "      <td>4483</td>\n",
       "      <td>3359.0</td>\n",
       "      <td>6895.67</td>\n",
       "      <td>559002.0</td>\n",
       "      <td>4.0</td>\n",
       "      <td>4.0</td>\n",
       "      <td>Los Angeles</td>\n",
       "      <td>0.012336</td>\n",
       "    </tr>\n",
       "    <tr>\n",
       "      <td>9536</td>\n",
       "      <td>2743.0</td>\n",
       "      <td>12796.32</td>\n",
       "      <td>1177495.0</td>\n",
       "      <td>4.0</td>\n",
       "      <td>3.5</td>\n",
       "      <td>Orange</td>\n",
       "      <td>0.010867</td>\n",
       "    </tr>\n",
       "  </tbody>\n",
       "</table>\n",
       "</div>"
      ],
      "text/plain": [
       "      square_feet     taxes  home_value  bedroom_count  bathroom_count  \\\n",
       "3144       2774.0   4309.47    286000.0            4.0             3.0   \n",
       "6315       2142.0   8822.75    750000.0            4.0             3.0   \n",
       "2442       2150.0   4161.99    279000.0            3.0             2.0   \n",
       "4483       3359.0   6895.67    559002.0            4.0             4.0   \n",
       "9536       2743.0  12796.32   1177495.0            4.0             3.5   \n",
       "\n",
       "           County  tax_rate  \n",
       "3144  Los Angeles  0.015068  \n",
       "6315  Los Angeles  0.011764  \n",
       "2442  Los Angeles  0.014918  \n",
       "4483  Los Angeles  0.012336  \n",
       "9536       Orange  0.010867  "
      ]
     },
     "execution_count": 19,
     "metadata": {},
     "output_type": "execute_result"
    }
   ],
   "source": [
    "test.head()"
   ]
  },
  {
   "cell_type": "code",
   "execution_count": 20,
   "metadata": {},
   "outputs": [
    {
     "data": {
      "text/plain": [
       "(3748, 7)"
      ]
     },
     "execution_count": 20,
     "metadata": {},
     "output_type": "execute_result"
    }
   ],
   "source": [
    "test.shape"
   ]
  },
  {
   "cell_type": "markdown",
   "metadata": {},
   "source": [
    "- Split looks good!"
   ]
  },
  {
   "cell_type": "markdown",
   "metadata": {},
   "source": [
    "#### Now that the data is split apporpriately, let's define our target and dependent variables for both the train and test data"
   ]
  },
  {
   "cell_type": "code",
   "execution_count": 21,
   "metadata": {},
   "outputs": [],
   "source": [
    "X_train = train[['square_feet', 'bedroom_count', 'bathroom_count']]\n",
    "X_test = test[['square_feet', 'bedroom_count', 'bathroom_count']]\n",
    "y_train = train[['home_value']]\n",
    "y_test = test[['home_value']]"
   ]
  },
  {
   "cell_type": "code",
   "execution_count": 22,
   "metadata": {},
   "outputs": [
    {
     "data": {
      "image/png": "[encoded data removed]",
      "text/plain": [
       "<Figure size 540x540 with 12 Axes>"
      ]
     },
     "metadata": {
      "needs_background": "light"
     },
     "output_type": "display_data"
    }
   ],
   "source": [
    "sns.pairplot(X_train, kind=\"reg\")\n",
    "plt.show()"
   ]
  },
  {
   "cell_type": "markdown",
   "metadata": {},
   "source": [
    "- Next step is to create a dataframe that will hold the actual home values as well as all the predictions from the models we will be creating. \n",
    "> I'll make a copy of the data so as not to mutate the original dataset"
   ]
  },
  {
   "cell_type": "code",
   "execution_count": 23,
   "metadata": {},
   "outputs": [
    {
     "data": {
      "text/html": [
       "<div>\n",
       "<style scoped>\n",
       "    .dataframe tbody tr th:only-of-type {\n",
       "        vertical-align: middle;\n",
       "    }\n",
       "\n",
       "    .dataframe tbody tr th {\n",
       "        vertical-align: top;\n",
       "    }\n",
       "\n",
       "    .dataframe thead th {\n",
       "        text-align: right;\n",
       "    }\n",
       "</style>\n",
       "<table border=\"1\" class=\"dataframe\">\n",
       "  <thead>\n",
       "    <tr style=\"text-align: right;\">\n",
       "      <th></th>\n",
       "      <th>home_value</th>\n",
       "    </tr>\n",
       "  </thead>\n",
       "  <tbody>\n",
       "    <tr>\n",
       "      <td>1860</td>\n",
       "      <td>208558.0</td>\n",
       "    </tr>\n",
       "    <tr>\n",
       "      <td>442</td>\n",
       "      <td>757831.0</td>\n",
       "    </tr>\n",
       "    <tr>\n",
       "      <td>14935</td>\n",
       "      <td>446004.0</td>\n",
       "    </tr>\n",
       "    <tr>\n",
       "      <td>5221</td>\n",
       "      <td>613428.0</td>\n",
       "    </tr>\n",
       "    <tr>\n",
       "      <td>3663</td>\n",
       "      <td>44679.0</td>\n",
       "    </tr>\n",
       "  </tbody>\n",
       "</table>\n",
       "</div>"
      ],
      "text/plain": [
       "       home_value\n",
       "1860     208558.0\n",
       "442      757831.0\n",
       "14935    446004.0\n",
       "5221     613428.0\n",
       "3663      44679.0"
      ]
     },
     "execution_count": 23,
     "metadata": {},
     "output_type": "execute_result"
    }
   ],
   "source": [
    "model_df = y_train.copy()\n",
    "model_df.head()"
   ]
  },
  {
   "cell_type": "code",
   "execution_count": 24,
   "metadata": {},
   "outputs": [
    {
     "data": {
      "text/html": [
       "<div>\n",
       "<style scoped>\n",
       "    .dataframe tbody tr th:only-of-type {\n",
       "        vertical-align: middle;\n",
       "    }\n",
       "\n",
       "    .dataframe tbody tr th {\n",
       "        vertical-align: top;\n",
       "    }\n",
       "\n",
       "    .dataframe thead th {\n",
       "        text-align: right;\n",
       "    }\n",
       "</style>\n",
       "<table border=\"1\" class=\"dataframe\">\n",
       "  <thead>\n",
       "    <tr style=\"text-align: right;\">\n",
       "      <th></th>\n",
       "      <th>actual</th>\n",
       "    </tr>\n",
       "  </thead>\n",
       "  <tbody>\n",
       "    <tr>\n",
       "      <td>1860</td>\n",
       "      <td>208558.0</td>\n",
       "    </tr>\n",
       "    <tr>\n",
       "      <td>442</td>\n",
       "      <td>757831.0</td>\n",
       "    </tr>\n",
       "    <tr>\n",
       "      <td>14935</td>\n",
       "      <td>446004.0</td>\n",
       "    </tr>\n",
       "    <tr>\n",
       "      <td>5221</td>\n",
       "      <td>613428.0</td>\n",
       "    </tr>\n",
       "    <tr>\n",
       "      <td>3663</td>\n",
       "      <td>44679.0</td>\n",
       "    </tr>\n",
       "  </tbody>\n",
       "</table>\n",
       "</div>"
      ],
      "text/plain": [
       "         actual\n",
       "1860   208558.0\n",
       "442    757831.0\n",
       "14935  446004.0\n",
       "5221   613428.0\n",
       "3663    44679.0"
      ]
     },
     "execution_count": 24,
     "metadata": {},
     "output_type": "execute_result"
    }
   ],
   "source": [
    "model_df = model_df.rename(columns={'home_value':'actual'})\n",
    "model_df.head()"
   ]
  },
  {
   "cell_type": "markdown",
   "metadata": {},
   "source": [
    "- I'll start by creating a basline model. In order for our model to be worth working with, the predictions given will need to be better than making predictions using just the mean price of homes"
   ]
  },
  {
   "cell_type": "code",
   "execution_count": 25,
   "metadata": {},
   "outputs": [
    {
     "data": {
      "text/html": [
       "<div>\n",
       "<style scoped>\n",
       "    .dataframe tbody tr th:only-of-type {\n",
       "        vertical-align: middle;\n",
       "    }\n",
       "\n",
       "    .dataframe tbody tr th {\n",
       "        vertical-align: top;\n",
       "    }\n",
       "\n",
       "    .dataframe thead th {\n",
       "        text-align: right;\n",
       "    }\n",
       "</style>\n",
       "<table border=\"1\" class=\"dataframe\">\n",
       "  <thead>\n",
       "    <tr style=\"text-align: right;\">\n",
       "      <th></th>\n",
       "      <th>actual</th>\n",
       "      <th>yhat_bl</th>\n",
       "    </tr>\n",
       "  </thead>\n",
       "  <tbody>\n",
       "    <tr>\n",
       "      <td>1860</td>\n",
       "      <td>208558.0</td>\n",
       "      <td>543719.613202</td>\n",
       "    </tr>\n",
       "    <tr>\n",
       "      <td>442</td>\n",
       "      <td>757831.0</td>\n",
       "      <td>543719.613202</td>\n",
       "    </tr>\n",
       "    <tr>\n",
       "      <td>14935</td>\n",
       "      <td>446004.0</td>\n",
       "      <td>543719.613202</td>\n",
       "    </tr>\n",
       "    <tr>\n",
       "      <td>5221</td>\n",
       "      <td>613428.0</td>\n",
       "      <td>543719.613202</td>\n",
       "    </tr>\n",
       "    <tr>\n",
       "      <td>3663</td>\n",
       "      <td>44679.0</td>\n",
       "      <td>543719.613202</td>\n",
       "    </tr>\n",
       "  </tbody>\n",
       "</table>\n",
       "</div>"
      ],
      "text/plain": [
       "         actual        yhat_bl\n",
       "1860   208558.0  543719.613202\n",
       "442    757831.0  543719.613202\n",
       "14935  446004.0  543719.613202\n",
       "5221   613428.0  543719.613202\n",
       "3663    44679.0  543719.613202"
      ]
     },
     "execution_count": 25,
     "metadata": {},
     "output_type": "execute_result"
    }
   ],
   "source": [
    "model_df['yhat_bl'] = model_df['actual'].mean()\n",
    "model_df.head()"
   ]
  },
  {
   "cell_type": "markdown",
   "metadata": {},
   "source": [
    "- Let's do a linear model\n",
    "> Right now, the only numeric features we can work with are the bedroom count, bathroom count and square footage. Using the tax amount would be using a feature based on the target feature which would produce unfairly accurate data."
   ]
  },
  {
   "cell_type": "code",
   "execution_count": 26,
   "metadata": {},
   "outputs": [],
   "source": [
    "linear_model=LinearRegression()\n",
    "linear_model.fit(X_train,y_train)\n",
    "linear_predictions=linear_model.predict(X_train)\n",
    "model_df[\"linear_predictions\"]=linear_predictions"
   ]
  },
  {
   "cell_type": "code",
   "execution_count": 27,
   "metadata": {},
   "outputs": [
    {
     "data": {
      "text/html": [
       "<div>\n",
       "<style scoped>\n",
       "    .dataframe tbody tr th:only-of-type {\n",
       "        vertical-align: middle;\n",
       "    }\n",
       "\n",
       "    .dataframe tbody tr th {\n",
       "        vertical-align: top;\n",
       "    }\n",
       "\n",
       "    .dataframe thead th {\n",
       "        text-align: right;\n",
       "    }\n",
       "</style>\n",
       "<table border=\"1\" class=\"dataframe\">\n",
       "  <thead>\n",
       "    <tr style=\"text-align: right;\">\n",
       "      <th></th>\n",
       "      <th>actual</th>\n",
       "      <th>yhat_bl</th>\n",
       "      <th>linear_predictions</th>\n",
       "    </tr>\n",
       "  </thead>\n",
       "  <tbody>\n",
       "    <tr>\n",
       "      <td>1860</td>\n",
       "      <td>208558.0</td>\n",
       "      <td>543719.613202</td>\n",
       "      <td>4.112534e+05</td>\n",
       "    </tr>\n",
       "    <tr>\n",
       "      <td>442</td>\n",
       "      <td>757831.0</td>\n",
       "      <td>543719.613202</td>\n",
       "      <td>9.964268e+05</td>\n",
       "    </tr>\n",
       "    <tr>\n",
       "      <td>14935</td>\n",
       "      <td>446004.0</td>\n",
       "      <td>543719.613202</td>\n",
       "      <td>4.330799e+05</td>\n",
       "    </tr>\n",
       "    <tr>\n",
       "      <td>5221</td>\n",
       "      <td>613428.0</td>\n",
       "      <td>543719.613202</td>\n",
       "      <td>6.525366e+05</td>\n",
       "    </tr>\n",
       "    <tr>\n",
       "      <td>3663</td>\n",
       "      <td>44679.0</td>\n",
       "      <td>543719.613202</td>\n",
       "      <td>2.137686e+05</td>\n",
       "    </tr>\n",
       "    <tr>\n",
       "      <td>...</td>\n",
       "      <td>...</td>\n",
       "      <td>...</td>\n",
       "      <td>...</td>\n",
       "    </tr>\n",
       "    <tr>\n",
       "      <td>5219</td>\n",
       "      <td>535719.0</td>\n",
       "      <td>543719.613202</td>\n",
       "      <td>4.652660e+05</td>\n",
       "    </tr>\n",
       "    <tr>\n",
       "      <td>12253</td>\n",
       "      <td>231304.0</td>\n",
       "      <td>543719.613202</td>\n",
       "      <td>1.406528e+05</td>\n",
       "    </tr>\n",
       "    <tr>\n",
       "      <td>1346</td>\n",
       "      <td>1116000.0</td>\n",
       "      <td>543719.613202</td>\n",
       "      <td>1.443775e+06</td>\n",
       "    </tr>\n",
       "    <tr>\n",
       "      <td>11647</td>\n",
       "      <td>353000.0</td>\n",
       "      <td>543719.613202</td>\n",
       "      <td>2.824829e+05</td>\n",
       "    </tr>\n",
       "    <tr>\n",
       "      <td>3582</td>\n",
       "      <td>117904.0</td>\n",
       "      <td>543719.613202</td>\n",
       "      <td>3.909026e+05</td>\n",
       "    </tr>\n",
       "  </tbody>\n",
       "</table>\n",
       "<p>11241 rows × 3 columns</p>\n",
       "</div>"
      ],
      "text/plain": [
       "          actual        yhat_bl  linear_predictions\n",
       "1860    208558.0  543719.613202        4.112534e+05\n",
       "442     757831.0  543719.613202        9.964268e+05\n",
       "14935   446004.0  543719.613202        4.330799e+05\n",
       "5221    613428.0  543719.613202        6.525366e+05\n",
       "3663     44679.0  543719.613202        2.137686e+05\n",
       "...          ...            ...                 ...\n",
       "5219    535719.0  543719.613202        4.652660e+05\n",
       "12253   231304.0  543719.613202        1.406528e+05\n",
       "1346   1116000.0  543719.613202        1.443775e+06\n",
       "11647   353000.0  543719.613202        2.824829e+05\n",
       "3582    117904.0  543719.613202        3.909026e+05\n",
       "\n",
       "[11241 rows x 3 columns]"
      ]
     },
     "execution_count": 27,
     "metadata": {},
     "output_type": "execute_result"
    }
   ],
   "source": [
    "model_df"
   ]
  },
  {
   "cell_type": "markdown",
   "metadata": {},
   "source": [
    "- For plotting purposes, I'll add the residuals for both the baseline and the linear model to this dataframe"
   ]
  },
  {
   "cell_type": "code",
   "execution_count": 28,
   "metadata": {},
   "outputs": [
    {
     "data": {
      "text/html": [
       "<div>\n",
       "<style scoped>\n",
       "    .dataframe tbody tr th:only-of-type {\n",
       "        vertical-align: middle;\n",
       "    }\n",
       "\n",
       "    .dataframe tbody tr th {\n",
       "        vertical-align: top;\n",
       "    }\n",
       "\n",
       "    .dataframe thead th {\n",
       "        text-align: right;\n",
       "    }\n",
       "</style>\n",
       "<table border=\"1\" class=\"dataframe\">\n",
       "  <thead>\n",
       "    <tr style=\"text-align: right;\">\n",
       "      <th></th>\n",
       "      <th>actual</th>\n",
       "      <th>yhat_bl</th>\n",
       "      <th>linear_predictions</th>\n",
       "      <th>residual_bl</th>\n",
       "    </tr>\n",
       "  </thead>\n",
       "  <tbody>\n",
       "    <tr>\n",
       "      <td>1860</td>\n",
       "      <td>208558.0</td>\n",
       "      <td>543719.613202</td>\n",
       "      <td>4.112534e+05</td>\n",
       "      <td>335161.613202</td>\n",
       "    </tr>\n",
       "    <tr>\n",
       "      <td>442</td>\n",
       "      <td>757831.0</td>\n",
       "      <td>543719.613202</td>\n",
       "      <td>9.964268e+05</td>\n",
       "      <td>-214111.386798</td>\n",
       "    </tr>\n",
       "    <tr>\n",
       "      <td>14935</td>\n",
       "      <td>446004.0</td>\n",
       "      <td>543719.613202</td>\n",
       "      <td>4.330799e+05</td>\n",
       "      <td>97715.613202</td>\n",
       "    </tr>\n",
       "    <tr>\n",
       "      <td>5221</td>\n",
       "      <td>613428.0</td>\n",
       "      <td>543719.613202</td>\n",
       "      <td>6.525366e+05</td>\n",
       "      <td>-69708.386798</td>\n",
       "    </tr>\n",
       "    <tr>\n",
       "      <td>3663</td>\n",
       "      <td>44679.0</td>\n",
       "      <td>543719.613202</td>\n",
       "      <td>2.137686e+05</td>\n",
       "      <td>499040.613202</td>\n",
       "    </tr>\n",
       "    <tr>\n",
       "      <td>...</td>\n",
       "      <td>...</td>\n",
       "      <td>...</td>\n",
       "      <td>...</td>\n",
       "      <td>...</td>\n",
       "    </tr>\n",
       "    <tr>\n",
       "      <td>5219</td>\n",
       "      <td>535719.0</td>\n",
       "      <td>543719.613202</td>\n",
       "      <td>4.652660e+05</td>\n",
       "      <td>8000.613202</td>\n",
       "    </tr>\n",
       "    <tr>\n",
       "      <td>12253</td>\n",
       "      <td>231304.0</td>\n",
       "      <td>543719.613202</td>\n",
       "      <td>1.406528e+05</td>\n",
       "      <td>312415.613202</td>\n",
       "    </tr>\n",
       "    <tr>\n",
       "      <td>1346</td>\n",
       "      <td>1116000.0</td>\n",
       "      <td>543719.613202</td>\n",
       "      <td>1.443775e+06</td>\n",
       "      <td>-572280.386798</td>\n",
       "    </tr>\n",
       "    <tr>\n",
       "      <td>11647</td>\n",
       "      <td>353000.0</td>\n",
       "      <td>543719.613202</td>\n",
       "      <td>2.824829e+05</td>\n",
       "      <td>190719.613202</td>\n",
       "    </tr>\n",
       "    <tr>\n",
       "      <td>3582</td>\n",
       "      <td>117904.0</td>\n",
       "      <td>543719.613202</td>\n",
       "      <td>3.909026e+05</td>\n",
       "      <td>425815.613202</td>\n",
       "    </tr>\n",
       "  </tbody>\n",
       "</table>\n",
       "<p>11241 rows × 4 columns</p>\n",
       "</div>"
      ],
      "text/plain": [
       "          actual        yhat_bl  linear_predictions    residual_bl\n",
       "1860    208558.0  543719.613202        4.112534e+05  335161.613202\n",
       "442     757831.0  543719.613202        9.964268e+05 -214111.386798\n",
       "14935   446004.0  543719.613202        4.330799e+05   97715.613202\n",
       "5221    613428.0  543719.613202        6.525366e+05  -69708.386798\n",
       "3663     44679.0  543719.613202        2.137686e+05  499040.613202\n",
       "...          ...            ...                 ...            ...\n",
       "5219    535719.0  543719.613202        4.652660e+05    8000.613202\n",
       "12253   231304.0  543719.613202        1.406528e+05  312415.613202\n",
       "1346   1116000.0  543719.613202        1.443775e+06 -572280.386798\n",
       "11647   353000.0  543719.613202        2.824829e+05  190719.613202\n",
       "3582    117904.0  543719.613202        3.909026e+05  425815.613202\n",
       "\n",
       "[11241 rows x 4 columns]"
      ]
     },
     "execution_count": 28,
     "metadata": {},
     "output_type": "execute_result"
    }
   ],
   "source": [
    "model_df['residual_bl'] = model_df['yhat_bl'] - model_df['actual']\n",
    "model_df"
   ]
  },
  {
   "cell_type": "code",
   "execution_count": 29,
   "metadata": {},
   "outputs": [
    {
     "data": {
      "text/html": [
       "<div>\n",
       "<style scoped>\n",
       "    .dataframe tbody tr th:only-of-type {\n",
       "        vertical-align: middle;\n",
       "    }\n",
       "\n",
       "    .dataframe tbody tr th {\n",
       "        vertical-align: top;\n",
       "    }\n",
       "\n",
       "    .dataframe thead th {\n",
       "        text-align: right;\n",
       "    }\n",
       "</style>\n",
       "<table border=\"1\" class=\"dataframe\">\n",
       "  <thead>\n",
       "    <tr style=\"text-align: right;\">\n",
       "      <th></th>\n",
       "      <th>actual</th>\n",
       "      <th>yhat_bl</th>\n",
       "      <th>linear_predictions</th>\n",
       "      <th>residual_bl</th>\n",
       "      <th>residual_lm</th>\n",
       "    </tr>\n",
       "  </thead>\n",
       "  <tbody>\n",
       "    <tr>\n",
       "      <td>1860</td>\n",
       "      <td>208558.0</td>\n",
       "      <td>543719.613202</td>\n",
       "      <td>4.112534e+05</td>\n",
       "      <td>335161.613202</td>\n",
       "      <td>202695.442740</td>\n",
       "    </tr>\n",
       "    <tr>\n",
       "      <td>442</td>\n",
       "      <td>757831.0</td>\n",
       "      <td>543719.613202</td>\n",
       "      <td>9.964268e+05</td>\n",
       "      <td>-214111.386798</td>\n",
       "      <td>238595.757168</td>\n",
       "    </tr>\n",
       "    <tr>\n",
       "      <td>14935</td>\n",
       "      <td>446004.0</td>\n",
       "      <td>543719.613202</td>\n",
       "      <td>4.330799e+05</td>\n",
       "      <td>97715.613202</td>\n",
       "      <td>-12924.069121</td>\n",
       "    </tr>\n",
       "    <tr>\n",
       "      <td>5221</td>\n",
       "      <td>613428.0</td>\n",
       "      <td>543719.613202</td>\n",
       "      <td>6.525366e+05</td>\n",
       "      <td>-69708.386798</td>\n",
       "      <td>39108.557265</td>\n",
       "    </tr>\n",
       "    <tr>\n",
       "      <td>3663</td>\n",
       "      <td>44679.0</td>\n",
       "      <td>543719.613202</td>\n",
       "      <td>2.137686e+05</td>\n",
       "      <td>499040.613202</td>\n",
       "      <td>169089.626152</td>\n",
       "    </tr>\n",
       "    <tr>\n",
       "      <td>...</td>\n",
       "      <td>...</td>\n",
       "      <td>...</td>\n",
       "      <td>...</td>\n",
       "      <td>...</td>\n",
       "      <td>...</td>\n",
       "    </tr>\n",
       "    <tr>\n",
       "      <td>5219</td>\n",
       "      <td>535719.0</td>\n",
       "      <td>543719.613202</td>\n",
       "      <td>4.652660e+05</td>\n",
       "      <td>8000.613202</td>\n",
       "      <td>-70452.979330</td>\n",
       "    </tr>\n",
       "    <tr>\n",
       "      <td>12253</td>\n",
       "      <td>231304.0</td>\n",
       "      <td>543719.613202</td>\n",
       "      <td>1.406528e+05</td>\n",
       "      <td>312415.613202</td>\n",
       "      <td>-90651.244437</td>\n",
       "    </tr>\n",
       "    <tr>\n",
       "      <td>1346</td>\n",
       "      <td>1116000.0</td>\n",
       "      <td>543719.613202</td>\n",
       "      <td>1.443775e+06</td>\n",
       "      <td>-572280.386798</td>\n",
       "      <td>327774.880737</td>\n",
       "    </tr>\n",
       "    <tr>\n",
       "      <td>11647</td>\n",
       "      <td>353000.0</td>\n",
       "      <td>543719.613202</td>\n",
       "      <td>2.824829e+05</td>\n",
       "      <td>190719.613202</td>\n",
       "      <td>-70517.126626</td>\n",
       "    </tr>\n",
       "    <tr>\n",
       "      <td>3582</td>\n",
       "      <td>117904.0</td>\n",
       "      <td>543719.613202</td>\n",
       "      <td>3.909026e+05</td>\n",
       "      <td>425815.613202</td>\n",
       "      <td>272998.615377</td>\n",
       "    </tr>\n",
       "  </tbody>\n",
       "</table>\n",
       "<p>11241 rows × 5 columns</p>\n",
       "</div>"
      ],
      "text/plain": [
       "          actual        yhat_bl  linear_predictions    residual_bl  \\\n",
       "1860    208558.0  543719.613202        4.112534e+05  335161.613202   \n",
       "442     757831.0  543719.613202        9.964268e+05 -214111.386798   \n",
       "14935   446004.0  543719.613202        4.330799e+05   97715.613202   \n",
       "5221    613428.0  543719.613202        6.525366e+05  -69708.386798   \n",
       "3663     44679.0  543719.613202        2.137686e+05  499040.613202   \n",
       "...          ...            ...                 ...            ...   \n",
       "5219    535719.0  543719.613202        4.652660e+05    8000.613202   \n",
       "12253   231304.0  543719.613202        1.406528e+05  312415.613202   \n",
       "1346   1116000.0  543719.613202        1.443775e+06 -572280.386798   \n",
       "11647   353000.0  543719.613202        2.824829e+05  190719.613202   \n",
       "3582    117904.0  543719.613202        3.909026e+05  425815.613202   \n",
       "\n",
       "         residual_lm  \n",
       "1860   202695.442740  \n",
       "442    238595.757168  \n",
       "14935  -12924.069121  \n",
       "5221    39108.557265  \n",
       "3663   169089.626152  \n",
       "...              ...  \n",
       "5219   -70452.979330  \n",
       "12253  -90651.244437  \n",
       "1346   327774.880737  \n",
       "11647  -70517.126626  \n",
       "3582   272998.615377  \n",
       "\n",
       "[11241 rows x 5 columns]"
      ]
     },
     "execution_count": 29,
     "metadata": {},
     "output_type": "execute_result"
    }
   ],
   "source": [
    "model_df['residual_lm'] = model_df['linear_predictions'] - model_df['actual']\n",
    "model_df"
   ]
  },
  {
   "cell_type": "code",
   "execution_count": 30,
   "metadata": {},
   "outputs": [],
   "source": [
    "mse_linear = mse(model_df.actual, model_df.linear_predictions)\n",
    "mse_bl = mse(model_df.actual, model_df.yhat_bl)"
   ]
  },
  {
   "cell_type": "code",
   "execution_count": 31,
   "metadata": {},
   "outputs": [
    {
     "data": {
      "text/plain": [
       "(574158.3351089557, 731765.1378079755)"
      ]
     },
     "execution_count": 31,
     "metadata": {},
     "output_type": "execute_result"
    }
   ],
   "source": [
    "RMSE = sqrt(mse_linear)\n",
    "RMSE_bl = sqrt(mse_bl)\n",
    "(RMSE, RMSE_bl)"
   ]
  },
  {
   "cell_type": "markdown",
   "metadata": {},
   "source": [
    "- Those are big numbers, let's make this simple:\n",
    "> Is the RMSE of the linear model less than the RMSE of the baseline model?"
   ]
  },
  {
   "cell_type": "code",
   "execution_count": 32,
   "metadata": {},
   "outputs": [
    {
     "data": {
      "text/plain": [
       "True"
      ]
     },
     "execution_count": 32,
     "metadata": {},
     "output_type": "execute_result"
    }
   ],
   "source": [
    "RMSE < RMSE_bl"
   ]
  },
  {
   "cell_type": "code",
   "execution_count": 33,
   "metadata": {},
   "outputs": [
    {
     "data": {
      "text/plain": [
       "543719.6132017651"
      ]
     },
     "execution_count": 33,
     "metadata": {},
     "output_type": "execute_result"
    }
   ],
   "source": [
    "model_df.yhat_bl.mean()"
   ]
  },
  {
   "cell_type": "code",
   "execution_count": 34,
   "metadata": {},
   "outputs": [
    {
     "data": {
      "text/plain": [
       "543719.6132016738"
      ]
     },
     "execution_count": 34,
     "metadata": {},
     "output_type": "execute_result"
    }
   ],
   "source": [
    "model_df.linear_predictions.mean()"
   ]
  },
  {
   "cell_type": "code",
   "execution_count": 35,
   "metadata": {},
   "outputs": [
    {
     "data": {
      "text/plain": [
       "<matplotlib.axes._subplots.AxesSubplot at 0x1a1dbb3890>"
      ]
     },
     "execution_count": 35,
     "metadata": {},
     "output_type": "execute_result"
    },
    {
     "data": {
      "image/png": "[encoded data removed]",
      "text/plain": [
       "<Figure size 432x288 with 1 Axes>"
      ]
     },
     "metadata": {
      "needs_background": "light"
     },
     "output_type": "display_data"
    }
   ],
   "source": [
    "sns.scatterplot(model_df.actual, model_df.residual_lm)"
   ]
  },
  {
   "cell_type": "markdown",
   "metadata": {},
   "source": [
    "- The linear model is an improvement! \n",
    "- There appears to be a fairly distinct pattern in the data suggesting that there are some drivers not accounted for\n",
    "- Let's apply the linear model to the test data"
   ]
  },
  {
   "cell_type": "code",
   "execution_count": 36,
   "metadata": {},
   "outputs": [],
   "source": [
    "one = model_df.residual_lm.mean()"
   ]
  },
  {
   "cell_type": "code",
   "execution_count": 37,
   "metadata": {},
   "outputs": [],
   "source": [
    "two = model_df.residual_bl.mean()"
   ]
  },
  {
   "cell_type": "code",
   "execution_count": 38,
   "metadata": {},
   "outputs": [
    {
     "data": {
      "text/plain": [
       "True"
      ]
     },
     "execution_count": 38,
     "metadata": {},
     "output_type": "execute_result"
    }
   ],
   "source": [
    "one < two"
   ]
  },
  {
   "cell_type": "code",
   "execution_count": 39,
   "metadata": {},
   "outputs": [
    {
     "data": {
      "text/plain": [
       "(3748, 7)"
      ]
     },
     "execution_count": 39,
     "metadata": {},
     "output_type": "execute_result"
    }
   ],
   "source": [
    "test.shape"
   ]
  },
  {
   "cell_type": "code",
   "execution_count": 40,
   "metadata": {},
   "outputs": [
    {
     "data": {
      "text/html": [
       "<div>\n",
       "<style scoped>\n",
       "    .dataframe tbody tr th:only-of-type {\n",
       "        vertical-align: middle;\n",
       "    }\n",
       "\n",
       "    .dataframe tbody tr th {\n",
       "        vertical-align: top;\n",
       "    }\n",
       "\n",
       "    .dataframe thead th {\n",
       "        text-align: right;\n",
       "    }\n",
       "</style>\n",
       "<table border=\"1\" class=\"dataframe\">\n",
       "  <thead>\n",
       "    <tr style=\"text-align: right;\">\n",
       "      <th></th>\n",
       "      <th>home_value</th>\n",
       "    </tr>\n",
       "  </thead>\n",
       "  <tbody>\n",
       "    <tr>\n",
       "      <td>3144</td>\n",
       "      <td>286000.0</td>\n",
       "    </tr>\n",
       "    <tr>\n",
       "      <td>6315</td>\n",
       "      <td>750000.0</td>\n",
       "    </tr>\n",
       "    <tr>\n",
       "      <td>2442</td>\n",
       "      <td>279000.0</td>\n",
       "    </tr>\n",
       "    <tr>\n",
       "      <td>4483</td>\n",
       "      <td>559002.0</td>\n",
       "    </tr>\n",
       "    <tr>\n",
       "      <td>9536</td>\n",
       "      <td>1177495.0</td>\n",
       "    </tr>\n",
       "  </tbody>\n",
       "</table>\n",
       "</div>"
      ],
      "text/plain": [
       "      home_value\n",
       "3144    286000.0\n",
       "6315    750000.0\n",
       "2442    279000.0\n",
       "4483    559002.0\n",
       "9536   1177495.0"
      ]
     },
     "execution_count": 40,
     "metadata": {},
     "output_type": "execute_result"
    }
   ],
   "source": [
    "testdf = y_test.copy()\n",
    "testdf.head()"
   ]
  },
  {
   "cell_type": "code",
   "execution_count": 41,
   "metadata": {},
   "outputs": [
    {
     "data": {
      "text/html": [
       "<div>\n",
       "<style scoped>\n",
       "    .dataframe tbody tr th:only-of-type {\n",
       "        vertical-align: middle;\n",
       "    }\n",
       "\n",
       "    .dataframe tbody tr th {\n",
       "        vertical-align: top;\n",
       "    }\n",
       "\n",
       "    .dataframe thead th {\n",
       "        text-align: right;\n",
       "    }\n",
       "</style>\n",
       "<table border=\"1\" class=\"dataframe\">\n",
       "  <thead>\n",
       "    <tr style=\"text-align: right;\">\n",
       "      <th></th>\n",
       "      <th>actual</th>\n",
       "    </tr>\n",
       "  </thead>\n",
       "  <tbody>\n",
       "    <tr>\n",
       "      <td>3144</td>\n",
       "      <td>286000.0</td>\n",
       "    </tr>\n",
       "    <tr>\n",
       "      <td>6315</td>\n",
       "      <td>750000.0</td>\n",
       "    </tr>\n",
       "    <tr>\n",
       "      <td>2442</td>\n",
       "      <td>279000.0</td>\n",
       "    </tr>\n",
       "    <tr>\n",
       "      <td>4483</td>\n",
       "      <td>559002.0</td>\n",
       "    </tr>\n",
       "    <tr>\n",
       "      <td>9536</td>\n",
       "      <td>1177495.0</td>\n",
       "    </tr>\n",
       "  </tbody>\n",
       "</table>\n",
       "</div>"
      ],
      "text/plain": [
       "         actual\n",
       "3144   286000.0\n",
       "6315   750000.0\n",
       "2442   279000.0\n",
       "4483   559002.0\n",
       "9536  1177495.0"
      ]
     },
     "execution_count": 41,
     "metadata": {},
     "output_type": "execute_result"
    }
   ],
   "source": [
    "testdf = testdf.rename(columns={'home_value':'actual'})\n",
    "testdf.head()"
   ]
  },
  {
   "cell_type": "code",
   "execution_count": 42,
   "metadata": {},
   "outputs": [
    {
     "data": {
      "text/html": [
       "<div>\n",
       "<style scoped>\n",
       "    .dataframe tbody tr th:only-of-type {\n",
       "        vertical-align: middle;\n",
       "    }\n",
       "\n",
       "    .dataframe tbody tr th {\n",
       "        vertical-align: top;\n",
       "    }\n",
       "\n",
       "    .dataframe thead th {\n",
       "        text-align: right;\n",
       "    }\n",
       "</style>\n",
       "<table border=\"1\" class=\"dataframe\">\n",
       "  <thead>\n",
       "    <tr style=\"text-align: right;\">\n",
       "      <th></th>\n",
       "      <th>actual</th>\n",
       "      <th>yhat_bl</th>\n",
       "    </tr>\n",
       "  </thead>\n",
       "  <tbody>\n",
       "    <tr>\n",
       "      <td>3144</td>\n",
       "      <td>286000.0</td>\n",
       "      <td>535671.444237</td>\n",
       "    </tr>\n",
       "    <tr>\n",
       "      <td>6315</td>\n",
       "      <td>750000.0</td>\n",
       "      <td>535671.444237</td>\n",
       "    </tr>\n",
       "    <tr>\n",
       "      <td>2442</td>\n",
       "      <td>279000.0</td>\n",
       "      <td>535671.444237</td>\n",
       "    </tr>\n",
       "    <tr>\n",
       "      <td>4483</td>\n",
       "      <td>559002.0</td>\n",
       "      <td>535671.444237</td>\n",
       "    </tr>\n",
       "    <tr>\n",
       "      <td>9536</td>\n",
       "      <td>1177495.0</td>\n",
       "      <td>535671.444237</td>\n",
       "    </tr>\n",
       "  </tbody>\n",
       "</table>\n",
       "</div>"
      ],
      "text/plain": [
       "         actual        yhat_bl\n",
       "3144   286000.0  535671.444237\n",
       "6315   750000.0  535671.444237\n",
       "2442   279000.0  535671.444237\n",
       "4483   559002.0  535671.444237\n",
       "9536  1177495.0  535671.444237"
      ]
     },
     "execution_count": 42,
     "metadata": {},
     "output_type": "execute_result"
    }
   ],
   "source": [
    "testdf['yhat_bl'] = testdf['actual'].mean()\n",
    "testdf.head()"
   ]
  },
  {
   "cell_type": "code",
   "execution_count": 43,
   "metadata": {},
   "outputs": [],
   "source": [
    "linear_model=LinearRegression()\n",
    "linear_model.fit(X_test,y_test)\n",
    "linear_predictions=linear_model.predict(X_test)\n",
    "testdf[\"linear_predictions\"]=linear_predictions"
   ]
  },
  {
   "cell_type": "code",
   "execution_count": 44,
   "metadata": {},
   "outputs": [
    {
     "data": {
      "text/html": [
       "<div>\n",
       "<style scoped>\n",
       "    .dataframe tbody tr th:only-of-type {\n",
       "        vertical-align: middle;\n",
       "    }\n",
       "\n",
       "    .dataframe tbody tr th {\n",
       "        vertical-align: top;\n",
       "    }\n",
       "\n",
       "    .dataframe thead th {\n",
       "        text-align: right;\n",
       "    }\n",
       "</style>\n",
       "<table border=\"1\" class=\"dataframe\">\n",
       "  <thead>\n",
       "    <tr style=\"text-align: right;\">\n",
       "      <th></th>\n",
       "      <th>actual</th>\n",
       "      <th>yhat_bl</th>\n",
       "      <th>linear_predictions</th>\n",
       "    </tr>\n",
       "  </thead>\n",
       "  <tbody>\n",
       "    <tr>\n",
       "      <td>3144</td>\n",
       "      <td>286000.0</td>\n",
       "      <td>535671.444237</td>\n",
       "      <td>8.928387e+05</td>\n",
       "    </tr>\n",
       "    <tr>\n",
       "      <td>6315</td>\n",
       "      <td>750000.0</td>\n",
       "      <td>535671.444237</td>\n",
       "      <td>5.587883e+05</td>\n",
       "    </tr>\n",
       "    <tr>\n",
       "      <td>2442</td>\n",
       "      <td>279000.0</td>\n",
       "      <td>535671.444237</td>\n",
       "      <td>6.869413e+05</td>\n",
       "    </tr>\n",
       "    <tr>\n",
       "      <td>4483</td>\n",
       "      <td>559002.0</td>\n",
       "      <td>535671.444237</td>\n",
       "      <td>1.211391e+06</td>\n",
       "    </tr>\n",
       "    <tr>\n",
       "      <td>9536</td>\n",
       "      <td>1177495.0</td>\n",
       "      <td>535671.444237</td>\n",
       "      <td>8.811253e+05</td>\n",
       "    </tr>\n",
       "    <tr>\n",
       "      <td>...</td>\n",
       "      <td>...</td>\n",
       "      <td>...</td>\n",
       "      <td>...</td>\n",
       "    </tr>\n",
       "    <tr>\n",
       "      <td>11625</td>\n",
       "      <td>271949.0</td>\n",
       "      <td>535671.444237</td>\n",
       "      <td>9.483376e+05</td>\n",
       "    </tr>\n",
       "    <tr>\n",
       "      <td>1275</td>\n",
       "      <td>119393.0</td>\n",
       "      <td>535671.444237</td>\n",
       "      <td>4.385177e+05</td>\n",
       "    </tr>\n",
       "    <tr>\n",
       "      <td>5753</td>\n",
       "      <td>497915.0</td>\n",
       "      <td>535671.444237</td>\n",
       "      <td>9.547515e+05</td>\n",
       "    </tr>\n",
       "    <tr>\n",
       "      <td>10039</td>\n",
       "      <td>321393.0</td>\n",
       "      <td>535671.444237</td>\n",
       "      <td>5.140308e+05</td>\n",
       "    </tr>\n",
       "    <tr>\n",
       "      <td>1029</td>\n",
       "      <td>148658.0</td>\n",
       "      <td>535671.444237</td>\n",
       "      <td>5.418744e+05</td>\n",
       "    </tr>\n",
       "  </tbody>\n",
       "</table>\n",
       "<p>3748 rows × 3 columns</p>\n",
       "</div>"
      ],
      "text/plain": [
       "          actual        yhat_bl  linear_predictions\n",
       "3144    286000.0  535671.444237        8.928387e+05\n",
       "6315    750000.0  535671.444237        5.587883e+05\n",
       "2442    279000.0  535671.444237        6.869413e+05\n",
       "4483    559002.0  535671.444237        1.211391e+06\n",
       "9536   1177495.0  535671.444237        8.811253e+05\n",
       "...          ...            ...                 ...\n",
       "11625   271949.0  535671.444237        9.483376e+05\n",
       "1275    119393.0  535671.444237        4.385177e+05\n",
       "5753    497915.0  535671.444237        9.547515e+05\n",
       "10039   321393.0  535671.444237        5.140308e+05\n",
       "1029    148658.0  535671.444237        5.418744e+05\n",
       "\n",
       "[3748 rows x 3 columns]"
      ]
     },
     "execution_count": 44,
     "metadata": {},
     "output_type": "execute_result"
    }
   ],
   "source": [
    "testdf"
   ]
  },
  {
   "cell_type": "code",
   "execution_count": 45,
   "metadata": {},
   "outputs": [],
   "source": [
    "mse_linear = mse(testdf.actual, testdf.linear_predictions)\n",
    "mse_bl = mse(testdf.actual, testdf.yhat_bl)"
   ]
  },
  {
   "cell_type": "code",
   "execution_count": 46,
   "metadata": {},
   "outputs": [
    {
     "data": {
      "text/plain": [
       "(573137.2960747385, 728415.0120288163)"
      ]
     },
     "execution_count": 46,
     "metadata": {},
     "output_type": "execute_result"
    }
   ],
   "source": [
    "RMSE = sqrt(mse_linear)\n",
    "RMSE_bl = sqrt(mse_bl)\n",
    "(RMSE, RMSE_bl)"
   ]
  },
  {
   "cell_type": "code",
   "execution_count": 47,
   "metadata": {},
   "outputs": [
    {
     "data": {
      "text/plain": [
       "True"
      ]
     },
     "execution_count": 47,
     "metadata": {},
     "output_type": "execute_result"
    }
   ],
   "source": [
    "RMSE < RMSE_bl"
   ]
  },
  {
   "cell_type": "markdown",
   "metadata": {},
   "source": [
    "# Conclusions"
   ]
  },
  {
   "cell_type": "markdown",
   "metadata": {},
   "source": [
    "- The linear regression model based on the variables square footage, bedroom count, and bathroom count, produced better predictions than the baseline model.\n",
    "- The null hypothesis (**$H_0$: Bedroom count bathroom count and square footage have no effect on the value of a single-family home**) is rejected.\n",
    "- Based on the correlations between the independent variables, I recommend including a degree of feature engineering, and inclusion of more features in the initial dataset to create more fields that better predict the value of a home."
   ]
  },
  {
   "cell_type": "code",
   "execution_count": null,
   "metadata": {},
   "outputs": [],
   "source": []
  }
 ],
 "metadata": {
  "kernelspec": {
   "display_name": "Python 3",
   "language": "python",
   "name": "python3"
  },
  "language_info": {
   "codemirror_mode": {
    "name": "ipython",
    "version": 3
   },
   "file_extension": ".py",
   "mimetype": "text/x-python",
   "name": "python",
   "nbconvert_exporter": "python",
   "pygments_lexer": "ipython3",
   "version": "3.7.4"
  }
 },
 "nbformat": 4,
 "nbformat_minor": 2
}

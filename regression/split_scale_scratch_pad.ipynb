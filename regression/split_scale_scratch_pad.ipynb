{
 "cells": [
  {
   "cell_type": "code",
   "execution_count": 1,
   "metadata": {},
   "outputs": [],
   "source": [
    "import pandas as pd\n",
    "import numpy as np\n",
    "import warnings\n",
    "warnings.filterwarnings(\"ignore\")\n",
    "\n",
    "from sklearn.model_selection import train_test_split\n",
    "from sklearn.preprocessing import StandardScaler, QuantileTransformer, PowerTransformer, RobustScaler, MinMaxScaler\n",
    "\n",
    "from wrangle import wrangle_telco\n",
    "import split_scale"
   ]
  },
  {
   "cell_type": "markdown",
   "metadata": {},
   "source": [
    "Pull in data using wrangle_telco from the wrangle.py file. This will return a dataframe that we name df. Check the shape"
   ]
  },
  {
   "cell_type": "code",
   "execution_count": 2,
   "metadata": {},
   "outputs": [
    {
     "data": {
      "text/plain": [
       "(     customer_id  monthly_charges  tenure  total_charges contract_type\n",
       " 5348  0013-SMEOE           109.70      71        7904.25      Two year\n",
       " 5349  0014-BMAQU            84.65      63        5377.80      Two year\n",
       " 5350  0016-QLJIS            90.45      65        5957.90      Two year\n",
       " 5351  0017-DINOC            45.20      54        2460.55      Two year\n",
       " 5352  0017-IUDMW           116.80      72        8456.75      Two year\n",
       " ...          ...              ...     ...            ...           ...\n",
       " 7038  9964-WBQDJ            24.40      71        1725.40      Two year\n",
       " 7039  9972-EWRJS            19.25      67        1372.90      Two year\n",
       " 7040  9975-GPKZU            19.75      46         856.50      Two year\n",
       " 7041  9993-LHIEB            67.85      67        4627.65      Two year\n",
       " 7042  9995-HOTOH            59.00      63        3707.60      Two year\n",
       " \n",
       " [1685 rows x 5 columns], (1685, 5))"
      ]
     },
     "execution_count": 2,
     "metadata": {},
     "output_type": "execute_result"
    }
   ],
   "source": [
    "df = wrangle_telco()\n",
    "df, df.shape"
   ]
  },
  {
   "cell_type": "markdown",
   "metadata": {},
   "source": [
    "After the dataframe is pulled in, create a function to split the data using the import from sklearn.model_selection. Use the train_test_split function.\n",
    "The random_state parameter allows the data to be selected randomly from the whole dataframe instead of the data being selected sequentially. For the purpose of reporduceability, set the random_state to a seed"
   ]
  },
  {
   "cell_type": "code",
   "execution_count": 3,
   "metadata": {},
   "outputs": [],
   "source": [
    "def split_data(df, train_pct=0.75, seed=123):\n",
    "    train, test = train_test_split(df, train_size=train_pct, random_state=seed)\n",
    "    return train, test"
   ]
  },
  {
   "cell_type": "markdown",
   "metadata": {},
   "source": [
    "Call the function. Remember to set the variable names as a tuple as the function returns two things"
   ]
  },
  {
   "cell_type": "code",
   "execution_count": 4,
   "metadata": {},
   "outputs": [],
   "source": [
    "train, test = split_data(df)"
   ]
  },
  {
   "cell_type": "markdown",
   "metadata": {},
   "source": [
    "Look at the train data to ensure it looks like what you think it should. Check the shape. There should be less rows but the same number of columns"
   ]
  },
  {
   "cell_type": "code",
   "execution_count": 5,
   "metadata": {},
   "outputs": [
    {
     "data": {
      "text/html": [
       "<div>\n",
       "<style scoped>\n",
       "    .dataframe tbody tr th:only-of-type {\n",
       "        vertical-align: middle;\n",
       "    }\n",
       "\n",
       "    .dataframe tbody tr th {\n",
       "        vertical-align: top;\n",
       "    }\n",
       "\n",
       "    .dataframe thead th {\n",
       "        text-align: right;\n",
       "    }\n",
       "</style>\n",
       "<table border=\"1\" class=\"dataframe\">\n",
       "  <thead>\n",
       "    <tr style=\"text-align: right;\">\n",
       "      <th></th>\n",
       "      <th>customer_id</th>\n",
       "      <th>monthly_charges</th>\n",
       "      <th>tenure</th>\n",
       "      <th>total_charges</th>\n",
       "      <th>contract_type</th>\n",
       "    </tr>\n",
       "  </thead>\n",
       "  <tbody>\n",
       "    <tr>\n",
       "      <td>5663</td>\n",
       "      <td>1971-DTCZB</td>\n",
       "      <td>90.95</td>\n",
       "      <td>72</td>\n",
       "      <td>6468.6</td>\n",
       "      <td>Two year</td>\n",
       "    </tr>\n",
       "    <tr>\n",
       "      <td>6552</td>\n",
       "      <td>7157-SMCFK</td>\n",
       "      <td>19.75</td>\n",
       "      <td>61</td>\n",
       "      <td>1124.2</td>\n",
       "      <td>Two year</td>\n",
       "    </tr>\n",
       "    <tr>\n",
       "      <td>5695</td>\n",
       "      <td>2167-FQSTQ</td>\n",
       "      <td>92.40</td>\n",
       "      <td>72</td>\n",
       "      <td>6786.1</td>\n",
       "      <td>Two year</td>\n",
       "    </tr>\n",
       "    <tr>\n",
       "      <td>6816</td>\n",
       "      <td>8659-IOOPU</td>\n",
       "      <td>100.45</td>\n",
       "      <td>71</td>\n",
       "      <td>7159.7</td>\n",
       "      <td>Two year</td>\n",
       "    </tr>\n",
       "    <tr>\n",
       "      <td>6719</td>\n",
       "      <td>8125-QPFJD</td>\n",
       "      <td>84.90</td>\n",
       "      <td>72</td>\n",
       "      <td>6065.3</td>\n",
       "      <td>Two year</td>\n",
       "    </tr>\n",
       "  </tbody>\n",
       "</table>\n",
       "</div>"
      ],
      "text/plain": [
       "     customer_id  monthly_charges  tenure  total_charges contract_type\n",
       "5663  1971-DTCZB            90.95      72         6468.6      Two year\n",
       "6552  7157-SMCFK            19.75      61         1124.2      Two year\n",
       "5695  2167-FQSTQ            92.40      72         6786.1      Two year\n",
       "6816  8659-IOOPU           100.45      71         7159.7      Two year\n",
       "6719  8125-QPFJD            84.90      72         6065.3      Two year"
      ]
     },
     "execution_count": 5,
     "metadata": {},
     "output_type": "execute_result"
    }
   ],
   "source": [
    "train.head()"
   ]
  },
  {
   "cell_type": "code",
   "execution_count": 6,
   "metadata": {},
   "outputs": [
    {
     "data": {
      "text/plain": [
       "(1263, 5)"
      ]
     },
     "execution_count": 6,
     "metadata": {},
     "output_type": "execute_result"
    }
   ],
   "source": [
    "train.shape"
   ]
  },
  {
   "cell_type": "markdown",
   "metadata": {},
   "source": [
    "There are now 1263 rows. Original df had 1685. Df has been split correctly"
   ]
  },
  {
   "cell_type": "markdown",
   "metadata": {},
   "source": [
    "Create a function that separates the target and dependent features into test and train variables"
   ]
  },
  {
   "cell_type": "code",
   "execution_count": 7,
   "metadata": {},
   "outputs": [],
   "source": [
    "def create_train_test_variables(train, test):\n",
    "    X_train = train[['tenure']]\n",
    "    X_test = test[['tenure']]\n",
    "    y_train = [['total_charges']]\n",
    "    y_test = [['total_charges']]\n",
    "    return X_train, X_test, y_train, y_test"
   ]
  },
  {
   "cell_type": "code",
   "execution_count": 8,
   "metadata": {},
   "outputs": [],
   "source": [
    "X_train, X_test, y_train, y_test = create_train_test_variables(train, test)"
   ]
  },
  {
   "cell_type": "markdown",
   "metadata": {},
   "source": [
    "Create a function that returns the scaler object, the X_train and X_test data scaled and in a dataframe format. Use scaler imports from sklearn library. \n",
    "Follow the following format:\n",
    "> 1. Create the scaler object\n",
    "> 2. Fit the object using the train variable. (This is what actually trians the model)\n",
    "> 3. Transform the scaler and set the column names and indexes to be the same as the original df\n",
    "> 4. Repeat steps 2 and 3 for the test variable\n",
    "> 5. Return the scaler object, and the X_train and X_test scaled data. They should now be dataframes"
   ]
  },
  {
   "cell_type": "code",
   "execution_count": 9,
   "metadata": {},
   "outputs": [],
   "source": [
    "def standard_scaler(X_train, X_test):\n",
    "    \"\"\"\n",
    "    Takes in X_train and X_test dataframes with numeric values only\n",
    "    Returns scaler, X_train_scaled, X_test_scaled dfs\n",
    "    \"\"\"\n",
    "    scaler = StandardScaler().fit(X_train)\n",
    "    X_train_scaled = (pd.DataFrame(scaler.transform(X_train), \n",
    "                      columns=X_train.columns, \n",
    "                      index=X_train.index))\n",
    "    X_test_scaled = (pd.DataFrame(scaler.transform(X_test), \n",
    "                     columns=X_test.columns,\n",
    "                     index=X_test.index))\n",
    "    return scaler, X_train_scaled, X_test_scaled"
   ]
  },
  {
   "cell_type": "markdown",
   "metadata": {},
   "source": [
    "Call the funtion, remember that the output is a tuple with three outputs so use three names for the varibles"
   ]
  },
  {
   "cell_type": "code",
   "execution_count": 10,
   "metadata": {},
   "outputs": [],
   "source": [
    "scaler, X_train_scaled, X_test_scaled = split_scale.standard_scaler(X_train, X_test)"
   ]
  },
  {
   "cell_type": "markdown",
   "metadata": {},
   "source": [
    "Look at the train and test scaled data"
   ]
  },
  {
   "cell_type": "code",
   "execution_count": 11,
   "metadata": {},
   "outputs": [
    {
     "data": {
      "text/html": [
       "<div>\n",
       "<style scoped>\n",
       "    .dataframe tbody tr th:only-of-type {\n",
       "        vertical-align: middle;\n",
       "    }\n",
       "\n",
       "    .dataframe tbody tr th {\n",
       "        vertical-align: top;\n",
       "    }\n",
       "\n",
       "    .dataframe thead th {\n",
       "        text-align: right;\n",
       "    }\n",
       "</style>\n",
       "<table border=\"1\" class=\"dataframe\">\n",
       "  <thead>\n",
       "    <tr style=\"text-align: right;\">\n",
       "      <th></th>\n",
       "      <th>tenure</th>\n",
       "    </tr>\n",
       "  </thead>\n",
       "  <tbody>\n",
       "    <tr>\n",
       "      <td>5663</td>\n",
       "      <td>0.849158</td>\n",
       "    </tr>\n",
       "    <tr>\n",
       "      <td>6552</td>\n",
       "      <td>0.225025</td>\n",
       "    </tr>\n",
       "    <tr>\n",
       "      <td>5695</td>\n",
       "      <td>0.849158</td>\n",
       "    </tr>\n",
       "    <tr>\n",
       "      <td>6816</td>\n",
       "      <td>0.792418</td>\n",
       "    </tr>\n",
       "    <tr>\n",
       "      <td>6719</td>\n",
       "      <td>0.849158</td>\n",
       "    </tr>\n",
       "  </tbody>\n",
       "</table>\n",
       "</div>"
      ],
      "text/plain": [
       "        tenure\n",
       "5663  0.849158\n",
       "6552  0.225025\n",
       "5695  0.849158\n",
       "6816  0.792418\n",
       "6719  0.849158"
      ]
     },
     "execution_count": 11,
     "metadata": {},
     "output_type": "execute_result"
    }
   ],
   "source": [
    "X_train_scaled.head()"
   ]
  },
  {
   "cell_type": "code",
   "execution_count": 12,
   "metadata": {},
   "outputs": [
    {
     "data": {
      "text/html": [
       "<div>\n",
       "<style scoped>\n",
       "    .dataframe tbody tr th:only-of-type {\n",
       "        vertical-align: middle;\n",
       "    }\n",
       "\n",
       "    .dataframe tbody tr th {\n",
       "        vertical-align: top;\n",
       "    }\n",
       "\n",
       "    .dataframe thead th {\n",
       "        text-align: right;\n",
       "    }\n",
       "</style>\n",
       "<table border=\"1\" class=\"dataframe\">\n",
       "  <thead>\n",
       "    <tr style=\"text-align: right;\">\n",
       "      <th></th>\n",
       "      <th>tenure</th>\n",
       "    </tr>\n",
       "  </thead>\n",
       "  <tbody>\n",
       "    <tr>\n",
       "      <td>5653</td>\n",
       "      <td>0.849158</td>\n",
       "    </tr>\n",
       "    <tr>\n",
       "      <td>5800</td>\n",
       "      <td>0.565461</td>\n",
       "    </tr>\n",
       "    <tr>\n",
       "      <td>6265</td>\n",
       "      <td>0.338504</td>\n",
       "    </tr>\n",
       "    <tr>\n",
       "      <td>6769</td>\n",
       "      <td>0.395243</td>\n",
       "    </tr>\n",
       "    <tr>\n",
       "      <td>6905</td>\n",
       "      <td>-1.874328</td>\n",
       "    </tr>\n",
       "  </tbody>\n",
       "</table>\n",
       "</div>"
      ],
      "text/plain": [
       "        tenure\n",
       "5653  0.849158\n",
       "5800  0.565461\n",
       "6265  0.338504\n",
       "6769  0.395243\n",
       "6905 -1.874328"
      ]
     },
     "execution_count": 12,
     "metadata": {},
     "output_type": "execute_result"
    }
   ],
   "source": [
    "X_test_scaled.head()"
   ]
  },
  {
   "cell_type": "markdown",
   "metadata": {},
   "source": [
    "Create a function to add the scaled train data to the original dataframe. This will make it easier in exploration if there is a case where exploring the non-scaled data is useful"
   ]
  },
  {
   "cell_type": "code",
   "execution_count": 16,
   "metadata": {},
   "outputs": [],
   "source": [
    "def merge_standard_scaled_to_original(df):\n",
    "    X_train = train[['tenure']]\n",
    "    scaler = StandardScaler().fit(X_train)\n",
    "    X_train_scaled = (pd.DataFrame(scaler.transform(X_train), \n",
    "                      columns=X_train.columns, \n",
    "                      index=X_train.index))\n",
    "    df_plus_train = train.merge(X_train_scaled, how='inner', on=None, left_index=True, right_index=True)\n",
    "    df_plus_train.columns = ['customer_id', 'monthly_charges', 'tenure', 'total_charges', 'contract_type',\n",
    "    'tenure_scaled']\n",
    "    return df_plus_train"
   ]
  },
  {
   "cell_type": "code",
   "execution_count": 18,
   "metadata": {},
   "outputs": [
    {
     "data": {
      "text/html": [
       "<div>\n",
       "<style scoped>\n",
       "    .dataframe tbody tr th:only-of-type {\n",
       "        vertical-align: middle;\n",
       "    }\n",
       "\n",
       "    .dataframe tbody tr th {\n",
       "        vertical-align: top;\n",
       "    }\n",
       "\n",
       "    .dataframe thead th {\n",
       "        text-align: right;\n",
       "    }\n",
       "</style>\n",
       "<table border=\"1\" class=\"dataframe\">\n",
       "  <thead>\n",
       "    <tr style=\"text-align: right;\">\n",
       "      <th></th>\n",
       "      <th>customer_id</th>\n",
       "      <th>monthly_charges</th>\n",
       "      <th>tenure</th>\n",
       "      <th>total_charges</th>\n",
       "      <th>contract_type</th>\n",
       "      <th>tenure_scaled</th>\n",
       "    </tr>\n",
       "  </thead>\n",
       "  <tbody>\n",
       "    <tr>\n",
       "      <td>5663</td>\n",
       "      <td>1971-DTCZB</td>\n",
       "      <td>90.95</td>\n",
       "      <td>72</td>\n",
       "      <td>6468.6</td>\n",
       "      <td>Two year</td>\n",
       "      <td>0.849158</td>\n",
       "    </tr>\n",
       "    <tr>\n",
       "      <td>6552</td>\n",
       "      <td>7157-SMCFK</td>\n",
       "      <td>19.75</td>\n",
       "      <td>61</td>\n",
       "      <td>1124.2</td>\n",
       "      <td>Two year</td>\n",
       "      <td>0.225025</td>\n",
       "    </tr>\n",
       "    <tr>\n",
       "      <td>5695</td>\n",
       "      <td>2167-FQSTQ</td>\n",
       "      <td>92.40</td>\n",
       "      <td>72</td>\n",
       "      <td>6786.1</td>\n",
       "      <td>Two year</td>\n",
       "      <td>0.849158</td>\n",
       "    </tr>\n",
       "    <tr>\n",
       "      <td>6816</td>\n",
       "      <td>8659-IOOPU</td>\n",
       "      <td>100.45</td>\n",
       "      <td>71</td>\n",
       "      <td>7159.7</td>\n",
       "      <td>Two year</td>\n",
       "      <td>0.792418</td>\n",
       "    </tr>\n",
       "    <tr>\n",
       "      <td>6719</td>\n",
       "      <td>8125-QPFJD</td>\n",
       "      <td>84.90</td>\n",
       "      <td>72</td>\n",
       "      <td>6065.3</td>\n",
       "      <td>Two year</td>\n",
       "      <td>0.849158</td>\n",
       "    </tr>\n",
       "  </tbody>\n",
       "</table>\n",
       "</div>"
      ],
      "text/plain": [
       "     customer_id  monthly_charges  tenure  total_charges contract_type  \\\n",
       "5663  1971-DTCZB            90.95      72         6468.6      Two year   \n",
       "6552  7157-SMCFK            19.75      61         1124.2      Two year   \n",
       "5695  2167-FQSTQ            92.40      72         6786.1      Two year   \n",
       "6816  8659-IOOPU           100.45      71         7159.7      Two year   \n",
       "6719  8125-QPFJD            84.90      72         6065.3      Two year   \n",
       "\n",
       "      tenure_scaled  \n",
       "5663       0.849158  \n",
       "6552       0.225025  \n",
       "5695       0.849158  \n",
       "6816       0.792418  \n",
       "6719       0.849158  "
      ]
     },
     "execution_count": 18,
     "metadata": {},
     "output_type": "execute_result"
    }
   ],
   "source": [
    "df_plus_train = split_scale.merge_standard_scaled_to_original(train)\n",
    "df_plus_train.head()"
   ]
  },
  {
   "cell_type": "markdown",
   "metadata": {},
   "source": [
    "Create a function"
   ]
  },
  {
   "cell_type": "code",
   "execution_count": null,
   "metadata": {},
   "outputs": [],
   "source": [
    "def scale_inverse(scaler, X_train_scaled, X_test_scaled):\n",
    "    \"\"\"Takes in the scaler and X_train_scaled and X_test_scaled dfs\n",
    "       and returns the X_train and X_test dfs\n",
    "       in their original forms before scaling\n",
    "    \"\"\"\n",
    "    X_train_unscaled = (pd.DataFrame(scaler.inverse_transform(X_train_scaled), \n",
    "                      columns=X_train_scaled.columns, \n",
    "                      index=X_train_scaled.index))\n",
    "    X_test_unscaled = (pd.DataFrame(scaler.inverse_transform(X_test_scaled), \n",
    "                     columns=X_test_scaled.columns,\n",
    "                     index=X_test_scaled.index))\n",
    "    return X_train_unscaled, X_test_unscaled"
   ]
  },
  {
   "cell_type": "code",
   "execution_count": null,
   "metadata": {},
   "outputs": [],
   "source": [
    "X_train_unscaled, X_test_unscaled = scale_inverse(scaler, X_train_scaled, X_test_scaled)"
   ]
  },
  {
   "cell_type": "code",
   "execution_count": null,
   "metadata": {},
   "outputs": [],
   "source": [
    "X_train_unscaled.head()"
   ]
  },
  {
   "cell_type": "code",
   "execution_count": null,
   "metadata": {},
   "outputs": [],
   "source": [
    "X_test_unscaled.head()"
   ]
  },
  {
   "cell_type": "code",
   "execution_count": null,
   "metadata": {},
   "outputs": [],
   "source": [
    "def uniform_scaler(X_train, X_test):\n",
    "    \"\"\"Quantile transformer, non_linear transformation - uniform.\n",
    "       Reduces the impact of outliers, smooths out unusual distributions.\n",
    "       Takes in a X_train and X_test dfs\n",
    "       Returns the scaler, X_train_scaled, X_test_scaled\n",
    "    \"\"\"\n",
    "    scaler = (QuantileTransformer(n_quantiles=100, \n",
    "                                  output_distribution='uniform', \n",
    "                                  random_state=123, copy=True)\n",
    "                                  .fit(X_train))\n",
    "    X_train_scaled = (pd.DataFrame(scaler.transform(X_train), \n",
    "                      columns=X_train.columns, \n",
    "                      index=X_train.index))\n",
    "    X_test_scaled = (pd.DataFrame(scaler.transform(X_test), \n",
    "                     columns=X_test.columns,\n",
    "                     index=X_test.index))\n",
    "    return scaler, X_train_scaled, X_test_scaled"
   ]
  },
  {
   "cell_type": "code",
   "execution_count": null,
   "metadata": {},
   "outputs": [],
   "source": [
    "scaler, X_train_scaled, X_test_scaled = uniform_scaler(X_train, X_test)"
   ]
  },
  {
   "cell_type": "code",
   "execution_count": null,
   "metadata": {},
   "outputs": [],
   "source": [
    "X_train_scaled.head()"
   ]
  },
  {
   "cell_type": "code",
   "execution_count": null,
   "metadata": {},
   "outputs": [],
   "source": [
    "X_test_scaled.head()"
   ]
  },
  {
   "cell_type": "code",
   "execution_count": null,
   "metadata": {},
   "outputs": [],
   "source": [
    "def gaussian_scaler(X_train, X_test):\n",
    "    \"\"\"Transforms and then normalizes data.\n",
    "       Takes in X_train and X_test dfs, \n",
    "       yeo_johnson allows for negative data,\n",
    "       box_cox allows positive data only.\n",
    "       Returns Zero_mean, unit variance normalized X_train_scaled and X_test_scaled and scaler.\n",
    "    \"\"\"\n",
    "    scaler = (PowerTransformer(method='yeo-johnson', \n",
    "                               standardize=False, \n",
    "                               copy=True)\n",
    "                              .fit(X_train))\n",
    "    X_train_scaled = (pd.DataFrame(scaler.transform(X_train), \n",
    "                      columns=X_train.columns, \n",
    "                      index=X_train.index))\n",
    "    X_test_scaled = (pd.DataFrame(scaler.transform(X_test), \n",
    "                     columns=X_test.columns,\n",
    "                     index=X_test.index))\n",
    "    return scaler, X_train_scaled, X_test_scaled"
   ]
  },
  {
   "cell_type": "code",
   "execution_count": null,
   "metadata": {},
   "outputs": [],
   "source": [
    "scaler, X_train_scaled, X_test_scaled = gaussian_scaler(X_train, X_test)"
   ]
  },
  {
   "cell_type": "code",
   "execution_count": null,
   "metadata": {},
   "outputs": [],
   "source": [
    "X_train_scaled.head()"
   ]
  },
  {
   "cell_type": "code",
   "execution_count": null,
   "metadata": {},
   "outputs": [],
   "source": [
    "X_test_scaled.head()"
   ]
  },
  {
   "cell_type": "code",
   "execution_count": null,
   "metadata": {},
   "outputs": [],
   "source": [
    "def min_max_scaler(X_train, X_test):\n",
    "    \"\"\"Transforms features by scaling each feature to a given range.\n",
    "       Takes in X_train and X_test,\n",
    "       Returns the scaler and X_train_scaled and X_test_scaled within range.\n",
    "       Sensitive to outliers.\n",
    "    \"\"\"\n",
    "    scaler = (MinMaxScaler(copy=True, \n",
    "                           feature_range=(0,1))\n",
    "                          .fit(X_train))\n",
    "    X_train_scaled = (pd.DataFrame(scaler.transform(X_train), \n",
    "                      columns=X_train.columns, \n",
    "                      index=X_train.index))\n",
    "    X_test_scaled = (pd.DataFrame(scaler.transform(X_test), \n",
    "                     columns=X_test.columns,\n",
    "                     index=X_test.index))\n",
    "    return scaler, X_train_scaled, X_test_scaled"
   ]
  },
  {
   "cell_type": "code",
   "execution_count": null,
   "metadata": {},
   "outputs": [],
   "source": [
    "scaler, X_train_scaled, X_test_scaled = min_max_scaler(X_train, X_test)"
   ]
  },
  {
   "cell_type": "code",
   "execution_count": null,
   "metadata": {},
   "outputs": [],
   "source": [
    "X_train_scaled.head()"
   ]
  },
  {
   "cell_type": "code",
   "execution_count": null,
   "metadata": {},
   "outputs": [],
   "source": [
    "X_test_scaled.head()"
   ]
  },
  {
   "cell_type": "code",
   "execution_count": null,
   "metadata": {},
   "outputs": [],
   "source": [
    "def iqr_robust_scaler(X_train, X_test):\n",
    "    \"\"\"Scales features using stats that are robust to outliers\n",
    "       by removing the median and scaling data to the IQR.\n",
    "       Takes in a X_train and X_test,\n",
    "       Returns the scaler and X_train_scaled and X_test_scaled.\n",
    "    \"\"\"\n",
    "    scaler = (RobustScaler(quantile_range=(25.0,75.0), \n",
    "                           copy=True, \n",
    "                           with_centering=True, \n",
    "                           with_scaling=True)\n",
    "                          .fit(X_train))\n",
    "    X_train_scaled = (pd.DataFrame(scaler.transform(X_train), \n",
    "                      columns=X_train.columns, \n",
    "                      index=X_train.index))\n",
    "    X_test_scaled = (pd.DataFrame(scaler.transform(X_test), \n",
    "                     columns=X_test.columns,\n",
    "                     index=X_test.index))\n",
    "    return scaler, X_train_scaled, X_test_scaled"
   ]
  },
  {
   "cell_type": "code",
   "execution_count": null,
   "metadata": {},
   "outputs": [],
   "source": [
    "scaler, X_train_scaled, X_test_scaled = iqr_robust_scaler(X_train, X_test)"
   ]
  },
  {
   "cell_type": "code",
   "execution_count": null,
   "metadata": {},
   "outputs": [],
   "source": []
  }
 ],
 "metadata": {
  "kernelspec": {
   "display_name": "Python 3",
   "language": "python",
   "name": "python3"
  },
  "language_info": {
   "codemirror_mode": {
    "name": "ipython",
    "version": 3
   },
   "file_extension": ".py",
   "mimetype": "text/x-python",
   "name": "python",
   "nbconvert_exporter": "python",
   "pygments_lexer": "ipython3",
   "version": "3.7.4"
  }
 },
 "nbformat": 4,
 "nbformat_minor": 2
}

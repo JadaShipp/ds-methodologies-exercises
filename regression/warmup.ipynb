{
 "cells": [
  {
   "cell_type": "markdown",
   "metadata": {},
   "source": [
    "# Dataframe Manipulation Warmup"
   ]
  },
  {
   "cell_type": "code",
   "execution_count": 41,
   "metadata": {},
   "outputs": [],
   "source": [
    "import numpy as np\n",
    "import pandas as pd\n",
    "import math\n",
    "\n",
    "np.random.seed(406)\n",
    "\n",
    "n = 5000\n",
    "df = pd.DataFrame({\n",
    "    'favorite_animal': np.random.choice(['cat', 'dog', 'frog', 'lemur', 'panda'], n),\n",
    "    'favorite_vegetable': np.random.choice(['brussel sprouts', 'potato', 'squash'], n),\n",
    "    'favorite_fruit': np.random.choice(['banana', 'apple', 'blueberries'], n),\n",
    "    'wears_glasses': np.random.choice(['yes', 'no'], n),\n",
    "    'netflix_consumption': np.random.normal(10, 2, n),\n",
    "    'open_browser_tabs': np.random.randint(2, 90, n),\n",
    "})"
   ]
  },
  {
   "cell_type": "markdown",
   "metadata": {},
   "source": [
    "- What is the highest amount of netflix consumption? `17.535`\n",
    "- How many people wear glasses? What percentage of people is this? `2555`, `.511`\n",
    "- How many people's favorite animal is a dog? `1002`\n",
    "- What is the most common favorite animal? `lemur`\n",
    "- What is the average netflix consumption for people that prefer brussel\n",
    "  sprouts? `10.008`\n",
    "- What is the most common favorite fruit for people who wear glasses and have\n",
    "  more than 40 open browser tabs? `blueberries`\n",
    "- What percentage of people have a netflix consumption lower than 7? `.0716`\n",
    "- What is the average netflix consumption for people with less than 30 open\n",
    "  browser tabs? `9.91935`\n",
    "- How many people *don't* wear glasses, have a favorite animal of a panda, have\n",
    "  a favorite fruit of blueberries, and have more than 60 open browser tabs? What\n",
    "  is the median netflix consumption for this group? What is the most common\n",
    "  favorite vegetable for this group? `46`, `10.455`, `potato`\n",
    "- What is the least popular combination of favorite fruit and vegetable? `apple` and `potato`\n",
    "- Which combination of favorite animal and wearing glasses has the highest average\n",
    "  netflix consumption? people that wear glasses and prefer pandas\n",
    "- **Bonus**: for each of the above questions, what kind of visualization would\n",
    "  be the most effective in conveying your answer?"
   ]
  },
  {
   "cell_type": "code",
   "execution_count": 2,
   "metadata": {},
   "outputs": [
    {
     "data": {
      "text/plain": [
       "17.534818515438925"
      ]
     },
     "execution_count": 2,
     "metadata": {},
     "output_type": "execute_result"
    }
   ],
   "source": [
    "# - What is the highest amount of netflix consumption? `17.535`\n",
    "df.netflix_consumption.max()\n"
   ]
  },
  {
   "cell_type": "code",
   "execution_count": 3,
   "metadata": {},
   "outputs": [
    {
     "data": {
      "text/plain": [
       "(2555, 0.511)"
      ]
     },
     "execution_count": 3,
     "metadata": {},
     "output_type": "execute_result"
    }
   ],
   "source": [
    "# How many people wear glasses? What percentage of people is this? 2555, .511\n",
    "filt = df['wears_glasses'] == 'yes'\n",
    "df[filt].wears_glasses.shape[0], (df[filt].wears_glasses.shape[0])/df.shape[0]"
   ]
  },
  {
   "cell_type": "code",
   "execution_count": 4,
   "metadata": {},
   "outputs": [
    {
     "data": {
      "text/plain": [
       "lemur    1028\n",
       "frog     1015\n",
       "dog      1002\n",
       "cat       980\n",
       "panda     975\n",
       "Name: favorite_animal, dtype: int64"
      ]
     },
     "execution_count": 4,
     "metadata": {},
     "output_type": "execute_result"
    }
   ],
   "source": [
    "# How many people's favorite animal is a dog? 1002\n",
    "# What is the most common favorite animal? lemur\n",
    "df.favorite_animal.value_counts()"
   ]
  },
  {
   "cell_type": "code",
   "execution_count": 5,
   "metadata": {},
   "outputs": [
    {
     "data": {
      "text/plain": [
       "10.00847154798366"
      ]
     },
     "execution_count": 5,
     "metadata": {},
     "output_type": "execute_result"
    }
   ],
   "source": [
    "# What is the average netflix consumption for people that prefer brussel sprouts? 10.008\n",
    "df.head()\n",
    "mask = df['favorite_vegetable'] == 'brussel sprouts'\n",
    "df[mask].netflix_consumption.mean()"
   ]
  },
  {
   "cell_type": "code",
   "execution_count": 6,
   "metadata": {},
   "outputs": [
    {
     "data": {
      "text/plain": [
       "blueberries    498\n",
       "apple          477\n",
       "banana         472\n",
       "Name: favorite_fruit, dtype: int64"
      ]
     },
     "execution_count": 6,
     "metadata": {},
     "output_type": "execute_result"
    }
   ],
   "source": [
    "# What is the most common favorite fruit for people who wear glasses \n",
    "# and have more than 40 open browser tabs? blueberries\n",
    "newdf = df[filt]\n",
    "mask2 = newdf['open_browser_tabs'] > 40\n",
    "open_more_than_40 = newdf[mask2]\n",
    "open_more_than_40.favorite_fruit.value_counts()"
   ]
  },
  {
   "cell_type": "code",
   "execution_count": 7,
   "metadata": {},
   "outputs": [
    {
     "data": {
      "text/plain": [
       "0.0716"
      ]
     },
     "execution_count": 7,
     "metadata": {},
     "output_type": "execute_result"
    }
   ],
   "source": [
    "# What percentage of people have a netflix consumption lower than 7? .0716\n",
    "less_than_seven = df.netflix_consumption < 7\n",
    "(less_than_seven.sum())/df.shape[0]"
   ]
  },
  {
   "cell_type": "code",
   "execution_count": 8,
   "metadata": {},
   "outputs": [
    {
     "data": {
      "text/plain": [
       "9.91935736918227"
      ]
     },
     "execution_count": 8,
     "metadata": {},
     "output_type": "execute_result"
    }
   ],
   "source": [
    "# What is the average netflix consumption for people \n",
    "# with less than 30 open browser tabs? 9.91935\n",
    "\n",
    "tabs = df['open_browser_tabs'] < 30\n",
    "df[tabs].netflix_consumption.mean()"
   ]
  },
  {
   "cell_type": "code",
   "execution_count": 40,
   "metadata": {},
   "outputs": [
    {
     "data": {
      "text/plain": [
       "46"
      ]
     },
     "execution_count": 40,
     "metadata": {},
     "output_type": "execute_result"
    }
   ],
   "source": [
    "# # How many people don't wear glasses, have a favorite animal of a panda, \n",
    "# have a favorite fruit of blueberries, and have more than 60 open browser tabs? \n",
    "# What is the median netflix consumption for this group? What is the most common \n",
    "\n",
    "no_glasses = df['wears_glasses'] == 'no'\n",
    "number1 = df[no_glasses]\n",
    "fav_animal = number1['favorite_animal'] == 'panda'\n",
    "number2 = number1[fav_animal]\n",
    "fav_fruit = number2['favorite_fruit'] == 'blueberries'\n",
    "number3 = number2[fav_fruit]\n",
    "how_many = (number3.open_browser_tabs>60).sum()\n",
    "\n",
    "how_many "
   ]
  },
  {
   "cell_type": "code",
   "execution_count": 39,
   "metadata": {},
   "outputs": [
    {
     "data": {
      "text/plain": [
       "potato             56\n",
       "squash             46\n",
       "brussel sprouts    45\n",
       "Name: favorite_vegetable, dtype: int64"
      ]
     },
     "execution_count": 39,
     "metadata": {},
     "output_type": "execute_result"
    }
   ],
   "source": [
    "number3.favorite_vegetable.value_counts()"
   ]
  },
  {
   "cell_type": "code",
   "execution_count": 47,
   "metadata": {},
   "outputs": [
    {
     "data": {
      "text/plain": [
       "9.99312415187587"
      ]
     },
     "execution_count": 47,
     "metadata": {},
     "output_type": "execute_result"
    }
   ],
   "source": [
    "number3.netflix_consumption.sort_values().median()"
   ]
  },
  {
   "cell_type": "code",
   "execution_count": 66,
   "metadata": {},
   "outputs": [
    {
     "data": {
      "text/html": [
       "<div>\n",
       "<style scoped>\n",
       "    .dataframe tbody tr th:only-of-type {\n",
       "        vertical-align: middle;\n",
       "    }\n",
       "\n",
       "    .dataframe tbody tr th {\n",
       "        vertical-align: top;\n",
       "    }\n",
       "\n",
       "    .dataframe thead th {\n",
       "        text-align: right;\n",
       "    }\n",
       "</style>\n",
       "<table border=\"1\" class=\"dataframe\">\n",
       "  <thead>\n",
       "    <tr style=\"text-align: right;\">\n",
       "      <th>favorite_vegetable</th>\n",
       "      <th>brussel sprouts</th>\n",
       "      <th>potato</th>\n",
       "      <th>squash</th>\n",
       "    </tr>\n",
       "    <tr>\n",
       "      <th>favorite_fruit</th>\n",
       "      <th></th>\n",
       "      <th></th>\n",
       "      <th></th>\n",
       "    </tr>\n",
       "  </thead>\n",
       "  <tbody>\n",
       "    <tr>\n",
       "      <td>apple</td>\n",
       "      <td>565</td>\n",
       "      <td>512</td>\n",
       "      <td>555</td>\n",
       "    </tr>\n",
       "    <tr>\n",
       "      <td>banana</td>\n",
       "      <td>576</td>\n",
       "      <td>570</td>\n",
       "      <td>524</td>\n",
       "    </tr>\n",
       "    <tr>\n",
       "      <td>blueberries</td>\n",
       "      <td>555</td>\n",
       "      <td>560</td>\n",
       "      <td>583</td>\n",
       "    </tr>\n",
       "  </tbody>\n",
       "</table>\n",
       "</div>"
      ],
      "text/plain": [
       "favorite_vegetable  brussel sprouts  potato  squash\n",
       "favorite_fruit                                     \n",
       "apple                           565     512     555\n",
       "banana                          576     570     524\n",
       "blueberries                     555     560     583"
      ]
     },
     "execution_count": 66,
     "metadata": {},
     "output_type": "execute_result"
    }
   ],
   "source": [
    "# What is the least popular combination of favorite fruit and vegetable? apple and potato\n",
    "columns = ['favorite_fruit', 'favorite_vegetable']\n",
    "two = df[columns]\n",
    "pd.crosstab(two.favorite_fruit, two.favorite_vegetable)"
   ]
  },
  {
   "cell_type": "code",
   "execution_count": 70,
   "metadata": {},
   "outputs": [
    {
     "data": {
      "text/html": [
       "<div>\n",
       "<style scoped>\n",
       "    .dataframe tbody tr th:only-of-type {\n",
       "        vertical-align: middle;\n",
       "    }\n",
       "\n",
       "    .dataframe tbody tr th {\n",
       "        vertical-align: top;\n",
       "    }\n",
       "\n",
       "    .dataframe thead th {\n",
       "        text-align: right;\n",
       "    }\n",
       "</style>\n",
       "<table border=\"1\" class=\"dataframe\">\n",
       "  <thead>\n",
       "    <tr style=\"text-align: right;\">\n",
       "      <th></th>\n",
       "      <th>favorite_animal</th>\n",
       "      <th>favorite_vegetable</th>\n",
       "      <th>favorite_fruit</th>\n",
       "      <th>wears_glasses</th>\n",
       "      <th>netflix_consumption</th>\n",
       "      <th>open_browser_tabs</th>\n",
       "    </tr>\n",
       "  </thead>\n",
       "  <tbody>\n",
       "    <tr>\n",
       "      <td>0</td>\n",
       "      <td>lemur</td>\n",
       "      <td>potato</td>\n",
       "      <td>apple</td>\n",
       "      <td>yes</td>\n",
       "      <td>8.313351</td>\n",
       "      <td>44</td>\n",
       "    </tr>\n",
       "    <tr>\n",
       "      <td>1</td>\n",
       "      <td>panda</td>\n",
       "      <td>potato</td>\n",
       "      <td>apple</td>\n",
       "      <td>yes</td>\n",
       "      <td>11.801073</td>\n",
       "      <td>10</td>\n",
       "    </tr>\n",
       "    <tr>\n",
       "      <td>2</td>\n",
       "      <td>cat</td>\n",
       "      <td>squash</td>\n",
       "      <td>blueberries</td>\n",
       "      <td>yes</td>\n",
       "      <td>10.105141</td>\n",
       "      <td>35</td>\n",
       "    </tr>\n",
       "    <tr>\n",
       "      <td>4</td>\n",
       "      <td>dog</td>\n",
       "      <td>brussel sprouts</td>\n",
       "      <td>apple</td>\n",
       "      <td>yes</td>\n",
       "      <td>6.732698</td>\n",
       "      <td>73</td>\n",
       "    </tr>\n",
       "    <tr>\n",
       "      <td>6</td>\n",
       "      <td>frog</td>\n",
       "      <td>potato</td>\n",
       "      <td>banana</td>\n",
       "      <td>yes</td>\n",
       "      <td>14.849172</td>\n",
       "      <td>4</td>\n",
       "    </tr>\n",
       "    <tr>\n",
       "      <td>...</td>\n",
       "      <td>...</td>\n",
       "      <td>...</td>\n",
       "      <td>...</td>\n",
       "      <td>...</td>\n",
       "      <td>...</td>\n",
       "      <td>...</td>\n",
       "    </tr>\n",
       "    <tr>\n",
       "      <td>4994</td>\n",
       "      <td>frog</td>\n",
       "      <td>squash</td>\n",
       "      <td>banana</td>\n",
       "      <td>yes</td>\n",
       "      <td>6.992568</td>\n",
       "      <td>55</td>\n",
       "    </tr>\n",
       "    <tr>\n",
       "      <td>4995</td>\n",
       "      <td>frog</td>\n",
       "      <td>potato</td>\n",
       "      <td>blueberries</td>\n",
       "      <td>yes</td>\n",
       "      <td>9.992337</td>\n",
       "      <td>59</td>\n",
       "    </tr>\n",
       "    <tr>\n",
       "      <td>4996</td>\n",
       "      <td>frog</td>\n",
       "      <td>potato</td>\n",
       "      <td>apple</td>\n",
       "      <td>yes</td>\n",
       "      <td>8.916902</td>\n",
       "      <td>46</td>\n",
       "    </tr>\n",
       "    <tr>\n",
       "      <td>4998</td>\n",
       "      <td>lemur</td>\n",
       "      <td>squash</td>\n",
       "      <td>blueberries</td>\n",
       "      <td>yes</td>\n",
       "      <td>12.720892</td>\n",
       "      <td>50</td>\n",
       "    </tr>\n",
       "    <tr>\n",
       "      <td>4999</td>\n",
       "      <td>dog</td>\n",
       "      <td>potato</td>\n",
       "      <td>banana</td>\n",
       "      <td>yes</td>\n",
       "      <td>12.890119</td>\n",
       "      <td>53</td>\n",
       "    </tr>\n",
       "  </tbody>\n",
       "</table>\n",
       "<p>2555 rows × 6 columns</p>\n",
       "</div>"
      ],
      "text/plain": [
       "     favorite_animal favorite_vegetable favorite_fruit wears_glasses  \\\n",
       "0              lemur             potato          apple           yes   \n",
       "1              panda             potato          apple           yes   \n",
       "2                cat             squash    blueberries           yes   \n",
       "4                dog    brussel sprouts          apple           yes   \n",
       "6               frog             potato         banana           yes   \n",
       "...              ...                ...            ...           ...   \n",
       "4994            frog             squash         banana           yes   \n",
       "4995            frog             potato    blueberries           yes   \n",
       "4996            frog             potato          apple           yes   \n",
       "4998           lemur             squash    blueberries           yes   \n",
       "4999             dog             potato         banana           yes   \n",
       "\n",
       "      netflix_consumption  open_browser_tabs  \n",
       "0                8.313351                 44  \n",
       "1               11.801073                 10  \n",
       "2               10.105141                 35  \n",
       "4                6.732698                 73  \n",
       "6               14.849172                  4  \n",
       "...                   ...                ...  \n",
       "4994             6.992568                 55  \n",
       "4995             9.992337                 59  \n",
       "4996             8.916902                 46  \n",
       "4998            12.720892                 50  \n",
       "4999            12.890119                 53  \n",
       "\n",
       "[2555 rows x 6 columns]"
      ]
     },
     "execution_count": 70,
     "metadata": {},
     "output_type": "execute_result"
    }
   ],
   "source": [
    "# Which combination of favorite animal and wearing glasses has the highest average netflix consumption? \n",
    "# people that wear glasses and prefer pandas\n",
    "\n",
    "has_glasses = df['wears_glasses'] == 'yes'\n",
    "last = df[has_glasses]\n"
   ]
  },
  {
   "cell_type": "code",
   "execution_count": null,
   "metadata": {},
   "outputs": [],
   "source": []
  }
 ],
 "metadata": {
  "kernelspec": {
   "display_name": "Python 3",
   "language": "python",
   "name": "python3"
  },
  "language_info": {
   "codemirror_mode": {
    "name": "ipython",
    "version": 3
   },
   "file_extension": ".py",
   "mimetype": "text/x-python",
   "name": "python",
   "nbconvert_exporter": "python",
   "pygments_lexer": "ipython3",
   "version": "3.7.4"
  }
 },
 "nbformat": 4,
 "nbformat_minor": 2
}
